{
 "cells": [
  {
   "cell_type": "code",
   "execution_count": 1,
   "metadata": {},
   "outputs": [],
   "source": [
    "# import packages\n",
    "# sds:2020 Docker environment\n",
    "import pandas as pd\n",
    "import statsmodels.api as sm\n",
    "import numpy as np\n",
    "import matplotlib.pyplot as plt\n",
    "import statsmodels.api as sms\n",
    "import seaborn as sns\n",
    "import geopandas as gpd\n",
    "import matplotlib.cm as cm\n",
    "import matplotlib as mpl\n",
    "import re\n",
    "import os\n",
    "\n",
    "import urllib\n",
    "import json\n",
    "import requests\n",
    "import folium\n",
    "from branca.utilities import split_six\n",
    "\n",
    "import random\n",
    "random.seed(42)    # For reproducibility\n",
    "np.random.seed(42) \n",
    "\n",
    "# Make numeric display a bit neater\n",
    "pd.set_option('display.float_format', lambda x: '{:,.2f}'.format(x))"
   ]
  },
  {
   "cell_type": "code",
   "execution_count": 2,
   "metadata": {},
   "outputs": [
    {
     "name": "stderr",
     "output_type": "stream",
     "text": [
      "/opt/anaconda3/envs/sds2020/lib/python3.7/site-packages/IPython/core/interactiveshell.py:3147: DtypeWarning: Columns (1,2,3,12,13,14,15,16,18,19,20,21,22,24,26,28,32,36,37,39,40,41,42,43,44,45,46,54,55,56,57,58,59,60,61,62,63,64) have mixed types.Specify dtype option on import or set low_memory=False.\n",
      "  interactivity=interactivity, compiler=compiler, result=result)\n"
     ]
    }
   ],
   "source": [
    "data_fa=pd.read_csv('datafa.csv')"
   ]
  },
  {
   "cell_type": "code",
   "execution_count": 3,
   "metadata": {},
   "outputs": [
    {
     "data": {
      "text/html": [
       "<div>\n",
       "<style scoped>\n",
       "    .dataframe tbody tr th:only-of-type {\n",
       "        vertical-align: middle;\n",
       "    }\n",
       "\n",
       "    .dataframe tbody tr th {\n",
       "        vertical-align: top;\n",
       "    }\n",
       "\n",
       "    .dataframe thead th {\n",
       "        text-align: right;\n",
       "    }\n",
       "</style>\n",
       "<table border=\"1\" class=\"dataframe\">\n",
       "  <thead>\n",
       "    <tr style=\"text-align: right;\">\n",
       "      <th></th>\n",
       "      <th>Unnamed: 0</th>\n",
       "      <th>registered_number</th>\n",
       "      <th>incorporation_date</th>\n",
       "      <th>dissolution_date</th>\n",
       "      <th>latest_accounts_cash</th>\n",
       "      <th>latest_accounts_assets</th>\n",
       "      <th>latest_accounts_liabilities</th>\n",
       "      <th>year_obs</th>\n",
       "      <th>sic_year</th>\n",
       "      <th>sic4</th>\n",
       "      <th>...</th>\n",
       "      <th>pcd2</th>\n",
       "      <th>pcds</th>\n",
       "      <th>cty</th>\n",
       "      <th>laua</th>\n",
       "      <th>ctry</th>\n",
       "      <th>rgn</th>\n",
       "      <th>ttwa</th>\n",
       "      <th>pct</th>\n",
       "      <th>lep1</th>\n",
       "      <th>lep2</th>\n",
       "    </tr>\n",
       "  </thead>\n",
       "  <tbody>\n",
       "    <tr>\n",
       "      <th>0</th>\n",
       "      <td>0</td>\n",
       "      <td>00428557</td>\n",
       "      <td>NaN</td>\n",
       "      <td>NaN</td>\n",
       "      <td>nan</td>\n",
       "      <td>nan</td>\n",
       "      <td>nan</td>\n",
       "      <td>2018</td>\n",
       "      <td>nan</td>\n",
       "      <td>nan</td>\n",
       "      <td>...</td>\n",
       "      <td>NaN</td>\n",
       "      <td>NaN</td>\n",
       "      <td>NaN</td>\n",
       "      <td>NaN</td>\n",
       "      <td>NaN</td>\n",
       "      <td>NaN</td>\n",
       "      <td>NaN</td>\n",
       "      <td>NaN</td>\n",
       "      <td>NaN</td>\n",
       "      <td>NaN</td>\n",
       "    </tr>\n",
       "    <tr>\n",
       "      <th>1</th>\n",
       "      <td>1</td>\n",
       "      <td>00851482</td>\n",
       "      <td>NaN</td>\n",
       "      <td>NaN</td>\n",
       "      <td>nan</td>\n",
       "      <td>nan</td>\n",
       "      <td>nan</td>\n",
       "      <td>2018</td>\n",
       "      <td>nan</td>\n",
       "      <td>nan</td>\n",
       "      <td>...</td>\n",
       "      <td>NaN</td>\n",
       "      <td>NaN</td>\n",
       "      <td>NaN</td>\n",
       "      <td>NaN</td>\n",
       "      <td>NaN</td>\n",
       "      <td>NaN</td>\n",
       "      <td>NaN</td>\n",
       "      <td>NaN</td>\n",
       "      <td>NaN</td>\n",
       "      <td>NaN</td>\n",
       "    </tr>\n",
       "    <tr>\n",
       "      <th>2</th>\n",
       "      <td>2</td>\n",
       "      <td>02251331</td>\n",
       "      <td>NaN</td>\n",
       "      <td>NaN</td>\n",
       "      <td>nan</td>\n",
       "      <td>nan</td>\n",
       "      <td>nan</td>\n",
       "      <td>2018</td>\n",
       "      <td>nan</td>\n",
       "      <td>nan</td>\n",
       "      <td>...</td>\n",
       "      <td>NaN</td>\n",
       "      <td>NaN</td>\n",
       "      <td>NaN</td>\n",
       "      <td>NaN</td>\n",
       "      <td>NaN</td>\n",
       "      <td>NaN</td>\n",
       "      <td>NaN</td>\n",
       "      <td>NaN</td>\n",
       "      <td>NaN</td>\n",
       "      <td>NaN</td>\n",
       "    </tr>\n",
       "    <tr>\n",
       "      <th>3</th>\n",
       "      <td>3</td>\n",
       "      <td>01918723</td>\n",
       "      <td>NaN</td>\n",
       "      <td>NaN</td>\n",
       "      <td>nan</td>\n",
       "      <td>nan</td>\n",
       "      <td>nan</td>\n",
       "      <td>2018</td>\n",
       "      <td>nan</td>\n",
       "      <td>nan</td>\n",
       "      <td>...</td>\n",
       "      <td>NaN</td>\n",
       "      <td>NaN</td>\n",
       "      <td>NaN</td>\n",
       "      <td>NaN</td>\n",
       "      <td>NaN</td>\n",
       "      <td>NaN</td>\n",
       "      <td>NaN</td>\n",
       "      <td>NaN</td>\n",
       "      <td>NaN</td>\n",
       "      <td>NaN</td>\n",
       "    </tr>\n",
       "    <tr>\n",
       "      <th>4</th>\n",
       "      <td>4</td>\n",
       "      <td>01945037</td>\n",
       "      <td>NaN</td>\n",
       "      <td>NaN</td>\n",
       "      <td>nan</td>\n",
       "      <td>nan</td>\n",
       "      <td>nan</td>\n",
       "      <td>2018</td>\n",
       "      <td>nan</td>\n",
       "      <td>nan</td>\n",
       "      <td>...</td>\n",
       "      <td>NaN</td>\n",
       "      <td>NaN</td>\n",
       "      <td>NaN</td>\n",
       "      <td>NaN</td>\n",
       "      <td>NaN</td>\n",
       "      <td>NaN</td>\n",
       "      <td>NaN</td>\n",
       "      <td>NaN</td>\n",
       "      <td>NaN</td>\n",
       "      <td>NaN</td>\n",
       "    </tr>\n",
       "  </tbody>\n",
       "</table>\n",
       "<p>5 rows × 65 columns</p>\n",
       "</div>"
      ],
      "text/plain": [
       "   Unnamed: 0 registered_number incorporation_date dissolution_date  \\\n",
       "0           0          00428557                NaN              NaN   \n",
       "1           1          00851482                NaN              NaN   \n",
       "2           2          02251331                NaN              NaN   \n",
       "3           3          01918723                NaN              NaN   \n",
       "4           4          01945037                NaN              NaN   \n",
       "\n",
       "   latest_accounts_cash  latest_accounts_assets  latest_accounts_liabilities  \\\n",
       "0                   nan                     nan                          nan   \n",
       "1                   nan                     nan                          nan   \n",
       "2                   nan                     nan                          nan   \n",
       "3                   nan                     nan                          nan   \n",
       "4                   nan                     nan                          nan   \n",
       "\n",
       "   year_obs  sic_year  sic4  ...  pcd2  pcds  cty laua ctry  rgn ttwa  pct  \\\n",
       "0      2018       nan   nan  ...   NaN   NaN  NaN  NaN  NaN  NaN  NaN  NaN   \n",
       "1      2018       nan   nan  ...   NaN   NaN  NaN  NaN  NaN  NaN  NaN  NaN   \n",
       "2      2018       nan   nan  ...   NaN   NaN  NaN  NaN  NaN  NaN  NaN  NaN   \n",
       "3      2018       nan   nan  ...   NaN   NaN  NaN  NaN  NaN  NaN  NaN  NaN   \n",
       "4      2018       nan   nan  ...   NaN   NaN  NaN  NaN  NaN  NaN  NaN  NaN   \n",
       "\n",
       "  lep1 lep2  \n",
       "0  NaN  NaN  \n",
       "1  NaN  NaN  \n",
       "2  NaN  NaN  \n",
       "3  NaN  NaN  \n",
       "4  NaN  NaN  \n",
       "\n",
       "[5 rows x 65 columns]"
      ]
     },
     "execution_count": 3,
     "metadata": {},
     "output_type": "execute_result"
    }
   ],
   "source": [
    "data_fa.head()"
   ]
  },
  {
   "cell_type": "code",
   "execution_count": 4,
   "metadata": {},
   "outputs": [
    {
     "data": {
      "text/html": [
       "<div>\n",
       "<style scoped>\n",
       "    .dataframe tbody tr th:only-of-type {\n",
       "        vertical-align: middle;\n",
       "    }\n",
       "\n",
       "    .dataframe tbody tr th {\n",
       "        vertical-align: top;\n",
       "    }\n",
       "\n",
       "    .dataframe thead th {\n",
       "        text-align: right;\n",
       "    }\n",
       "</style>\n",
       "<table border=\"1\" class=\"dataframe\">\n",
       "  <thead>\n",
       "    <tr style=\"text-align: right;\">\n",
       "      <th></th>\n",
       "      <th>Unnamed: 0</th>\n",
       "      <th>latest_accounts_cash</th>\n",
       "      <th>latest_accounts_assets</th>\n",
       "      <th>latest_accounts_liabilities</th>\n",
       "      <th>year_obs</th>\n",
       "      <th>sic_year</th>\n",
       "      <th>sic4</th>\n",
       "      <th>change_sic</th>\n",
       "      <th>id</th>\n",
       "      <th>year_accounts</th>\n",
       "      <th>...</th>\n",
       "      <th>keep</th>\n",
       "      <th>merge_max_anna</th>\n",
       "      <th>max_anna</th>\n",
       "      <th>primary_uk_sic_2007</th>\n",
       "      <th>duo_direct_share</th>\n",
       "      <th>merge_fame</th>\n",
       "      <th>fame</th>\n",
       "      <th>birth_year</th>\n",
       "      <th>diss_year</th>\n",
       "      <th>age</th>\n",
       "    </tr>\n",
       "  </thead>\n",
       "  <tbody>\n",
       "    <tr>\n",
       "      <th>count</th>\n",
       "      <td>11,807,732.00</td>\n",
       "      <td>897,750.00</td>\n",
       "      <td>2,519,188.00</td>\n",
       "      <td>908,540.00</td>\n",
       "      <td>11,807,732.00</td>\n",
       "      <td>6,182,207.00</td>\n",
       "      <td>6,182,211.00</td>\n",
       "      <td>11,253,917.00</td>\n",
       "      <td>11,253,913.00</td>\n",
       "      <td>3,552,234.00</td>\n",
       "      <td>...</td>\n",
       "      <td>5,596,972.00</td>\n",
       "      <td>11,255,553.00</td>\n",
       "      <td>11,253,917.00</td>\n",
       "      <td>2,458,550.00</td>\n",
       "      <td>2,385,823.00</td>\n",
       "      <td>11,807,732.00</td>\n",
       "      <td>11,807,732.00</td>\n",
       "      <td>10,353,312.00</td>\n",
       "      <td>5,901,414.00</td>\n",
       "      <td>10,353,312.00</td>\n",
       "    </tr>\n",
       "    <tr>\n",
       "      <th>mean</th>\n",
       "      <td>5,903,865.50</td>\n",
       "      <td>357,079.68</td>\n",
       "      <td>149,175.10</td>\n",
       "      <td>84,070.97</td>\n",
       "      <td>2,017.53</td>\n",
       "      <td>2,006.60</td>\n",
       "      <td>6,599.68</td>\n",
       "      <td>0.05</td>\n",
       "      <td>39,653,121.63</td>\n",
       "      <td>2,016.45</td>\n",
       "      <td>...</td>\n",
       "      <td>1.00</td>\n",
       "      <td>1.99</td>\n",
       "      <td>0.50</td>\n",
       "      <td>62,933.64</td>\n",
       "      <td>95.59</td>\n",
       "      <td>1.38</td>\n",
       "      <td>0.21</td>\n",
       "      <td>2,006.46</td>\n",
       "      <td>2,010.17</td>\n",
       "      <td>6.85</td>\n",
       "    </tr>\n",
       "    <tr>\n",
       "      <th>std</th>\n",
       "      <td>3,408,598.77</td>\n",
       "      <td>208,250,650.86</td>\n",
       "      <td>1,811,048.02</td>\n",
       "      <td>2,218,956.03</td>\n",
       "      <td>1.09</td>\n",
       "      <td>1.23</td>\n",
       "      <td>2,084.48</td>\n",
       "      <td>0.22</td>\n",
       "      <td>48,992,349.64</td>\n",
       "      <td>1.50</td>\n",
       "      <td>...</td>\n",
       "      <td>0.00</td>\n",
       "      <td>1.00</td>\n",
       "      <td>0.50</td>\n",
       "      <td>19,270.92</td>\n",
       "      <td>13.83</td>\n",
       "      <td>0.75</td>\n",
       "      <td>0.41</td>\n",
       "      <td>11.36</td>\n",
       "      <td>6.99</td>\n",
       "      <td>10.53</td>\n",
       "    </tr>\n",
       "    <tr>\n",
       "      <th>min</th>\n",
       "      <td>0.00</td>\n",
       "      <td>-226,421.00</td>\n",
       "      <td>-1,273,586.00</td>\n",
       "      <td>0.00</td>\n",
       "      <td>2,009.00</td>\n",
       "      <td>1,992.00</td>\n",
       "      <td>111.00</td>\n",
       "      <td>0.00</td>\n",
       "      <td>1.00</td>\n",
       "      <td>2,009.00</td>\n",
       "      <td>...</td>\n",
       "      <td>1.00</td>\n",
       "      <td>1.00</td>\n",
       "      <td>0.00</td>\n",
       "      <td>10.00</td>\n",
       "      <td>0.00</td>\n",
       "      <td>1.00</td>\n",
       "      <td>0.00</td>\n",
       "      <td>1,800.00</td>\n",
       "      <td>8.00</td>\n",
       "      <td>-1,999.00</td>\n",
       "    </tr>\n",
       "    <tr>\n",
       "      <th>25%</th>\n",
       "      <td>2,951,932.75</td>\n",
       "      <td>10.00</td>\n",
       "      <td>3,476.00</td>\n",
       "      <td>2,310.00</td>\n",
       "      <td>2,018.00</td>\n",
       "      <td>2,007.00</td>\n",
       "      <td>4,791.00</td>\n",
       "      <td>0.00</td>\n",
       "      <td>2,813,458.00</td>\n",
       "      <td>2,016.00</td>\n",
       "      <td>...</td>\n",
       "      <td>1.00</td>\n",
       "      <td>1.00</td>\n",
       "      <td>0.00</td>\n",
       "      <td>47,530.00</td>\n",
       "      <td>100.00</td>\n",
       "      <td>1.00</td>\n",
       "      <td>0.00</td>\n",
       "      <td>2,002.00</td>\n",
       "      <td>2,006.00</td>\n",
       "      <td>2.00</td>\n",
       "    </tr>\n",
       "    <tr>\n",
       "      <th>50%</th>\n",
       "      <td>5,903,865.50</td>\n",
       "      <td>601.00</td>\n",
       "      <td>17,326.00</td>\n",
       "      <td>10,199.00</td>\n",
       "      <td>2,018.00</td>\n",
       "      <td>2,007.00</td>\n",
       "      <td>6,820.00</td>\n",
       "      <td>0.00</td>\n",
       "      <td>10,657,604.00</td>\n",
       "      <td>2,017.00</td>\n",
       "      <td>...</td>\n",
       "      <td>1.00</td>\n",
       "      <td>1.00</td>\n",
       "      <td>0.00</td>\n",
       "      <td>64,209.00</td>\n",
       "      <td>100.00</td>\n",
       "      <td>1.00</td>\n",
       "      <td>0.00</td>\n",
       "      <td>2,009.00</td>\n",
       "      <td>2,011.00</td>\n",
       "      <td>3.00</td>\n",
       "    </tr>\n",
       "    <tr>\n",
       "      <th>75%</th>\n",
       "      <td>8,855,798.25</td>\n",
       "      <td>6,872.00</td>\n",
       "      <td>69,730.00</td>\n",
       "      <td>34,943.00</td>\n",
       "      <td>2,018.00</td>\n",
       "      <td>2,007.00</td>\n",
       "      <td>8,299.00</td>\n",
       "      <td>0.00</td>\n",
       "      <td>71,917,388.00</td>\n",
       "      <td>2,017.00</td>\n",
       "      <td>...</td>\n",
       "      <td>1.00</td>\n",
       "      <td>3.00</td>\n",
       "      <td>1.00</td>\n",
       "      <td>77,110.00</td>\n",
       "      <td>100.00</td>\n",
       "      <td>1.00</td>\n",
       "      <td>0.00</td>\n",
       "      <td>2,014.00</td>\n",
       "      <td>2,015.00</td>\n",
       "      <td>8.00</td>\n",
       "    </tr>\n",
       "    <tr>\n",
       "      <th>max</th>\n",
       "      <td>11,807,731.00</td>\n",
       "      <td>169,846,410,000.00</td>\n",
       "      <td>1,638,311,971.00</td>\n",
       "      <td>917,127,807.00</td>\n",
       "      <td>2,020.00</td>\n",
       "      <td>2,007.00</td>\n",
       "      <td>9,999.00</td>\n",
       "      <td>1.00</td>\n",
       "      <td>168,733,887.00</td>\n",
       "      <td>2,020.00</td>\n",
       "      <td>...</td>\n",
       "      <td>1.00</td>\n",
       "      <td>3.00</td>\n",
       "      <td>1.00</td>\n",
       "      <td>99,000.00</td>\n",
       "      <td>100.00</td>\n",
       "      <td>3.00</td>\n",
       "      <td>1.00</td>\n",
       "      <td>2,018.00</td>\n",
       "      <td>2,018.00</td>\n",
       "      <td>198.00</td>\n",
       "    </tr>\n",
       "  </tbody>\n",
       "</table>\n",
       "<p>8 rows × 26 columns</p>\n",
       "</div>"
      ],
      "text/plain": [
       "         Unnamed: 0  latest_accounts_cash  latest_accounts_assets  \\\n",
       "count 11,807,732.00            897,750.00            2,519,188.00   \n",
       "mean   5,903,865.50            357,079.68              149,175.10   \n",
       "std    3,408,598.77        208,250,650.86            1,811,048.02   \n",
       "min            0.00           -226,421.00           -1,273,586.00   \n",
       "25%    2,951,932.75                 10.00                3,476.00   \n",
       "50%    5,903,865.50                601.00               17,326.00   \n",
       "75%    8,855,798.25              6,872.00               69,730.00   \n",
       "max   11,807,731.00    169,846,410,000.00        1,638,311,971.00   \n",
       "\n",
       "       latest_accounts_liabilities      year_obs     sic_year         sic4  \\\n",
       "count                   908,540.00 11,807,732.00 6,182,207.00 6,182,211.00   \n",
       "mean                     84,070.97      2,017.53     2,006.60     6,599.68   \n",
       "std                   2,218,956.03          1.09         1.23     2,084.48   \n",
       "min                           0.00      2,009.00     1,992.00       111.00   \n",
       "25%                       2,310.00      2,018.00     2,007.00     4,791.00   \n",
       "50%                      10,199.00      2,018.00     2,007.00     6,820.00   \n",
       "75%                      34,943.00      2,018.00     2,007.00     8,299.00   \n",
       "max                 917,127,807.00      2,020.00     2,007.00     9,999.00   \n",
       "\n",
       "         change_sic             id  year_accounts  ...         keep  \\\n",
       "count 11,253,917.00  11,253,913.00   3,552,234.00  ... 5,596,972.00   \n",
       "mean           0.05  39,653,121.63       2,016.45  ...         1.00   \n",
       "std            0.22  48,992,349.64           1.50  ...         0.00   \n",
       "min            0.00           1.00       2,009.00  ...         1.00   \n",
       "25%            0.00   2,813,458.00       2,016.00  ...         1.00   \n",
       "50%            0.00  10,657,604.00       2,017.00  ...         1.00   \n",
       "75%            0.00  71,917,388.00       2,017.00  ...         1.00   \n",
       "max            1.00 168,733,887.00       2,020.00  ...         1.00   \n",
       "\n",
       "       merge_max_anna      max_anna  primary_uk_sic_2007  duo_direct_share  \\\n",
       "count   11,255,553.00 11,253,917.00         2,458,550.00      2,385,823.00   \n",
       "mean             1.99          0.50            62,933.64             95.59   \n",
       "std              1.00          0.50            19,270.92             13.83   \n",
       "min              1.00          0.00                10.00              0.00   \n",
       "25%              1.00          0.00            47,530.00            100.00   \n",
       "50%              1.00          0.00            64,209.00            100.00   \n",
       "75%              3.00          1.00            77,110.00            100.00   \n",
       "max              3.00          1.00            99,000.00            100.00   \n",
       "\n",
       "         merge_fame          fame    birth_year    diss_year           age  \n",
       "count 11,807,732.00 11,807,732.00 10,353,312.00 5,901,414.00 10,353,312.00  \n",
       "mean           1.38          0.21      2,006.46     2,010.17          6.85  \n",
       "std            0.75          0.41         11.36         6.99         10.53  \n",
       "min            1.00          0.00      1,800.00         8.00     -1,999.00  \n",
       "25%            1.00          0.00      2,002.00     2,006.00          2.00  \n",
       "50%            1.00          0.00      2,009.00     2,011.00          3.00  \n",
       "75%            1.00          0.00      2,014.00     2,015.00          8.00  \n",
       "max            3.00          1.00      2,018.00     2,018.00        198.00  \n",
       "\n",
       "[8 rows x 26 columns]"
      ]
     },
     "execution_count": 4,
     "metadata": {},
     "output_type": "execute_result"
    }
   ],
   "source": [
    "data_fa.describe()"
   ]
  },
  {
   "cell_type": "code",
   "execution_count": 5,
   "metadata": {},
   "outputs": [
    {
     "name": "stdout",
     "output_type": "stream",
     "text": [
      "<class 'pandas.core.frame.DataFrame'>\n",
      "RangeIndex: 11807732 entries, 0 to 11807731\n",
      "Data columns (total 65 columns):\n",
      " #   Column                            Dtype  \n",
      "---  ------                            -----  \n",
      " 0   Unnamed: 0                        int64  \n",
      " 1   registered_number                 object \n",
      " 2   incorporation_date                object \n",
      " 3   dissolution_date                  object \n",
      " 4   latest_accounts_cash              float64\n",
      " 5   latest_accounts_assets            float64\n",
      " 6   latest_accounts_liabilities       float64\n",
      " 7   year_obs                          int64  \n",
      " 8   sic_year                          float64\n",
      " 9   sic4                              float64\n",
      " 10  change_sic                        float64\n",
      " 11  id                                float64\n",
      " 12  jurisdiction_code                 object \n",
      " 13  name                              object \n",
      " 14  normalised_name                   object \n",
      " 15  registered_addresspostal_code     object \n",
      " 16  company_type                      object \n",
      " 17  year_accounts                     float64\n",
      " 18  registeredname                    object \n",
      " 19  incorporationdate                 object \n",
      " 20  companieshousestatus              object \n",
      " 21  primaryaddresspostcodeifuk        object \n",
      " 22  alltradingaddressespostcodeifuk   object \n",
      " 23  siccodes2007                      float64\n",
      " 24  istheultimateparent               object \n",
      " 25  numberofchildcompanies            float64\n",
      " 26  companieshousenumbersofchildcomp  object \n",
      " 27  numberofcompaniesinitscorporates  float64\n",
      " 28  companieshousenumbersofcompanies  object \n",
      " 29  bh_dummy                          float64\n",
      " 30  bh_notmerged                      float64\n",
      " 31  oc                                float64\n",
      " 32  string                            object \n",
      " 33  keep                              float64\n",
      " 34  merge_max_anna                    float64\n",
      " 35  max_anna                          float64\n",
      " 36  company_name                      object \n",
      " 37  bvd_id                            object \n",
      " 38  primary_uk_sic_2007               float64\n",
      " 39  nr_employees_last_avail_yr        object \n",
      " 40  ro_full_postcode                  object \n",
      " 41  ro_country                        object \n",
      " 42  guo_bvd_id                        object \n",
      " 43  guo_name                          object \n",
      " 44  guo_direct_share                  object \n",
      " 45  duo_bvd_id                        object \n",
      " 46  duo_name                          object \n",
      " 47  duo_direct_share                  float64\n",
      " 48  merge_fame                        int64  \n",
      " 49  fame                              float64\n",
      " 50  sample                            object \n",
      " 51  birth_year                        float64\n",
      " 52  diss_year                         float64\n",
      " 53  age                               float64\n",
      " 54  postcode                          object \n",
      " 55  pcd2                              object \n",
      " 56  pcds                              object \n",
      " 57  cty                               object \n",
      " 58  laua                              object \n",
      " 59  ctry                              object \n",
      " 60  rgn                               object \n",
      " 61  ttwa                              object \n",
      " 62  pct                               object \n",
      " 63  lep1                              object \n",
      " 64  lep2                              object \n",
      "dtypes: float64(23), int64(3), object(39)\n",
      "memory usage: 5.7+ GB\n"
     ]
    }
   ],
   "source": [
    "data_fa.info()"
   ]
  },
  {
   "cell_type": "code",
   "execution_count": 6,
   "metadata": {},
   "outputs": [],
   "source": [
    "primary_uk_sic_2007 = data_fa [\"primary_uk_sic_2007\"]"
   ]
  },
  {
   "cell_type": "code",
   "execution_count": 7,
   "metadata": {},
   "outputs": [
    {
     "data": {
      "text/plain": [
       "count   2,458,550.00\n",
       "mean       62,933.64\n",
       "std        19,270.92\n",
       "min            10.00\n",
       "25%        47,530.00\n",
       "50%        64,209.00\n",
       "75%        77,110.00\n",
       "max        99,000.00\n",
       "Name: primary_uk_sic_2007, dtype: float64"
      ]
     },
     "execution_count": 7,
     "metadata": {},
     "output_type": "execute_result"
    }
   ],
   "source": [
    "primary_uk_sic_2007.describe()"
   ]
  },
  {
   "cell_type": "code",
   "execution_count": null,
   "metadata": {},
   "outputs": [],
   "source": [
    "#drop na rows to see how many dropped\n",
    "data_fa['primary_uk_sic_2007'] = data_fa['primary_uk_sic_2007'].replace(np.nan, 0)\n",
    "data_fa = data_fa[data_fa.primary_uk_sic_2007 != 0]"
   ]
  },
  {
   "cell_type": "code",
   "execution_count": null,
   "metadata": {},
   "outputs": [],
   "source": [
    "data_fa.describe()"
   ]
  },
  {
   "cell_type": "code",
   "execution_count": null,
   "metadata": {},
   "outputs": [],
   "source": [
    "#only 22% of the companies have got SIC"
   ]
  },
  {
   "cell_type": "code",
   "execution_count": null,
   "metadata": {},
   "outputs": [],
   "source": [
    "#filter rows of SIC in primary_uk_sic_2007\n",
    "#tech_SIC = data_fa[(data_fa[\"primary_uk_sic_2007\"] == 26511) | (data_fa[\"primary_uk_sic_2007\"] == 26513)]"
   ]
  },
  {
   "cell_type": "code",
   "execution_count": null,
   "metadata": {},
   "outputs": [],
   "source": [
    "tech_SIC = data_fa[data_fa[\"primary_uk_sic_2007\"].isin([26511,26513,26600,26701,32500,72190,74202,21100,21200,72110,\n",
    "                                                       62020,62030,62090,63110,26301,26309,61900,26200,26110,26400,26512,\n",
    "                                                       27110,27200,27310,27900,28910,71121,71122,71200,74100,74901,28110,\n",
    "                                                       28120,28131,28132,28150,29100,29201,29202,29310,29320,30110,30120,\n",
    "                                                       30200,30300,30400,59111,59112,59113,59120,59200,18201,18202,18203,\n",
    "                                                       58210,58290,62011,62012,63120,64301,64302,64303,64304,64305,64306,\n",
    "                                                       64921,64992,64999,65300])]"
   ]
  },
  {
   "cell_type": "code",
   "execution_count": null,
   "metadata": {},
   "outputs": [],
   "source": [
    "len(tech_SIC.index)"
   ]
  },
  {
   "cell_type": "code",
   "execution_count": null,
   "metadata": {},
   "outputs": [],
   "source": [
    "tech_SIC.to_csv('tech_SIC.csv')"
   ]
  },
  {
   "cell_type": "code",
   "execution_count": null,
   "metadata": {},
   "outputs": [],
   "source": [
    "tech_SIC.describe() #year observed and account all 2018"
   ]
  },
  {
   "cell_type": "code",
   "execution_count": null,
   "metadata": {},
   "outputs": [],
   "source": [
    "#filter strings using .str.contains/name.str.startswith\n",
    "#count_row = data_postcode.shape[0] #len(data_postcode.index)\n",
    "#count_col = data_postcode.shape[1]"
   ]
  },
  {
   "cell_type": "code",
   "execution_count": null,
   "metadata": {},
   "outputs": [],
   "source": [
    "#data on postcode geo\n",
    "data_postcode=pd.read_csv('ONSPD.csv',header = 0, usecols=['pcds','lat','long','oslaua'])"
   ]
  },
  {
   "cell_type": "code",
   "execution_count": null,
   "metadata": {},
   "outputs": [],
   "source": [
    "data_postcode.info()"
   ]
  },
  {
   "cell_type": "code",
   "execution_count": null,
   "metadata": {},
   "outputs": [],
   "source": [
    "data_postcode.head()"
   ]
  },
  {
   "cell_type": "code",
   "execution_count": null,
   "metadata": {},
   "outputs": [],
   "source": [
    "#add lat long to the tech_SIC\n",
    "tech_SIC_geo = pd.merge(tech_SIC, data_postcode, how=\"left\", on=[\"pcds\"])"
   ]
  },
  {
   "cell_type": "code",
   "execution_count": null,
   "metadata": {},
   "outputs": [],
   "source": [
    "len(tech_SIC_geo.index)"
   ]
  },
  {
   "cell_type": "code",
   "execution_count": null,
   "metadata": {},
   "outputs": [],
   "source": [
    "tech_SIC_geo.to_csv('tech_SIC_geo.csv')"
   ]
  },
  {
   "cell_type": "code",
   "execution_count": null,
   "metadata": {},
   "outputs": [],
   "source": [
    "#shown on map generally"
   ]
  },
  {
   "cell_type": "code",
   "execution_count": null,
   "metadata": {},
   "outputs": [],
   "source": [
    "gdf = gpd.GeoDataFrame(tech_SIC_geo, \n",
    "      geometry=gpd.points_from_xy(tech_SIC_geo['long'], tech_SIC_geo['lat'], crs='epsg:4326'))\n",
    "gdf = gdf.to_crs('epsg:27700')"
   ]
  },
  {
   "cell_type": "code",
   "execution_count": null,
   "metadata": {},
   "outputs": [],
   "source": [
    "gdf.plot(column='latest_accounts_assets', cmap='plasma', scheme='quantiles', k=10, markersize=1, figsize=(8,6));"
   ]
  },
  {
   "cell_type": "code",
   "execution_count": null,
   "metadata": {},
   "outputs": [],
   "source": [
    "#groupby local authority district\n",
    "gLAD = gdf.groupby(['oslaua','primary_uk_sic_2007'])['primary_uk_sic_2007'].agg(Count='count').reset_index() # oslaua companies grouped counts\n",
    "gLAD.head(100)"
   ]
  },
  {
   "cell_type": "code",
   "execution_count": null,
   "metadata": {},
   "outputs": [],
   "source": [
    "len(gLAD.index)"
   ]
  },
  {
   "cell_type": "code",
   "execution_count": null,
   "metadata": {},
   "outputs": [],
   "source": [
    "#gLADr is for changing the format for readability only\n",
    "gLADr = gLAD.pivot(index='oslaua', columns=['primary_uk_sic_2007'], values=['Count']).reset_index()\n",
    "gLADr.columns = ['oslaua',26511,26513,26600,26701,32500,72190,74202,21100,21200,72110,\n",
    "                                                       62020,62030,62090,63110,26301,26309,61900,26200,26110,26400,26512,\n",
    "                                                       27110,27200,27310,27900,28910,71121,71122,71200,74100,74901,28110,\n",
    "                                                       28120,28131,28132,28150,29100,29201,29202,29310,29320,30110,30120,\n",
    "                                                       30200,30300,30400,59111,59112,59113,59120,59200,18201,18202,18203,\n",
    "                                                       58210,58290,62011,62012,63120,64301,64302,64303,64304,64305,64306,\n",
    "                                                       64921,64992,64999,65300]\n",
    "gLADr = gLAD.replace(np.nan, 0)\n",
    "gLADr.head()"
   ]
  },
  {
   "cell_type": "code",
   "execution_count": null,
   "metadata": {},
   "outputs": [],
   "source": [
    "#search for random gLADr\n",
    "gLADr.sample(3, random_state=42)"
   ]
  },
  {
   "cell_type": "code",
   "execution_count": null,
   "metadata": {},
   "outputs": [],
   "source": [
    "#groupby local authority district\n",
    "gLADt = gdf.groupby(['oslaua'])['primary_uk_sic_2007'].agg(Count='count').reset_index() # oslaua companies grouped counts\n",
    "gLADt.head(100)"
   ]
  },
  {
   "cell_type": "code",
   "execution_count": null,
   "metadata": {},
   "outputs": [],
   "source": [
    "#change coloumn name to match\n",
    "cols = gLADt.columns.values\n",
    "cols[0]  = 'LAD13CD'\n",
    "cols[1]  = 'Counts'\n",
    "gLADt.columns = cols"
   ]
  },
  {
   "cell_type": "raw",
   "metadata": {},
   "source": [
    "# reset index to LAD13CD\n",
    "#gLADt = gLADt.fillna(0).set_index('LAD13CD')\n",
    "#then transform\n",
    "pts = PowerTransformer()\n",
    "for c in gLADt.columns.values:\n",
    "    gLADt[c] = pts.fit_transform(gLADt[c].values.reshape(-1,1))\n",
    "gLADt.head(10)"
   ]
  },
  {
   "cell_type": "code",
   "execution_count": null,
   "metadata": {},
   "outputs": [],
   "source": [
    "#read LAD geojson"
   ]
  },
  {
   "cell_type": "code",
   "execution_count": null,
   "metadata": {},
   "outputs": [],
   "source": [
    "with open('LAD.json', encoding=\"UTF-8\") as json_file:\n",
    "    LAD_json = json.load(json_file)"
   ]
  },
  {
   "cell_type": "code",
   "execution_count": null,
   "metadata": {},
   "outputs": [],
   "source": [
    "print(gLADt[\"Counts\"][2])\n",
    "print(LAD_json[\"features\"][0][\"properties\"])"
   ]
  },
  {
   "cell_type": "raw",
   "metadata": {},
   "source": [
    "pip install folium —upgrade if needed\n",
    "pip install plotly"
   ]
  },
  {
   "cell_type": "code",
   "execution_count": null,
   "metadata": {},
   "outputs": [],
   "source": [
    "#would show empty in chrome but works in safari due to folium issue in showing complex large datasets\n",
    "bins = [0, 12648, 16597, 20546, 24495, 28445]\n",
    "m = folium.Map(location=[55, 4], zoom_start=5)\n",
    "m.choropleth(\n",
    "    geo_data=LAD_json,\n",
    "    data=gLADt,\n",
    "    columns=['LAD13CD', 'Counts'],\n",
    "    key_on='feature.properties.LAD13CD',\n",
    "    fill_color='YlGn',\n",
    "    threshold_scale = bins,\n",
    "    fill_opacity=0.7,\n",
    "    line_opacity=0.2,\n",
    "    legend_name='Rate (%)',\n",
    "    highlight=True\n",
    ")"
   ]
  },
  {
   "cell_type": "code",
   "execution_count": null,
   "metadata": {},
   "outputs": [],
   "source": [
    "m"
   ]
  },
  {
   "cell_type": "raw",
   "metadata": {},
   "source": [
    "test geojson on folium and save map\n",
    "k = folium.Map(location = [51.505453, -0.268839])\n",
    "folium.GeoJson('borough.geojson').add_to(k)\n",
    "k\n",
    "k.save(\"k.html\")"
   ]
  },
  {
   "cell_type": "code",
   "execution_count": null,
   "metadata": {},
   "outputs": [],
   "source": [
    "import plotly.express as px\n",
    "import plotly.offline as py\n",
    "import plotly.graph_objs as go"
   ]
  },
  {
   "cell_type": "code",
   "execution_count": null,
   "metadata": {},
   "outputs": [],
   "source": [
    "#for some reason not loading - might need to change to px.choropleth_mapbox\n",
    "fig = px.choropleth(gLADt, geojson=localauth, locations='LAD13CD', featureidkey=\"properties.LAD13CD\", color='Counts',\n",
    "                            color_continuous_scale=\"PurPor\", labels={'label name':'label name'}, title='MAP TITLE',\n",
    "                            scope=\"europe\")\n",
    "fig.show()"
   ]
  },
  {
   "cell_type": "code",
   "execution_count": null,
   "metadata": {},
   "outputs": [],
   "source": [
    "#for some reason not loading\n",
    "fig = px.choropleth(rs, geojson=rs, locations='LAD13CD', featureidkey=\"properties.LAD13CD\", color='Counts',\n",
    "                            color_continuous_scale=\"PurPor\", labels={'label name':'label name'}, title='MAP TITLE',\n",
    "                            scope=\"europe\")\n",
    "fig.show()"
   ]
  },
  {
   "cell_type": "code",
   "execution_count": null,
   "metadata": {},
   "outputs": [],
   "source": [
    "from urllib.request import urlopen\n",
    "with urlopen('https://raw.githubusercontent.com/plotly/datasets/master/geojson-counties-fips.json') as response:\n",
    "    counties = json.load(response)\n",
    "\n"
   ]
  },
  {
   "cell_type": "code",
   "execution_count": null,
   "metadata": {},
   "outputs": [],
   "source": [
    "with open('topo_lad.json', encoding=\"UTF-8\") as json_file:\n",
    "    topo = json.load(json_file)"
   ]
  },
  {
   "cell_type": "code",
   "execution_count": null,
   "metadata": {},
   "outputs": [],
   "source": [
    "fig = px.choropleth_mapbox(gLADt, geojson=topo, locations='LAD13CD', color='Counts',\n",
    "                           color_continuous_scale=\"Viridis\",\n",
    "                           range_color=(0, 12),\n",
    "                           mapbox_style=\"carto-positron\",\n",
    "                           zoom=3, \n",
    "                           opacity=0.5,\n",
    "                           labels={'unemp':'unemployment rate'}\n",
    "                          )\n",
    "fig.update_layout(margin={\"r\":0,\"t\":0,\"l\":0,\"b\":0})\n",
    "fig.show()"
   ]
  },
  {
   "cell_type": "code",
   "execution_count": null,
   "metadata": {},
   "outputs": [],
   "source": [
    "with open('LAD.geojson', encoding=\"UTF-8\") as json_file:\n",
    "    LAD_json = json.load(json_file)"
   ]
  },
  {
   "cell_type": "code",
   "execution_count": null,
   "metadata": {},
   "outputs": [],
   "source": [
    "trace= go.Choroplethmapbox(geojson=LAD_json,\n",
    "                           locations=gLADt['LAD13CD'],\n",
    "                           z=gLADt['Counts'],\n",
    "                           colorscale='Viridis',\n",
    "                           colorbar_thickness=20,\n",
    "                           hoverinfo='all',\n",
    "                        )"
   ]
  },
  {
   "cell_type": "code",
   "execution_count": null,
   "metadata": {},
   "outputs": [],
   "source": [
    "#LAD Geopackage\n",
    "data = os.path.join('data','geo','localauth.json')\n",
    "if not os.path.exists(data):\n",
    "    localauth = gpd.read_file('https://raw.githubusercontent.com/supernovajon/tech-cluster/main/LAD.json')\n",
    "    print(\"Downloaded localauth.json file.\")\n",
    "else:\n",
    "    localauth = gpd.read_file(data)"
   ]
  },
  {
   "cell_type": "code",
   "execution_count": null,
   "metadata": {},
   "outputs": [],
   "source": [
    "#add geometry to gLADt as a result set then plot\n",
    "rs = pd.merge(localauth, gLADt, how=\"left\", on=[\"LAD13CD\"])"
   ]
  },
  {
   "cell_type": "code",
   "execution_count": null,
   "metadata": {},
   "outputs": [],
   "source": [
    "rs"
   ]
  },
  {
   "cell_type": "code",
   "execution_count": null,
   "metadata": {},
   "outputs": [],
   "source": [
    "rs.nlargest(10,'Counts')"
   ]
  },
  {
   "cell_type": "code",
   "execution_count": null,
   "metadata": {},
   "outputs": [],
   "source": [
    "def plt_ldn(b):\n",
    "    fig, ax = plt.subplots(1, figsize=(14, 22))\n",
    "    b.plot(ax=ax, edgecolor='#cc2d2d', facecolor='None', zorder=3)\n",
    "    ax.spines['top'].set_visible(False)\n",
    "    ax.spines['right'].set_visible(False)\n",
    "    ax.spines['bottom'].set_visible(False)\n",
    "    ax.spines['left'].set_visible(False)\n",
    "    return fig, ax"
   ]
  },
  {
   "cell_type": "code",
   "execution_count": null,
   "metadata": {},
   "outputs": [],
   "source": [
    "fig, ax = plt_ldn(localauth)\n",
    "ax.set_axis_off()\n",
    "ax.set_title('UK tech number on LAD',fontsize=20, y=1.02)\n",
    "rs.plot(column='Counts', ax=ax, linewidth=0, zorder=0,\n",
    "        legend=True, scheme='equalinterval', edgecolor='k',\n",
    "        cmap='tab20c',k=20)"
   ]
  },
  {
   "cell_type": "code",
   "execution_count": null,
   "metadata": {},
   "outputs": [],
   "source": [
    "fig.savefig('UK tech number on LAD.png', dpi=150)#might need to add labels"
   ]
  },
  {
   "cell_type": "code",
   "execution_count": null,
   "metadata": {},
   "outputs": [],
   "source": []
  },
  {
   "cell_type": "code",
   "execution_count": null,
   "metadata": {},
   "outputs": [],
   "source": [
    "#examine null value"
   ]
  },
  {
   "cell_type": "code",
   "execution_count": null,
   "metadata": {},
   "outputs": [],
   "source": []
  },
  {
   "cell_type": "code",
   "execution_count": null,
   "metadata": {},
   "outputs": [],
   "source": []
  },
  {
   "cell_type": "code",
   "execution_count": null,
   "metadata": {},
   "outputs": [],
   "source": [
    "data_3=pd.read_csv('OC_3.1.csv')"
   ]
  },
  {
   "cell_type": "code",
   "execution_count": null,
   "metadata": {},
   "outputs": [],
   "source": []
  },
  {
   "cell_type": "code",
   "execution_count": null,
   "metadata": {},
   "outputs": [],
   "source": []
  },
  {
   "cell_type": "code",
   "execution_count": null,
   "metadata": {},
   "outputs": [],
   "source": []
  }
 ],
 "metadata": {
  "kernelspec": {
   "display_name": "Python 3",
   "language": "python",
   "name": "python3"
  },
  "language_info": {
   "codemirror_mode": {
    "name": "ipython",
    "version": 3
   },
   "file_extension": ".py",
   "mimetype": "text/x-python",
   "name": "python",
   "nbconvert_exporter": "python",
   "pygments_lexer": "ipython3",
   "version": "3.7.8"
  }
 },
 "nbformat": 4,
 "nbformat_minor": 4
}
