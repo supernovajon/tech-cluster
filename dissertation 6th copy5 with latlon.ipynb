{
 "cells": [
  {
   "cell_type": "code",
   "execution_count": 1,
   "metadata": {},
   "outputs": [],
   "source": [
    "# import packages\n",
    "# sds:2020 Docker environment\n",
    "import pandas as pd\n",
    "import statsmodels.api as sm\n",
    "import numpy as np\n",
    "import matplotlib.pyplot as plt\n",
    "import statsmodels.api as sms\n",
    "import seaborn as sns\n",
    "import geopandas as gpd\n",
    "import matplotlib.cm as cm\n",
    "import matplotlib as mpl\n",
    "import re\n",
    "import os\n",
    "\n",
    "import urllib\n",
    "import json\n",
    "import requests\n",
    "import folium\n",
    "from branca.utilities import split_six\n",
    "\n",
    "import random\n",
    "random.seed(42)    # For reproducibility\n",
    "np.random.seed(42) \n",
    "\n",
    "# Make numeric display a bit neater\n",
    "pd.set_option('display.float_format', lambda x: '{:,.2f}'.format(x))"
   ]
  },
  {
   "cell_type": "code",
   "execution_count": 121,
   "metadata": {},
   "outputs": [
    {
     "name": "stderr",
     "output_type": "stream",
     "text": [
      "/opt/anaconda3/envs/sds2020/lib/python3.7/site-packages/IPython/core/interactiveshell.py:3147: DtypeWarning:\n",
      "\n",
      "Columns (3,5,28,41,66) have mixed types.Specify dtype option on import or set low_memory=False.\n",
      "\n"
     ]
    }
   ],
   "source": [
    "tech_SIC_geo=pd.read_csv('tech_SIC_geo.csv')"
   ]
  },
  {
   "cell_type": "code",
   "execution_count": 122,
   "metadata": {},
   "outputs": [
    {
     "data": {
      "text/plain": [
       "319624"
      ]
     },
     "execution_count": 122,
     "metadata": {},
     "output_type": "execute_result"
    }
   ],
   "source": [
    "len(tech_SIC_geo.index)"
   ]
  },
  {
   "cell_type": "code",
   "execution_count": 123,
   "metadata": {},
   "outputs": [],
   "source": [
    "#tech_SIC_geo.to_csv('tech_SIC_geo.csv')"
   ]
  },
  {
   "cell_type": "code",
   "execution_count": null,
   "metadata": {},
   "outputs": [],
   "source": []
  },
  {
   "cell_type": "code",
   "execution_count": 124,
   "metadata": {},
   "outputs": [
    {
     "name": "stdout",
     "output_type": "stream",
     "text": [
      "           oslaua  primary_uk_sic_2007\n",
      "oslaua                                \n",
      "E06000001     159                 0.12\n",
      "E06000002     314                 0.08\n",
      "E06000003     217                 0.09\n",
      "E06000004     507                 0.10\n",
      "E06000005     271                 0.12\n",
      "...           ...                  ...\n",
      "W06000020     141                 0.11\n",
      "W06000021     311                 0.12\n",
      "W06000022     377                 0.11\n",
      "W06000023     254                 0.11\n",
      "W06000024      57                 0.10\n",
      "\n",
      "[393 rows x 2 columns]\n"
     ]
    }
   ],
   "source": [
    "# Herfindal index for all LAD\n",
    "def hhi(series):\n",
    "    _, cnt = np.unique(series, return_counts=True)\n",
    "    return np.square(cnt/cnt.sum()).sum()    \n",
    "\n",
    "hhi_lad = tech_SIC_geo.groupby('oslaua').agg({'oslaua': 'count', 'primary_uk_sic_2007': hhi})\n",
    "print(hhi_lad)"
   ]
  },
  {
   "cell_type": "code",
   "execution_count": 125,
   "metadata": {},
   "outputs": [
    {
     "data": {
      "text/plain": [
       "oslaua\n",
       "N09000009   0.07\n",
       "W06000008   0.07\n",
       "W06000010   0.07\n",
       "W06000001   0.07\n",
       "E07000206   0.07\n",
       "            ... \n",
       "E07000103   0.36\n",
       "E06000028   0.38\n",
       "E07000096   0.40\n",
       "E06000009   0.49\n",
       "E06000053   1.00\n",
       "Name: primary_uk_sic_2007, Length: 393, dtype: float64"
      ]
     },
     "execution_count": 125,
     "metadata": {},
     "output_type": "execute_result"
    }
   ],
   "source": [
    "#sort low to high\n",
    "hhi_lad['primary_uk_sic_2007'].sort_values()"
   ]
  },
  {
   "cell_type": "code",
   "execution_count": 126,
   "metadata": {},
   "outputs": [],
   "source": [
    "#filter out counts under 1000\n",
    "hhi_lad500 = hhi_lad[hhi_lad['oslaua']>2000]"
   ]
  },
  {
   "cell_type": "code",
   "execution_count": 127,
   "metadata": {
    "tags": []
   },
   "outputs": [
    {
     "data": {
      "text/html": [
       "<div>\n",
       "<style scoped>\n",
       "    .dataframe tbody tr th:only-of-type {\n",
       "        vertical-align: middle;\n",
       "    }\n",
       "\n",
       "    .dataframe tbody tr th {\n",
       "        vertical-align: top;\n",
       "    }\n",
       "\n",
       "    .dataframe thead th {\n",
       "        text-align: right;\n",
       "    }\n",
       "</style>\n",
       "<table border=\"1\" class=\"dataframe\">\n",
       "  <thead>\n",
       "    <tr style=\"text-align: right;\">\n",
       "      <th></th>\n",
       "      <th>oslaua</th>\n",
       "      <th>primary_uk_sic_2007</th>\n",
       "    </tr>\n",
       "    <tr>\n",
       "      <th>oslaua</th>\n",
       "      <th></th>\n",
       "      <th></th>\n",
       "    </tr>\n",
       "  </thead>\n",
       "  <tbody>\n",
       "    <tr>\n",
       "      <th>E06000023</th>\n",
       "      <td>2844</td>\n",
       "      <td>0.12</td>\n",
       "    </tr>\n",
       "    <tr>\n",
       "      <th>E06000028</th>\n",
       "      <td>2023</td>\n",
       "      <td>0.38</td>\n",
       "    </tr>\n",
       "    <tr>\n",
       "      <th>E06000042</th>\n",
       "      <td>2226</td>\n",
       "      <td>0.23</td>\n",
       "    </tr>\n",
       "    <tr>\n",
       "      <th>E06000043</th>\n",
       "      <td>6378</td>\n",
       "      <td>0.21</td>\n",
       "    </tr>\n",
       "    <tr>\n",
       "      <th>E07000096</th>\n",
       "      <td>2420</td>\n",
       "      <td>0.40</td>\n",
       "    </tr>\n",
       "    <tr>\n",
       "      <th>E08000003</th>\n",
       "      <td>3413</td>\n",
       "      <td>0.11</td>\n",
       "    </tr>\n",
       "    <tr>\n",
       "      <th>E08000025</th>\n",
       "      <td>3674</td>\n",
       "      <td>0.13</td>\n",
       "    </tr>\n",
       "    <tr>\n",
       "      <th>E08000035</th>\n",
       "      <td>3651</td>\n",
       "      <td>0.19</td>\n",
       "    </tr>\n",
       "    <tr>\n",
       "      <th>E09000001</th>\n",
       "      <td>5796</td>\n",
       "      <td>0.13</td>\n",
       "    </tr>\n",
       "    <tr>\n",
       "      <th>E09000003</th>\n",
       "      <td>4613</td>\n",
       "      <td>0.14</td>\n",
       "    </tr>\n",
       "    <tr>\n",
       "      <th>E09000005</th>\n",
       "      <td>2318</td>\n",
       "      <td>0.16</td>\n",
       "    </tr>\n",
       "    <tr>\n",
       "      <th>E09000006</th>\n",
       "      <td>2087</td>\n",
       "      <td>0.17</td>\n",
       "    </tr>\n",
       "    <tr>\n",
       "      <th>E09000007</th>\n",
       "      <td>11679</td>\n",
       "      <td>0.11</td>\n",
       "    </tr>\n",
       "    <tr>\n",
       "      <th>E09000008</th>\n",
       "      <td>2197</td>\n",
       "      <td>0.20</td>\n",
       "    </tr>\n",
       "    <tr>\n",
       "      <th>E09000009</th>\n",
       "      <td>2494</td>\n",
       "      <td>0.15</td>\n",
       "    </tr>\n",
       "    <tr>\n",
       "      <th>E09000012</th>\n",
       "      <td>8647</td>\n",
       "      <td>0.13</td>\n",
       "    </tr>\n",
       "    <tr>\n",
       "      <th>E09000013</th>\n",
       "      <td>2055</td>\n",
       "      <td>0.09</td>\n",
       "    </tr>\n",
       "    <tr>\n",
       "      <th>E09000014</th>\n",
       "      <td>2179</td>\n",
       "      <td>0.14</td>\n",
       "    </tr>\n",
       "    <tr>\n",
       "      <th>E09000015</th>\n",
       "      <td>3439</td>\n",
       "      <td>0.20</td>\n",
       "    </tr>\n",
       "    <tr>\n",
       "      <th>E09000017</th>\n",
       "      <td>2103</td>\n",
       "      <td>0.20</td>\n",
       "    </tr>\n",
       "    <tr>\n",
       "      <th>E09000018</th>\n",
       "      <td>2441</td>\n",
       "      <td>0.25</td>\n",
       "    </tr>\n",
       "    <tr>\n",
       "      <th>E09000019</th>\n",
       "      <td>7466</td>\n",
       "      <td>0.11</td>\n",
       "    </tr>\n",
       "    <tr>\n",
       "      <th>E09000022</th>\n",
       "      <td>2065</td>\n",
       "      <td>0.12</td>\n",
       "    </tr>\n",
       "    <tr>\n",
       "      <th>E09000024</th>\n",
       "      <td>2535</td>\n",
       "      <td>0.23</td>\n",
       "    </tr>\n",
       "    <tr>\n",
       "      <th>E09000025</th>\n",
       "      <td>2373</td>\n",
       "      <td>0.17</td>\n",
       "    </tr>\n",
       "    <tr>\n",
       "      <th>E09000026</th>\n",
       "      <td>2419</td>\n",
       "      <td>0.24</td>\n",
       "    </tr>\n",
       "    <tr>\n",
       "      <th>E09000027</th>\n",
       "      <td>2194</td>\n",
       "      <td>0.15</td>\n",
       "    </tr>\n",
       "    <tr>\n",
       "      <th>E09000028</th>\n",
       "      <td>3078</td>\n",
       "      <td>0.12</td>\n",
       "    </tr>\n",
       "    <tr>\n",
       "      <th>E09000030</th>\n",
       "      <td>4455</td>\n",
       "      <td>0.16</td>\n",
       "    </tr>\n",
       "    <tr>\n",
       "      <th>E09000032</th>\n",
       "      <td>2802</td>\n",
       "      <td>0.15</td>\n",
       "    </tr>\n",
       "    <tr>\n",
       "      <th>E09000033</th>\n",
       "      <td>9972</td>\n",
       "      <td>0.08</td>\n",
       "    </tr>\n",
       "    <tr>\n",
       "      <th>S12000036</th>\n",
       "      <td>3030</td>\n",
       "      <td>0.16</td>\n",
       "    </tr>\n",
       "    <tr>\n",
       "      <th>S12000046</th>\n",
       "      <td>2572</td>\n",
       "      <td>0.10</td>\n",
       "    </tr>\n",
       "  </tbody>\n",
       "</table>\n",
       "</div>"
      ],
      "text/plain": [
       "           oslaua  primary_uk_sic_2007\n",
       "oslaua                                \n",
       "E06000023    2844                 0.12\n",
       "E06000028    2023                 0.38\n",
       "E06000042    2226                 0.23\n",
       "E06000043    6378                 0.21\n",
       "E07000096    2420                 0.40\n",
       "E08000003    3413                 0.11\n",
       "E08000025    3674                 0.13\n",
       "E08000035    3651                 0.19\n",
       "E09000001    5796                 0.13\n",
       "E09000003    4613                 0.14\n",
       "E09000005    2318                 0.16\n",
       "E09000006    2087                 0.17\n",
       "E09000007   11679                 0.11\n",
       "E09000008    2197                 0.20\n",
       "E09000009    2494                 0.15\n",
       "E09000012    8647                 0.13\n",
       "E09000013    2055                 0.09\n",
       "E09000014    2179                 0.14\n",
       "E09000015    3439                 0.20\n",
       "E09000017    2103                 0.20\n",
       "E09000018    2441                 0.25\n",
       "E09000019    7466                 0.11\n",
       "E09000022    2065                 0.12\n",
       "E09000024    2535                 0.23\n",
       "E09000025    2373                 0.17\n",
       "E09000026    2419                 0.24\n",
       "E09000027    2194                 0.15\n",
       "E09000028    3078                 0.12\n",
       "E09000030    4455                 0.16\n",
       "E09000032    2802                 0.15\n",
       "E09000033    9972                 0.08\n",
       "S12000036    3030                 0.16\n",
       "S12000046    2572                 0.10"
      ]
     },
     "execution_count": 127,
     "metadata": {},
     "output_type": "execute_result"
    }
   ],
   "source": [
    "hhi_lad500"
   ]
  },
  {
   "cell_type": "code",
   "execution_count": 128,
   "metadata": {
    "tags": []
   },
   "outputs": [
    {
     "data": {
      "text/plain": [
       "oslaua\n",
       "E09000033   0.08\n",
       "E09000013   0.09\n",
       "S12000046   0.10\n",
       "E09000007   0.11\n",
       "E08000003   0.11\n",
       "E09000019   0.11\n",
       "E09000022   0.12\n",
       "E06000023   0.12\n",
       "E09000028   0.12\n",
       "E09000012   0.13\n",
       "E08000025   0.13\n",
       "E09000001   0.13\n",
       "E09000003   0.14\n",
       "E09000014   0.14\n",
       "E09000032   0.15\n",
       "E09000009   0.15\n",
       "E09000027   0.15\n",
       "E09000005   0.16\n",
       "E09000030   0.16\n",
       "S12000036   0.16\n",
       "E09000006   0.17\n",
       "E09000025   0.17\n",
       "E08000035   0.19\n",
       "E09000008   0.20\n",
       "E09000017   0.20\n",
       "E09000015   0.20\n",
       "E06000043   0.21\n",
       "E06000042   0.23\n",
       "E09000024   0.23\n",
       "E09000026   0.24\n",
       "E09000018   0.25\n",
       "E06000028   0.38\n",
       "E07000096   0.40\n",
       "Name: primary_uk_sic_2007, dtype: float64"
      ]
     },
     "execution_count": 128,
     "metadata": {},
     "output_type": "execute_result"
    }
   ],
   "source": [
    "hhi_lad500['primary_uk_sic_2007'].sort_values()"
   ]
  },
  {
   "cell_type": "code",
   "execution_count": 129,
   "metadata": {},
   "outputs": [],
   "source": [
    "#location quotient map after the codes down"
   ]
  },
  {
   "cell_type": "code",
   "execution_count": 130,
   "metadata": {},
   "outputs": [],
   "source": [
    "hhi_lad['LAD13CD'] = hhi_lad.index"
   ]
  },
  {
   "cell_type": "code",
   "execution_count": 131,
   "metadata": {},
   "outputs": [
    {
     "name": "stderr",
     "output_type": "stream",
     "text": [
      "/opt/anaconda3/envs/sds2020/lib/python3.7/site-packages/ipykernel_launcher.py:1: SettingWithCopyWarning:\n",
      "\n",
      "\n",
      "A value is trying to be set on a copy of a slice from a DataFrame.\n",
      "Try using .loc[row_indexer,col_indexer] = value instead\n",
      "\n",
      "See the caveats in the documentation: https://pandas.pydata.org/pandas-docs/stable/user_guide/indexing.html#returning-a-view-versus-a-copy\n",
      "\n"
     ]
    }
   ],
   "source": [
    "hhi_lad500['LAD13CD'] = hhi_lad500.index"
   ]
  },
  {
   "cell_type": "code",
   "execution_count": 132,
   "metadata": {},
   "outputs": [
    {
     "data": {
      "text/html": [
       "<div>\n",
       "<style scoped>\n",
       "    .dataframe tbody tr th:only-of-type {\n",
       "        vertical-align: middle;\n",
       "    }\n",
       "\n",
       "    .dataframe tbody tr th {\n",
       "        vertical-align: top;\n",
       "    }\n",
       "\n",
       "    .dataframe thead th {\n",
       "        text-align: right;\n",
       "    }\n",
       "</style>\n",
       "<table border=\"1\" class=\"dataframe\">\n",
       "  <thead>\n",
       "    <tr style=\"text-align: right;\">\n",
       "      <th></th>\n",
       "      <th>oslaua</th>\n",
       "      <th>primary_uk_sic_2007</th>\n",
       "      <th>LAD13CD</th>\n",
       "    </tr>\n",
       "    <tr>\n",
       "      <th>oslaua</th>\n",
       "      <th></th>\n",
       "      <th></th>\n",
       "      <th></th>\n",
       "    </tr>\n",
       "  </thead>\n",
       "  <tbody>\n",
       "    <tr>\n",
       "      <th>E06000001</th>\n",
       "      <td>159</td>\n",
       "      <td>0.12</td>\n",
       "      <td>E06000001</td>\n",
       "    </tr>\n",
       "    <tr>\n",
       "      <th>E06000002</th>\n",
       "      <td>314</td>\n",
       "      <td>0.08</td>\n",
       "      <td>E06000002</td>\n",
       "    </tr>\n",
       "    <tr>\n",
       "      <th>E06000003</th>\n",
       "      <td>217</td>\n",
       "      <td>0.09</td>\n",
       "      <td>E06000003</td>\n",
       "    </tr>\n",
       "    <tr>\n",
       "      <th>E06000004</th>\n",
       "      <td>507</td>\n",
       "      <td>0.10</td>\n",
       "      <td>E06000004</td>\n",
       "    </tr>\n",
       "    <tr>\n",
       "      <th>E06000005</th>\n",
       "      <td>271</td>\n",
       "      <td>0.12</td>\n",
       "      <td>E06000005</td>\n",
       "    </tr>\n",
       "    <tr>\n",
       "      <th>...</th>\n",
       "      <td>...</td>\n",
       "      <td>...</td>\n",
       "      <td>...</td>\n",
       "    </tr>\n",
       "    <tr>\n",
       "      <th>W06000020</th>\n",
       "      <td>141</td>\n",
       "      <td>0.11</td>\n",
       "      <td>W06000020</td>\n",
       "    </tr>\n",
       "    <tr>\n",
       "      <th>W06000021</th>\n",
       "      <td>311</td>\n",
       "      <td>0.12</td>\n",
       "      <td>W06000021</td>\n",
       "    </tr>\n",
       "    <tr>\n",
       "      <th>W06000022</th>\n",
       "      <td>377</td>\n",
       "      <td>0.11</td>\n",
       "      <td>W06000022</td>\n",
       "    </tr>\n",
       "    <tr>\n",
       "      <th>W06000023</th>\n",
       "      <td>254</td>\n",
       "      <td>0.11</td>\n",
       "      <td>W06000023</td>\n",
       "    </tr>\n",
       "    <tr>\n",
       "      <th>W06000024</th>\n",
       "      <td>57</td>\n",
       "      <td>0.10</td>\n",
       "      <td>W06000024</td>\n",
       "    </tr>\n",
       "  </tbody>\n",
       "</table>\n",
       "<p>393 rows × 3 columns</p>\n",
       "</div>"
      ],
      "text/plain": [
       "           oslaua  primary_uk_sic_2007    LAD13CD\n",
       "oslaua                                           \n",
       "E06000001     159                 0.12  E06000001\n",
       "E06000002     314                 0.08  E06000002\n",
       "E06000003     217                 0.09  E06000003\n",
       "E06000004     507                 0.10  E06000004\n",
       "E06000005     271                 0.12  E06000005\n",
       "...           ...                  ...        ...\n",
       "W06000020     141                 0.11  W06000020\n",
       "W06000021     311                 0.12  W06000021\n",
       "W06000022     377                 0.11  W06000022\n",
       "W06000023     254                 0.11  W06000023\n",
       "W06000024      57                 0.10  W06000024\n",
       "\n",
       "[393 rows x 3 columns]"
      ]
     },
     "execution_count": 132,
     "metadata": {},
     "output_type": "execute_result"
    }
   ],
   "source": [
    "hhi_lad"
   ]
  },
  {
   "cell_type": "code",
   "execution_count": 133,
   "metadata": {},
   "outputs": [],
   "source": [
    "tech_mbdbhhi2 = pd.merge(tech_mbdb1, hhi_lad500, how = \"left\", on=[\"LAD13CD\"])"
   ]
  },
  {
   "cell_type": "raw",
   "metadata": {
    "tags": []
   },
   "source": [
    "fig = px.choropleth_mapbox(tech_mbdbhhi2, geojson=LAD_json, locations=tech_mbdbhhi2.LAD13CD, color='primary_uk_sic_2007_y',featureidkey=\"properties.LAD13CD\",\n",
    "                           color_continuous_scale=\"inferno\",\n",
    "                           range_color=(0, 0.5),\n",
    "                           mapbox_style=\"carto-positron\",\n",
    "                           zoom=3, center = {\"lat\": 51.505453, \"lon\": -0.268839},\n",
    "                           opacity=0.5,\n",
    "                           labels={'comp':'no.comp'}\n",
    "                          )\n",
    "fig.update_layout(margin={\"r\":0,\"t\":0,\"l\":0,\"b\":0})\n",
    "fig.show()"
   ]
  },
  {
   "cell_type": "markdown",
   "metadata": {},
   "source": [
    "tech_mbdbhhi = pd.merge(tech_mbdb1, hhi_lad, how = \"left\", on=[\"LAD13CD\"])"
   ]
  },
  {
   "cell_type": "markdown",
   "metadata": {
    "jupyter": {
     "outputs_hidden": true
    },
    "tags": []
   },
   "source": [
    "fig = px.choropleth_mapbox(tech_mbdbhhi, geojson=LAD_json, locations=tech_mbdbhhi.LAD13CD, color='primary_uk_sic_2007_y',featureidkey=\"properties.LAD13CD\",\n",
    "                           color_continuous_scale=\"Viridis\",\n",
    "                           range_color=(0, 0.5),\n",
    "                           mapbox_style=\"carto-positron\",\n",
    "                           zoom=3, center = {\"lat\": 51.505453, \"lon\": -0.268839},\n",
    "                           opacity=0.5,\n",
    "                           labels={'comp':'no.comp'}\n",
    "                          )\n",
    "fig.update_layout(margin={\"r\":0,\"t\":0,\"l\":0,\"b\":0})\n",
    "fig.show()"
   ]
  },
  {
   "cell_type": "code",
   "execution_count": 14,
   "metadata": {},
   "outputs": [],
   "source": [
    "#subset SIC for Kmeans (bio & med)\n",
    "tech_mb = tech_SIC_geo[tech_SIC_geo[\"primary_uk_sic_2007\"].isin([26511,26513,26600,26701,32500,72190,74202,21100,21200,72110])]"
   ]
  },
  {
   "cell_type": "code",
   "execution_count": 15,
   "metadata": {},
   "outputs": [
    {
     "name": "stdout",
     "output_type": "stream",
     "text": [
      "<class 'pandas.core.frame.DataFrame'>\n",
      "Int64Index: 10510 entries, 0 to 319622\n",
      "Data columns (total 70 columns):\n",
      " #   Column                            Non-Null Count  Dtype  \n",
      "---  ------                            --------------  -----  \n",
      " 0   Unnamed: 0                        10510 non-null  int64  \n",
      " 1   Unnamed: 0.1                      10510 non-null  int64  \n",
      " 2   Unnamed: 0.1.1                    10510 non-null  int64  \n",
      " 3   registered_number                 10510 non-null  object \n",
      " 4   incorporation_date                8481 non-null   object \n",
      " 5   dissolution_date                  12 non-null     object \n",
      " 6   latest_accounts_cash              433 non-null    float64\n",
      " 7   latest_accounts_assets            4359 non-null   float64\n",
      " 8   latest_accounts_liabilities       848 non-null    float64\n",
      " 9   year_obs                          10510 non-null  int64  \n",
      " 10  sic_year                          8474 non-null   float64\n",
      " 11  sic4                              8474 non-null   float64\n",
      " 12  change_sic                        8481 non-null   float64\n",
      " 13  id                                8481 non-null   float64\n",
      " 14  jurisdiction_code                 8481 non-null   object \n",
      " 15  name                              8481 non-null   object \n",
      " 16  normalised_name                   8481 non-null   object \n",
      " 17  registered_addresspostal_code     10194 non-null  object \n",
      " 18  company_type                      8481 non-null   object \n",
      " 19  year_accounts                     4970 non-null   float64\n",
      " 20  registeredname                    586 non-null    object \n",
      " 21  incorporationdate                 575 non-null    object \n",
      " 22  companieshousestatus              586 non-null    object \n",
      " 23  primaryaddresspostcodeifuk        586 non-null    object \n",
      " 24  alltradingaddressespostcodeifuk   586 non-null    object \n",
      " 25  siccodes2007                      586 non-null    float64\n",
      " 26  istheultimateparent               586 non-null    object \n",
      " 27  numberofchildcompanies            586 non-null    float64\n",
      " 28  companieshousenumbersofchildcomp  83 non-null     object \n",
      " 29  numberofcompaniesinitscorporates  586 non-null    float64\n",
      " 30  companieshousenumbersofcompanies  586 non-null    object \n",
      " 31  bh_dummy                          8505 non-null   float64\n",
      " 32  bh_notmerged                      8505 non-null   float64\n",
      " 33  oc                                8505 non-null   float64\n",
      " 34  string                            8265 non-null   object \n",
      " 35  keep                              8265 non-null   float64\n",
      " 36  merge_max_anna                    8505 non-null   float64\n",
      " 37  max_anna                          8481 non-null   float64\n",
      " 38  company_name                      10510 non-null  object \n",
      " 39  bvd_id                            10510 non-null  object \n",
      " 40  primary_uk_sic_2007               10510 non-null  float64\n",
      " 41  nr_employees_last_avail_yr        3960 non-null   object \n",
      " 42  ro_full_postcode                  10233 non-null  object \n",
      " 43  ro_country                        10510 non-null  object \n",
      " 44  guo_bvd_id                        10510 non-null  object \n",
      " 45  guo_name                          10510 non-null  object \n",
      " 46  guo_direct_share                  10510 non-null  object \n",
      " 47  duo_bvd_id                        10510 non-null  object \n",
      " 48  duo_name                          10510 non-null  object \n",
      " 49  duo_direct_share                  9684 non-null   float64\n",
      " 50  merge_fame                        10510 non-null  int64  \n",
      " 51  fame                              10510 non-null  float64\n",
      " 52  sample                            10486 non-null  object \n",
      " 53  birth_year                        8481 non-null   float64\n",
      " 54  diss_year                         12 non-null     float64\n",
      " 55  age                               8481 non-null   float64\n",
      " 56  postcode                          10194 non-null  object \n",
      " 57  pcd2                              9906 non-null   object \n",
      " 58  pcds                              9906 non-null   object \n",
      " 59  cty                               9906 non-null   object \n",
      " 60  laua                              9906 non-null   object \n",
      " 61  ctry                              9906 non-null   object \n",
      " 62  rgn                               9906 non-null   object \n",
      " 63  ttwa                              9906 non-null   object \n",
      " 64  pct                               9906 non-null   object \n",
      " 65  lep1                              9906 non-null   object \n",
      " 66  lep2                              1509 non-null   object \n",
      " 67  oslaua                            9886 non-null   object \n",
      " 68  lat                               9886 non-null   float64\n",
      " 69  long                              9886 non-null   float64\n",
      "dtypes: float64(25), int64(5), object(40)\n",
      "memory usage: 5.7+ MB\n"
     ]
    }
   ],
   "source": [
    "tech_mb.info()"
   ]
  },
  {
   "cell_type": "code",
   "execution_count": 16,
   "metadata": {},
   "outputs": [],
   "source": [
    "#drop na rows to see how many dropped\n",
    "tech_mb = tech_mb.replace(np.nan, 0)\n",
    "tech_mb = tech_mb.replace(np.NaN, 0)"
   ]
  },
  {
   "cell_type": "code",
   "execution_count": 17,
   "metadata": {},
   "outputs": [
    {
     "data": {
      "text/html": [
       "<div>\n",
       "<style scoped>\n",
       "    .dataframe tbody tr th:only-of-type {\n",
       "        vertical-align: middle;\n",
       "    }\n",
       "\n",
       "    .dataframe tbody tr th {\n",
       "        vertical-align: top;\n",
       "    }\n",
       "\n",
       "    .dataframe thead th {\n",
       "        text-align: right;\n",
       "    }\n",
       "</style>\n",
       "<table border=\"1\" class=\"dataframe\">\n",
       "  <thead>\n",
       "    <tr style=\"text-align: right;\">\n",
       "      <th></th>\n",
       "      <th>latest_accounts_cash</th>\n",
       "      <th>latest_accounts_assets</th>\n",
       "      <th>latest_accounts_liabilities</th>\n",
       "      <th>age</th>\n",
       "      <th>nr_employees_last_avail_yr</th>\n",
       "      <th>lat</th>\n",
       "      <th>long</th>\n",
       "    </tr>\n",
       "    <tr>\n",
       "      <th>oslaua</th>\n",
       "      <th></th>\n",
       "      <th></th>\n",
       "      <th></th>\n",
       "      <th></th>\n",
       "      <th></th>\n",
       "      <th></th>\n",
       "      <th></th>\n",
       "    </tr>\n",
       "  </thead>\n",
       "  <tbody>\n",
       "    <tr>\n",
       "      <th>0</th>\n",
       "      <td>0.00</td>\n",
       "      <td>0.00</td>\n",
       "      <td>0.00</td>\n",
       "      <td>0.00</td>\n",
       "      <td>0</td>\n",
       "      <td>0.00</td>\n",
       "      <td>0.00</td>\n",
       "    </tr>\n",
       "    <tr>\n",
       "      <th>0</th>\n",
       "      <td>0.00</td>\n",
       "      <td>0.00</td>\n",
       "      <td>0.00</td>\n",
       "      <td>0.00</td>\n",
       "      <td>0</td>\n",
       "      <td>0.00</td>\n",
       "      <td>0.00</td>\n",
       "    </tr>\n",
       "    <tr>\n",
       "      <th>0</th>\n",
       "      <td>0.00</td>\n",
       "      <td>0.00</td>\n",
       "      <td>0.00</td>\n",
       "      <td>0.00</td>\n",
       "      <td>0</td>\n",
       "      <td>0.00</td>\n",
       "      <td>0.00</td>\n",
       "    </tr>\n",
       "    <tr>\n",
       "      <th>0</th>\n",
       "      <td>0.00</td>\n",
       "      <td>0.00</td>\n",
       "      <td>0.00</td>\n",
       "      <td>33.00</td>\n",
       "      <td>50.0</td>\n",
       "      <td>0.00</td>\n",
       "      <td>0.00</td>\n",
       "    </tr>\n",
       "    <tr>\n",
       "      <th>0</th>\n",
       "      <td>0.00</td>\n",
       "      <td>0.00</td>\n",
       "      <td>0.00</td>\n",
       "      <td>0.00</td>\n",
       "      <td>0</td>\n",
       "      <td>0.00</td>\n",
       "      <td>0.00</td>\n",
       "    </tr>\n",
       "    <tr>\n",
       "      <th>...</th>\n",
       "      <td>...</td>\n",
       "      <td>...</td>\n",
       "      <td>...</td>\n",
       "      <td>...</td>\n",
       "      <td>...</td>\n",
       "      <td>...</td>\n",
       "      <td>...</td>\n",
       "    </tr>\n",
       "    <tr>\n",
       "      <th>S12000033</th>\n",
       "      <td>0.00</td>\n",
       "      <td>0.00</td>\n",
       "      <td>0.00</td>\n",
       "      <td>0.00</td>\n",
       "      <td>0</td>\n",
       "      <td>57.14</td>\n",
       "      <td>-2.16</td>\n",
       "    </tr>\n",
       "    <tr>\n",
       "      <th>S12000033</th>\n",
       "      <td>36.00</td>\n",
       "      <td>36.00</td>\n",
       "      <td>0.00</td>\n",
       "      <td>25.00</td>\n",
       "      <td>0</td>\n",
       "      <td>57.12</td>\n",
       "      <td>-2.20</td>\n",
       "    </tr>\n",
       "    <tr>\n",
       "      <th>S12000033</th>\n",
       "      <td>0.00</td>\n",
       "      <td>3,810.00</td>\n",
       "      <td>0.00</td>\n",
       "      <td>16.00</td>\n",
       "      <td>0</td>\n",
       "      <td>57.12</td>\n",
       "      <td>-2.16</td>\n",
       "    </tr>\n",
       "    <tr>\n",
       "      <th>S12000033</th>\n",
       "      <td>0.00</td>\n",
       "      <td>0.00</td>\n",
       "      <td>0.00</td>\n",
       "      <td>24.00</td>\n",
       "      <td>0</td>\n",
       "      <td>57.15</td>\n",
       "      <td>-2.16</td>\n",
       "    </tr>\n",
       "    <tr>\n",
       "      <th>S12000033</th>\n",
       "      <td>0.00</td>\n",
       "      <td>0.00</td>\n",
       "      <td>0.00</td>\n",
       "      <td>32.00</td>\n",
       "      <td>14.0</td>\n",
       "      <td>57.15</td>\n",
       "      <td>-2.16</td>\n",
       "    </tr>\n",
       "  </tbody>\n",
       "</table>\n",
       "<p>100 rows × 7 columns</p>\n",
       "</div>"
      ],
      "text/plain": [
       "           latest_accounts_cash  latest_accounts_assets  \\\n",
       "oslaua                                                    \n",
       "0                          0.00                    0.00   \n",
       "0                          0.00                    0.00   \n",
       "0                          0.00                    0.00   \n",
       "0                          0.00                    0.00   \n",
       "0                          0.00                    0.00   \n",
       "...                         ...                     ...   \n",
       "S12000033                  0.00                    0.00   \n",
       "S12000033                 36.00                   36.00   \n",
       "S12000033                  0.00                3,810.00   \n",
       "S12000033                  0.00                    0.00   \n",
       "S12000033                  0.00                    0.00   \n",
       "\n",
       "           latest_accounts_liabilities   age nr_employees_last_avail_yr   lat  \\\n",
       "oslaua                                                                          \n",
       "0                                 0.00  0.00                          0  0.00   \n",
       "0                                 0.00  0.00                          0  0.00   \n",
       "0                                 0.00  0.00                          0  0.00   \n",
       "0                                 0.00 33.00                       50.0  0.00   \n",
       "0                                 0.00  0.00                          0  0.00   \n",
       "...                                ...   ...                        ...   ...   \n",
       "S12000033                         0.00  0.00                          0 57.14   \n",
       "S12000033                         0.00 25.00                          0 57.12   \n",
       "S12000033                         0.00 16.00                          0 57.12   \n",
       "S12000033                         0.00 24.00                          0 57.15   \n",
       "S12000033                         0.00 32.00                       14.0 57.15   \n",
       "\n",
       "           long  \n",
       "oslaua           \n",
       "0          0.00  \n",
       "0          0.00  \n",
       "0          0.00  \n",
       "0          0.00  \n",
       "0          0.00  \n",
       "...         ...  \n",
       "S12000033 -2.16  \n",
       "S12000033 -2.20  \n",
       "S12000033 -2.16  \n",
       "S12000033 -2.16  \n",
       "S12000033 -2.16  \n",
       "\n",
       "[100 rows x 7 columns]"
      ]
     },
     "execution_count": 17,
     "metadata": {},
     "output_type": "execute_result"
    }
   ],
   "source": [
    "#lots of variables coloumns are unique identifier strings, would not be useful in clustering, so only select useful\n",
    "tech_mb1 = tech_mb[['latest_accounts_cash','latest_accounts_assets','latest_accounts_liabilities','age','oslaua','nr_employees_last_avail_yr','lat','long']].set_index('oslaua').copy()\n",
    "tech_mb1.head(100)"
   ]
  },
  {
   "cell_type": "code",
   "execution_count": 18,
   "metadata": {},
   "outputs": [],
   "source": [
    "#drop na oslaua\n",
    "tech_mb1 = tech_mb1.drop(index= 0)"
   ]
  },
  {
   "cell_type": "code",
   "execution_count": 19,
   "metadata": {},
   "outputs": [
    {
     "data": {
      "text/plain": [
       "9886"
      ]
     },
     "execution_count": 19,
     "metadata": {},
     "output_type": "execute_result"
    }
   ],
   "source": [
    "len(tech_mb1)"
   ]
  },
  {
   "cell_type": "code",
   "execution_count": null,
   "metadata": {},
   "outputs": [],
   "source": []
  },
  {
   "cell_type": "code",
   "execution_count": 20,
   "metadata": {},
   "outputs": [
    {
     "name": "stdout",
     "output_type": "stream",
     "text": [
      "<class 'pandas.core.frame.DataFrame'>\n",
      "Index: 9886 entries, S12000033 to S12000027\n",
      "Data columns (total 7 columns):\n",
      " #   Column                       Non-Null Count  Dtype  \n",
      "---  ------                       --------------  -----  \n",
      " 0   latest_accounts_cash         9886 non-null   float64\n",
      " 1   latest_accounts_assets       9886 non-null   float64\n",
      " 2   latest_accounts_liabilities  9886 non-null   float64\n",
      " 3   age                          9886 non-null   float64\n",
      " 4   nr_employees_last_avail_yr   9886 non-null   object \n",
      " 5   lat                          9886 non-null   float64\n",
      " 6   long                         9886 non-null   float64\n",
      "dtypes: float64(6), object(1)\n",
      "memory usage: 617.9+ KB\n"
     ]
    }
   ],
   "source": [
    "tech_mb1.info()"
   ]
  },
  {
   "cell_type": "code",
   "execution_count": 21,
   "metadata": {},
   "outputs": [],
   "source": [
    "#delete string 'n.a.'\n",
    "tech_mb1 = tech_mb1[tech_mb1.nr_employees_last_avail_yr != 'n.a.']"
   ]
  },
  {
   "cell_type": "code",
   "execution_count": 22,
   "metadata": {},
   "outputs": [],
   "source": [
    "#change object to float\n",
    "tech_mb1[\"nr_employees_last_avail_yr\"] = pd.to_numeric(tech_mb1[\"nr_employees_last_avail_yr\"])\n",
    "#change float to object\n",
    "#tech_mb1['primary_uk_sic_2007'] = tech_mb1['primary_uk_sic_2007'].astype(str)"
   ]
  },
  {
   "cell_type": "code",
   "execution_count": 23,
   "metadata": {},
   "outputs": [],
   "source": [
    "#filter out zero employees\n",
    "#tech_mb1 = tech_mb1[tech_mb1.nr_employees_last_avail_yr>0]"
   ]
  },
  {
   "cell_type": "code",
   "execution_count": 24,
   "metadata": {},
   "outputs": [
    {
     "data": {
      "text/plain": [
       "9859"
      ]
     },
     "execution_count": 24,
     "metadata": {},
     "output_type": "execute_result"
    }
   ],
   "source": [
    "len(tech_mb1)"
   ]
  },
  {
   "cell_type": "code",
   "execution_count": 25,
   "metadata": {},
   "outputs": [],
   "source": [
    "#tech_mb2 = pd.get_dummies(tech_mb1)\n",
    "tech_mb2 = tech_mb1"
   ]
  },
  {
   "cell_type": "code",
   "execution_count": 26,
   "metadata": {},
   "outputs": [
    {
     "data": {
      "text/html": [
       "<div>\n",
       "<style scoped>\n",
       "    .dataframe tbody tr th:only-of-type {\n",
       "        vertical-align: middle;\n",
       "    }\n",
       "\n",
       "    .dataframe tbody tr th {\n",
       "        vertical-align: top;\n",
       "    }\n",
       "\n",
       "    .dataframe thead th {\n",
       "        text-align: right;\n",
       "    }\n",
       "</style>\n",
       "<table border=\"1\" class=\"dataframe\">\n",
       "  <thead>\n",
       "    <tr style=\"text-align: right;\">\n",
       "      <th></th>\n",
       "      <th>latest_accounts_cash</th>\n",
       "      <th>latest_accounts_assets</th>\n",
       "      <th>latest_accounts_liabilities</th>\n",
       "      <th>age</th>\n",
       "      <th>nr_employees_last_avail_yr</th>\n",
       "      <th>lat</th>\n",
       "      <th>long</th>\n",
       "    </tr>\n",
       "    <tr>\n",
       "      <th>oslaua</th>\n",
       "      <th></th>\n",
       "      <th></th>\n",
       "      <th></th>\n",
       "      <th></th>\n",
       "      <th></th>\n",
       "      <th></th>\n",
       "      <th></th>\n",
       "    </tr>\n",
       "  </thead>\n",
       "  <tbody>\n",
       "    <tr>\n",
       "      <th>S12000033</th>\n",
       "      <td>0.00</td>\n",
       "      <td>0.00</td>\n",
       "      <td>0.00</td>\n",
       "      <td>9.00</td>\n",
       "      <td>2.00</td>\n",
       "      <td>57.14</td>\n",
       "      <td>-2.11</td>\n",
       "    </tr>\n",
       "    <tr>\n",
       "      <th>S12000033</th>\n",
       "      <td>0.00</td>\n",
       "      <td>95,232.00</td>\n",
       "      <td>0.00</td>\n",
       "      <td>16.00</td>\n",
       "      <td>3.00</td>\n",
       "      <td>57.14</td>\n",
       "      <td>-2.11</td>\n",
       "    </tr>\n",
       "    <tr>\n",
       "      <th>S12000033</th>\n",
       "      <td>0.00</td>\n",
       "      <td>0.00</td>\n",
       "      <td>0.00</td>\n",
       "      <td>23.00</td>\n",
       "      <td>5.00</td>\n",
       "      <td>57.14</td>\n",
       "      <td>-2.11</td>\n",
       "    </tr>\n",
       "    <tr>\n",
       "      <th>S12000033</th>\n",
       "      <td>0.00</td>\n",
       "      <td>0.00</td>\n",
       "      <td>0.00</td>\n",
       "      <td>18.00</td>\n",
       "      <td>13.00</td>\n",
       "      <td>57.15</td>\n",
       "      <td>-2.12</td>\n",
       "    </tr>\n",
       "    <tr>\n",
       "      <th>S12000033</th>\n",
       "      <td>0.00</td>\n",
       "      <td>0.00</td>\n",
       "      <td>0.00</td>\n",
       "      <td>7.00</td>\n",
       "      <td>0.00</td>\n",
       "      <td>57.15</td>\n",
       "      <td>-2.12</td>\n",
       "    </tr>\n",
       "  </tbody>\n",
       "</table>\n",
       "</div>"
      ],
      "text/plain": [
       "           latest_accounts_cash  latest_accounts_assets  \\\n",
       "oslaua                                                    \n",
       "S12000033                  0.00                    0.00   \n",
       "S12000033                  0.00               95,232.00   \n",
       "S12000033                  0.00                    0.00   \n",
       "S12000033                  0.00                    0.00   \n",
       "S12000033                  0.00                    0.00   \n",
       "\n",
       "           latest_accounts_liabilities   age  nr_employees_last_avail_yr  \\\n",
       "oslaua                                                                     \n",
       "S12000033                         0.00  9.00                        2.00   \n",
       "S12000033                         0.00 16.00                        3.00   \n",
       "S12000033                         0.00 23.00                        5.00   \n",
       "S12000033                         0.00 18.00                       13.00   \n",
       "S12000033                         0.00  7.00                        0.00   \n",
       "\n",
       "            lat  long  \n",
       "oslaua                 \n",
       "S12000033 57.14 -2.11  \n",
       "S12000033 57.14 -2.11  \n",
       "S12000033 57.14 -2.11  \n",
       "S12000033 57.15 -2.12  \n",
       "S12000033 57.15 -2.12  "
      ]
     },
     "execution_count": 26,
     "metadata": {},
     "output_type": "execute_result"
    }
   ],
   "source": [
    "tech_mb2.head()"
   ]
  },
  {
   "cell_type": "code",
   "execution_count": 27,
   "metadata": {},
   "outputs": [
    {
     "data": {
      "text/plain": [
       "<AxesSubplot:ylabel='Frequency'>"
      ]
     },
     "execution_count": 27,
     "metadata": {},
     "output_type": "execute_result"
    },
    {
     "data": {
      "image/png": "[encoded data removed]",
      "text/plain": [
       "<Figure size 432x288 with 1 Axes>"
      ]
     },
     "metadata": {
      "needs_background": "light"
     },
     "output_type": "display_data"
    }
   ],
   "source": [
    "tech_mb2.latest_accounts_assets.plot.hist(bins=20)"
   ]
  },
  {
   "cell_type": "code",
   "execution_count": null,
   "metadata": {},
   "outputs": [],
   "source": []
  },
  {
   "cell_type": "code",
   "execution_count": 28,
   "metadata": {},
   "outputs": [],
   "source": [
    "import sklearn\n",
    "from sklearn.neighbors import NearestNeighbors\n",
    "from sklearn.manifold import TSNE\n",
    "from sklearn.decomposition import PCA\n",
    "from sklearn.preprocessing import PowerTransformer, RobustScaler, StandardScaler, MinMaxScaler\n",
    "from sklearn.cluster import KMeans, DBSCAN, OPTICS\n",
    "from esda.adbscan import ADBSCAN"
   ]
  },
  {
   "cell_type": "code",
   "execution_count": 29,
   "metadata": {},
   "outputs": [],
   "source": [
    "#Initialise the Scalers and Transformers\n",
    "rbs = RobustScaler(quantile_range=[0.025,0.975])\n",
    "mms = MinMaxScaler(feature_range=(-1,1))\n",
    "pts = PowerTransformer()"
   ]
  },
  {
   "cell_type": "code",
   "execution_count": 30,
   "metadata": {},
   "outputs": [
    {
     "data": {
      "text/html": [
       "<div>\n",
       "<style scoped>\n",
       "    .dataframe tbody tr th:only-of-type {\n",
       "        vertical-align: middle;\n",
       "    }\n",
       "\n",
       "    .dataframe tbody tr th {\n",
       "        vertical-align: top;\n",
       "    }\n",
       "\n",
       "    .dataframe thead th {\n",
       "        text-align: right;\n",
       "    }\n",
       "</style>\n",
       "<table border=\"1\" class=\"dataframe\">\n",
       "  <thead>\n",
       "    <tr style=\"text-align: right;\">\n",
       "      <th></th>\n",
       "      <th>latest_accounts_cash</th>\n",
       "      <th>latest_accounts_assets</th>\n",
       "      <th>latest_accounts_liabilities</th>\n",
       "      <th>age</th>\n",
       "      <th>nr_employees_last_avail_yr</th>\n",
       "      <th>lat</th>\n",
       "      <th>long</th>\n",
       "    </tr>\n",
       "    <tr>\n",
       "      <th>oslaua</th>\n",
       "      <th></th>\n",
       "      <th></th>\n",
       "      <th></th>\n",
       "      <th></th>\n",
       "      <th></th>\n",
       "      <th></th>\n",
       "      <th></th>\n",
       "    </tr>\n",
       "  </thead>\n",
       "  <tbody>\n",
       "    <tr>\n",
       "      <th>S12000033</th>\n",
       "      <td>-0.21</td>\n",
       "      <td>-0.85</td>\n",
       "      <td>-0.29</td>\n",
       "      <td>0.69</td>\n",
       "      <td>1.04</td>\n",
       "      <td>3.02</td>\n",
       "      <td>-0.76</td>\n",
       "    </tr>\n",
       "    <tr>\n",
       "      <th>S12000033</th>\n",
       "      <td>-0.21</td>\n",
       "      <td>1.30</td>\n",
       "      <td>-0.29</td>\n",
       "      <td>1.08</td>\n",
       "      <td>1.26</td>\n",
       "      <td>3.02</td>\n",
       "      <td>-0.77</td>\n",
       "    </tr>\n",
       "    <tr>\n",
       "      <th>S12000033</th>\n",
       "      <td>-0.21</td>\n",
       "      <td>-0.85</td>\n",
       "      <td>-0.29</td>\n",
       "      <td>1.32</td>\n",
       "      <td>1.49</td>\n",
       "      <td>3.02</td>\n",
       "      <td>-0.76</td>\n",
       "    </tr>\n",
       "    <tr>\n",
       "      <th>S12000033</th>\n",
       "      <td>-0.21</td>\n",
       "      <td>-0.85</td>\n",
       "      <td>-0.29</td>\n",
       "      <td>1.16</td>\n",
       "      <td>1.75</td>\n",
       "      <td>3.02</td>\n",
       "      <td>-0.77</td>\n",
       "    </tr>\n",
       "    <tr>\n",
       "      <th>S12000033</th>\n",
       "      <td>-0.21</td>\n",
       "      <td>-0.85</td>\n",
       "      <td>-0.29</td>\n",
       "      <td>0.52</td>\n",
       "      <td>-0.72</td>\n",
       "      <td>3.02</td>\n",
       "      <td>-0.77</td>\n",
       "    </tr>\n",
       "  </tbody>\n",
       "</table>\n",
       "</div>"
      ],
      "text/plain": [
       "           latest_accounts_cash  latest_accounts_assets  \\\n",
       "oslaua                                                    \n",
       "S12000033                 -0.21                   -0.85   \n",
       "S12000033                 -0.21                    1.30   \n",
       "S12000033                 -0.21                   -0.85   \n",
       "S12000033                 -0.21                   -0.85   \n",
       "S12000033                 -0.21                   -0.85   \n",
       "\n",
       "           latest_accounts_liabilities  age  nr_employees_last_avail_yr  lat  \\\n",
       "oslaua                                                                         \n",
       "S12000033                        -0.29 0.69                        1.04 3.02   \n",
       "S12000033                        -0.29 1.08                        1.26 3.02   \n",
       "S12000033                        -0.29 1.32                        1.49 3.02   \n",
       "S12000033                        -0.29 1.16                        1.75 3.02   \n",
       "S12000033                        -0.29 0.52                       -0.72 3.02   \n",
       "\n",
       "           long  \n",
       "oslaua           \n",
       "S12000033 -0.76  \n",
       "S12000033 -0.77  \n",
       "S12000033 -0.76  \n",
       "S12000033 -0.77  \n",
       "S12000033 -0.77  "
      ]
     },
     "execution_count": 30,
     "metadata": {},
     "output_type": "execute_result"
    }
   ],
   "source": [
    "tech_mbn = tech_mb2.copy()\n",
    "for c in tech_mb2.columns.values:\n",
    "    tech_mbn[c] = pts.fit_transform(tech_mb2[c].values.reshape(-1,1))\n",
    "tech_mbn.head()"
   ]
  },
  {
   "cell_type": "markdown",
   "metadata": {},
   "source": [
    "from sklearn.preprocessing import RobustScaler, MinMaxScaler\n",
    "rs = RobustScaler(quantile_range=(10.0, 90.0))"
   ]
  },
  {
   "cell_type": "markdown",
   "metadata": {},
   "source": [
    "#fit transform\n",
    "tech_mbn = tech_mb1.copy()\n",
    "for c in tech_mb1.columns.values:\n",
    "    tech_mbn[c] = rs.fit_transform(tech_mb1[c].values.reshape(-1,1))\n",
    "tech_mbn.head()"
   ]
  },
  {
   "cell_type": "markdown",
   "metadata": {},
   "source": [
    "c_nm   = 'KMeans' # Clustering name\n",
    "k_pref = 5 # Number of clusters (from below)\n",
    "\n",
    "kmeans = KMeans(n_clusters=k_pref, n_init=25, random_state=42).fit(tech_mbn) # The process\n",
    "\n",
    "print(kmeans.labels_) # The results"
   ]
  },
  {
   "cell_type": "code",
   "execution_count": 31,
   "metadata": {},
   "outputs": [],
   "source": [
    "ssd = []\n",
    "\n",
    "for k in range(2,15):\n",
    "    \n",
    "    model = KMeans(n_clusters=k)\n",
    "    \n",
    "    \n",
    "    model.fit(tech_mbn)\n",
    "    \n",
    "    #Sum of squared distances of samples to their closest cluster center.\n",
    "    ssd.append(model.inertia_)"
   ]
  },
  {
   "cell_type": "code",
   "execution_count": 32,
   "metadata": {},
   "outputs": [
    {
     "data": {
      "text/plain": [
       "Text(0, 0.5, ' Sum of Squared Distances')"
      ]
     },
     "execution_count": 32,
     "metadata": {},
     "output_type": "execute_result"
    },
    {
     "data": {
      "image/png": "[encoded data removed]",
      "text/plain": [
       "<Figure size 432x288 with 1 Axes>"
      ]
     },
     "metadata": {
      "needs_background": "light"
     },
     "output_type": "display_data"
    }
   ],
   "source": [
    "plt.plot(range(2,15),ssd,'o--')\n",
    "plt.xlabel(\"K Value\")\n",
    "plt.ylabel(\" Sum of Squared Distances\")"
   ]
  },
  {
   "cell_type": "code",
   "execution_count": 33,
   "metadata": {},
   "outputs": [
    {
     "data": {
      "text/plain": [
       "0           nan\n",
       "1    -12,727.68\n",
       "2     -6,563.94\n",
       "3     -5,622.66\n",
       "4     -5,266.37\n",
       "5     -2,580.49\n",
       "6     -2,141.11\n",
       "7     -1,452.27\n",
       "8     -1,219.45\n",
       "9       -998.81\n",
       "10    -1,024.44\n",
       "11    -1,153.92\n",
       "12      -655.93\n",
       "dtype: float64"
      ]
     },
     "execution_count": 33,
     "metadata": {},
     "output_type": "execute_result"
    }
   ],
   "source": [
    "# Change in SSD from previous K value!\n",
    "pd.Series(ssd).diff()"
   ]
  },
  {
   "cell_type": "markdown",
   "metadata": {},
   "source": [
    "# evluation of k mean using silhouette analysis rather than elbow techniqu\n",
    "#https://medium.com/@cmukesh8688/silhouette-analysis-in-k-means-clustering-cefa9a7ad111\n",
    "# Adapted from: http://scikit-learn.org/stable/auto_examples/cluster/plot_kmeans_silhouette_analysis.html\n",
    "from sklearn.cluster import KMeans\n",
    "from sklearn.metrics import silhouette_samples, silhouette_score\n",
    "#gLADrc = gLADr.drop(list(gLADr.columns[gLADr.isnull().any().values].values), axis=1)\n",
    "\n",
    "text = []\n",
    "\n",
    "for k in range(3,12):\n",
    "    # Debugging\n",
    "    print(\"Cluster count: \" + str(k))\n",
    "    \n",
    "    #############\n",
    "    # Do the clustering using the main columns\n",
    "    clusterer = KMeans(n_clusters=k, n_init=15, random_state=42, n_jobs=-1)\n",
    "    cluster_labels = clusterer.fit_predict(tech_mbn)\n",
    "    \n",
    "    # Calculate the overall silhouette score\n",
    "    silhouette_avg = silhouette_score(tech_mbn, cluster_labels)\n",
    "    text = text + [f\"For k={k} the average silhouette_score is: {silhouette_avg:6.4f}\"]\n",
    "    \n",
    "    # Calculate the silhouette values\n",
    "    sample_silhouette_values = silhouette_samples(tech_mbn, cluster_labels)\n",
    "    \n",
    "    #############\n",
    "    # Create a subplot with 1 row and 2 columns\n",
    "    fig, (ax1, ax2) = plt.subplots(1, 2)\n",
    "    fig.set_size_inches(9, 5)\n",
    "\n",
    "    # The 1st subplot is the silhouette plot\n",
    "    # The silhouette coefficient can range from -1, 1\n",
    "    ax1.set_xlim([-1.0, 1.0]) # Changed from -0.1, 1\n",
    "    \n",
    "    # The (n_clusters+1)*12 is for inserting blank space between silhouette\n",
    "    # plots of individual clusters, to demarcate them clearly.\n",
    "    ax1.set_ylim([0, tech_mbn.shape[0] + (k + 1) * 12])\n",
    "    \n",
    "    y_lower = 12\n",
    "    \n",
    "    # For each of the clusters...\n",
    "    for i in range(k):\n",
    "        # Aggregate the silhouette scores for samples belonging to\n",
    "        # cluster i, and sort them\n",
    "        ith_cluster_silhouette_values = \\\n",
    "            sample_silhouette_values[cluster_labels == i]\n",
    "\n",
    "        ith_cluster_silhouette_values.sort()\n",
    "\n",
    "        size_cluster_i = ith_cluster_silhouette_values.shape[0]\n",
    "        y_upper = y_lower + size_cluster_i\n",
    "        \n",
    "        # Set the color ramp\n",
    "        #cmap  = cm.get_cmap(\"Spectral\")\n",
    "        color = plt.cm.Spectral(i/k)\n",
    "        ax1.fill_betweenx(np.arange(y_lower, y_upper),\n",
    "                          0, ith_cluster_silhouette_values,\n",
    "                          facecolor=color, edgecolor=color, alpha=0.7)\n",
    "\n",
    "        # Label the silhouette plots with their cluster numbers at the middle\n",
    "        ax1.text(-0.05, y_lower + 0.5 * size_cluster_i, str(i))\n",
    "\n",
    "        # Compute the new y_lower for next plot\n",
    "        y_lower = y_upper + 12  # 12 for the 0 samples\n",
    "\n",
    "    ax1.set_title(\"The silhouette plot for the clusters.\")\n",
    "    ax1.set_xlabel(\"The silhouette coefficient values\")\n",
    "    ax1.set_ylabel(\"Cluster label\")\n",
    "\n",
    "    # The vertical line for average silhouette score of all the values\n",
    "    ax1.axvline(x=silhouette_avg, color=\"red\", linestyle=\"--\")\n",
    "\n",
    "    ax1.set_yticks([])  # Clear the yaxis labels / ticks\n",
    "    ax1.set_xticks(np.arange(-1.0, 1.1, 0.2)) # Was: [-0.1, 0, 0.2, 0.4, 0.6, 0.8, 1]\n",
    "\n",
    "    # 2nd Plot showing the actual clusters formed --\n",
    "    # we can only do this for the first two dimensions\n",
    "    # so we may not see fully what is causing the \n",
    "    # resulting assignment\n",
    "    colors = plt.cm.Spectral(cluster_labels.astype(float) / k)\n",
    "    ax2.scatter(tech_mbn[tech_mbn.columns[0]], tech_mbn[tech_mbn.columns[1]], marker='.', s=30, lw=0, alpha=0.7,\n",
    "                c=colors)\n",
    "\n",
    "    # Labeling the clusters\n",
    "    centers = clusterer.cluster_centers_\n",
    "    \n",
    "    # Draw white circles at cluster centers\n",
    "    ax2.scatter(centers[:, 0], centers[:, 1],\n",
    "                marker='o', c=\"white\", alpha=1, s=200)\n",
    "\n",
    "    for i, c in enumerate(centers):\n",
    "        ax2.scatter(c[0], c[1], marker='$%d$' % i, alpha=1, s=50)\n",
    "\n",
    "    ax2.set_title(\"Visualization of the clustered data\")\n",
    "    ax2.set_xlabel(\"Feature space for the 1st feature\")\n",
    "    ax2.set_ylabel(\"Feature space for the 2nd feature\")\n",
    "\n",
    "    plt.suptitle((\"Silhouette analysis for KMeans clustering on sample data \"\n",
    "                  \"with n_clusters = %d\" % k),\n",
    "                 fontsize=14, fontweight='bold')\n",
    "\n",
    "    plt.show()\n",
    "\n",
    "print(\"\\n\".join(text))    \n",
    "\n",
    "del(tech_mbn)"
   ]
  },
  {
   "cell_type": "code",
   "execution_count": 34,
   "metadata": {},
   "outputs": [
    {
     "data": {
      "text/html": [
       "<div>\n",
       "<style scoped>\n",
       "    .dataframe tbody tr th:only-of-type {\n",
       "        vertical-align: middle;\n",
       "    }\n",
       "\n",
       "    .dataframe tbody tr th {\n",
       "        vertical-align: top;\n",
       "    }\n",
       "\n",
       "    .dataframe thead th {\n",
       "        text-align: right;\n",
       "    }\n",
       "</style>\n",
       "<table border=\"1\" class=\"dataframe\">\n",
       "  <thead>\n",
       "    <tr style=\"text-align: right;\">\n",
       "      <th></th>\n",
       "      <th>latest_accounts_cash</th>\n",
       "      <th>latest_accounts_assets</th>\n",
       "      <th>latest_accounts_liabilities</th>\n",
       "      <th>age</th>\n",
       "      <th>nr_employees_last_avail_yr</th>\n",
       "      <th>lat</th>\n",
       "      <th>long</th>\n",
       "    </tr>\n",
       "    <tr>\n",
       "      <th>oslaua</th>\n",
       "      <th></th>\n",
       "      <th></th>\n",
       "      <th></th>\n",
       "      <th></th>\n",
       "      <th></th>\n",
       "      <th></th>\n",
       "      <th></th>\n",
       "    </tr>\n",
       "  </thead>\n",
       "  <tbody>\n",
       "    <tr>\n",
       "      <th>S12000033</th>\n",
       "      <td>-0.21</td>\n",
       "      <td>-0.85</td>\n",
       "      <td>-0.29</td>\n",
       "      <td>0.69</td>\n",
       "      <td>1.04</td>\n",
       "      <td>3.02</td>\n",
       "      <td>-0.76</td>\n",
       "    </tr>\n",
       "    <tr>\n",
       "      <th>S12000033</th>\n",
       "      <td>-0.21</td>\n",
       "      <td>1.30</td>\n",
       "      <td>-0.29</td>\n",
       "      <td>1.08</td>\n",
       "      <td>1.26</td>\n",
       "      <td>3.02</td>\n",
       "      <td>-0.77</td>\n",
       "    </tr>\n",
       "    <tr>\n",
       "      <th>S12000033</th>\n",
       "      <td>-0.21</td>\n",
       "      <td>-0.85</td>\n",
       "      <td>-0.29</td>\n",
       "      <td>1.32</td>\n",
       "      <td>1.49</td>\n",
       "      <td>3.02</td>\n",
       "      <td>-0.76</td>\n",
       "    </tr>\n",
       "    <tr>\n",
       "      <th>S12000033</th>\n",
       "      <td>-0.21</td>\n",
       "      <td>-0.85</td>\n",
       "      <td>-0.29</td>\n",
       "      <td>1.16</td>\n",
       "      <td>1.75</td>\n",
       "      <td>3.02</td>\n",
       "      <td>-0.77</td>\n",
       "    </tr>\n",
       "    <tr>\n",
       "      <th>S12000033</th>\n",
       "      <td>-0.21</td>\n",
       "      <td>-0.85</td>\n",
       "      <td>-0.29</td>\n",
       "      <td>0.52</td>\n",
       "      <td>-0.72</td>\n",
       "      <td>3.02</td>\n",
       "      <td>-0.77</td>\n",
       "    </tr>\n",
       "  </tbody>\n",
       "</table>\n",
       "</div>"
      ],
      "text/plain": [
       "           latest_accounts_cash  latest_accounts_assets  \\\n",
       "oslaua                                                    \n",
       "S12000033                 -0.21                   -0.85   \n",
       "S12000033                 -0.21                    1.30   \n",
       "S12000033                 -0.21                   -0.85   \n",
       "S12000033                 -0.21                   -0.85   \n",
       "S12000033                 -0.21                   -0.85   \n",
       "\n",
       "           latest_accounts_liabilities  age  nr_employees_last_avail_yr  lat  \\\n",
       "oslaua                                                                         \n",
       "S12000033                        -0.29 0.69                        1.04 3.02   \n",
       "S12000033                        -0.29 1.08                        1.26 3.02   \n",
       "S12000033                        -0.29 1.32                        1.49 3.02   \n",
       "S12000033                        -0.29 1.16                        1.75 3.02   \n",
       "S12000033                        -0.29 0.52                       -0.72 3.02   \n",
       "\n",
       "           long  \n",
       "oslaua           \n",
       "S12000033 -0.76  \n",
       "S12000033 -0.77  \n",
       "S12000033 -0.76  \n",
       "S12000033 -0.77  \n",
       "S12000033 -0.77  "
      ]
     },
     "execution_count": 34,
     "metadata": {},
     "output_type": "execute_result"
    }
   ],
   "source": [
    "tech_mbn = tech_mb2.copy()\n",
    "for c in tech_mb2.columns.values:\n",
    "    tech_mbn[c] = pts.fit_transform(tech_mb2[c].values.reshape(-1,1))\n",
    "tech_mbn.head()"
   ]
  },
  {
   "cell_type": "markdown",
   "metadata": {},
   "source": [
    "# Adapted from: http://scikit-learn.org/stable/auto_examples/cluster/plot_kmeans_silhouette_analysis.html\n",
    "from sklearn.metrics import silhouette_samples, silhouette_score\n",
    "\n",
    "x = []\n",
    "y = []\n",
    "\n",
    "for k in range(2,20):\n",
    "    \n",
    "    #############\n",
    "    # Do the clustering using the main columns\n",
    "    kmeans = KMeans(n_clusters=k, n_init=25, random_state=42).fit(tech_mbn)\n",
    "    \n",
    "    # Calculate the overall silhouette score\n",
    "    silhouette_avg = silhouette_score(tech_mbn, kmeans.labels_)\n",
    "    \n",
    "    y.append(k)\n",
    "    x.append(silhouette_avg)\n",
    "    \n",
    "    print('.', end='')\n",
    "\n",
    "print()\n",
    "print(f\"Largest silhouette score was {max(x):6.4f} for k={y[x.index(max(x))]}\")\n",
    "\n",
    "plt.plot(y, x)\n",
    "plt.gcf().suptitle(\"Average Silhouette Scores\");"
   ]
  },
  {
   "cell_type": "code",
   "execution_count": 35,
   "metadata": {},
   "outputs": [],
   "source": [
    "#hence cluster k=7 is good where it is about to be flatten out, a lot less than previous k value"
   ]
  },
  {
   "cell_type": "code",
   "execution_count": 36,
   "metadata": {},
   "outputs": [
    {
     "data": {
      "text/plain": [
       "KMeans(n_clusters=7)"
      ]
     },
     "execution_count": 36,
     "metadata": {},
     "output_type": "execute_result"
    }
   ],
   "source": [
    "model = KMeans(n_clusters=7)\n",
    "model.fit(tech_mbn)"
   ]
  },
  {
   "cell_type": "code",
   "execution_count": 37,
   "metadata": {},
   "outputs": [
    {
     "data": {
      "text/plain": [
       "array([3, 3, 3, ..., 3, 3, 3], dtype=int32)"
      ]
     },
     "execution_count": 37,
     "metadata": {},
     "output_type": "execute_result"
    }
   ],
   "source": [
    "model.labels_ # The results"
   ]
  },
  {
   "cell_type": "code",
   "execution_count": 38,
   "metadata": {},
   "outputs": [],
   "source": [
    "tech_mbn['K=7 Clusters'] = model.labels_"
   ]
  },
  {
   "cell_type": "code",
   "execution_count": 39,
   "metadata": {},
   "outputs": [
    {
     "data": {
      "text/plain": [
       "age                           -0.41\n",
       "latest_accounts_cash          -0.12\n",
       "lat                           -0.07\n",
       "latest_accounts_assets        -0.02\n",
       "latest_accounts_liabilities   -0.00\n",
       "nr_employees_last_avail_yr     0.04\n",
       "long                           0.09\n",
       "K=7 Clusters                   1.00\n",
       "Name: K=7 Clusters, dtype: float64"
      ]
     },
     "execution_count": 39,
     "metadata": {},
     "output_type": "execute_result"
    }
   ],
   "source": [
    "tech_mbn.corr()['K=7 Clusters'].sort_values()"
   ]
  },
  {
   "cell_type": "markdown",
   "metadata": {},
   "source": [
    "cluster_labels = model.fit_predict(tech_mbn)"
   ]
  },
  {
   "cell_type": "markdown",
   "metadata": {},
   "source": [
    "len(tech_mbn)"
   ]
  },
  {
   "cell_type": "markdown",
   "metadata": {},
   "source": [
    "tech_mb2['Cluster'] = cluster_labels"
   ]
  },
  {
   "cell_type": "code",
   "execution_count": 40,
   "metadata": {},
   "outputs": [
    {
     "data": {
      "text/plain": [
       "<AxesSubplot:>"
      ]
     },
     "execution_count": 40,
     "metadata": {},
     "output_type": "execute_result"
    },
    {
     "data": {
      "image/png": "[encoded data removed]",
      "text/plain": [
       "<Figure size 432x288 with 2 Axes>"
      ]
     },
     "metadata": {
      "needs_background": "light"
     },
     "output_type": "display_data"
    }
   ],
   "source": [
    "sns.heatmap(tech_mbn.corr())"
   ]
  },
  {
   "cell_type": "code",
   "execution_count": 42,
   "metadata": {},
   "outputs": [
    {
     "data": {
      "text/plain": [
       "oslaua\n",
       "E08000009    0\n",
       "W06000013    0\n",
       "W06000022    0\n",
       "W06000013    0\n",
       "W06000013    0\n",
       "            ..\n",
       "E07000012    6\n",
       "E08000035    6\n",
       "E07000198    6\n",
       "E07000012    6\n",
       "E06000015    6\n",
       "Name: K=7 Clusters, Length: 9859, dtype: int32"
      ]
     },
     "execution_count": 42,
     "metadata": {},
     "output_type": "execute_result"
    }
   ],
   "source": [
    "tech_mbn['K=7 Clusters'].sort_values()"
   ]
  },
  {
   "cell_type": "code",
   "execution_count": 43,
   "metadata": {},
   "outputs": [],
   "source": [
    "#add coloumn to index\n",
    "tech_mbn['location'] = tech_mbn.index"
   ]
  },
  {
   "cell_type": "markdown",
   "metadata": {},
   "source": [
    "j = folium.Map(location = [51.505453, -0.268839])\n",
    "folium.GeoJson('LAD.json').add_to(j)\n",
    "\n",
    "j.save(\"j.html\")#open with safari\n",
    "\n",
    "we can see that the lad json is ok, no missing lad. hence, it is probably when merge lad, some lads left with no match for data\n",
    "(this would leave no matching lad data and when mapping some lad area becomes blank)"
   ]
  },
  {
   "cell_type": "code",
   "execution_count": 44,
   "metadata": {},
   "outputs": [],
   "source": [
    "lad=pd.read_csv('lad.csv')"
   ]
  },
  {
   "cell_type": "code",
   "execution_count": 45,
   "metadata": {},
   "outputs": [],
   "source": [
    "tech_mbn = pd.merge(tech_mbn, lad, how = \"outer\", on=[\"location\"])"
   ]
  },
  {
   "cell_type": "code",
   "execution_count": 46,
   "metadata": {},
   "outputs": [],
   "source": [
    "tech_mbn = tech_mbn.fillna(0)\n",
    "#still not showing for some lads bcos the json file contains outdated codes\n",
    "#for instance, West Somerset code E07000246 is not in json file, it is E07000191 in the json which is inactive in real life"
   ]
  },
  {
   "cell_type": "code",
   "execution_count": 47,
   "metadata": {},
   "outputs": [],
   "source": [
    "#replace string (too many) such as E07000246 to E07000191 and E07000190\n",
    "#Perth & Kinross, whole Dorset, E07000190 Taunton Deane INACTIVE (Local Authority) E07000191 West Somerset INACTIVE (Local Authority)\n",
    "#download ons2018 version"
   ]
  },
  {
   "cell_type": "code",
   "execution_count": 48,
   "metadata": {},
   "outputs": [],
   "source": [
    "#tech_mb2_geo = pd.merge(tech_mb2, data_postcode, how=\"left\", on=[\"oslaua\"])"
   ]
  },
  {
   "cell_type": "code",
   "execution_count": 49,
   "metadata": {
    "tags": []
   },
   "outputs": [],
   "source": [
    "#pip install plotly==5.2.1"
   ]
  },
  {
   "cell_type": "code",
   "execution_count": 50,
   "metadata": {
    "tags": []
   },
   "outputs": [],
   "source": [
    "#pip install \"jupyterlab>=3\" \"ipywidgets>=7.6\""
   ]
  },
  {
   "cell_type": "code",
   "execution_count": 51,
   "metadata": {},
   "outputs": [],
   "source": [
    "with open('LAD.json', encoding=\"UTF-8\") as json_file:\n",
    "    LAD_json = json.load(json_file)"
   ]
  },
  {
   "cell_type": "code",
   "execution_count": 52,
   "metadata": {},
   "outputs": [],
   "source": [
    "import plotly.express as px\n",
    "import plotly.offline as py\n",
    "import plotly.graph_objs as go"
   ]
  },
  {
   "cell_type": "markdown",
   "metadata": {},
   "source": [
    "tech_mbn.to_csv(\"tech_mbn.csv\")"
   ]
  },
  {
   "cell_type": "raw",
   "metadata": {},
   "source": [
    "fig = px.choropleth_mapbox(tech_mbn, geojson=LAD_json, locations=tech_mbn.location, color='K=7 Clusters',featureidkey=\"properties.LAD13CD\",\n",
    "                           color_continuous_scale=\"Viridis\",\n",
    "                           range_color=(0, 7),\n",
    "                           mapbox_style=\"carto-positron\",\n",
    "                           zoom=3, center = {\"lat\": 51.505453, \"lon\": -0.268839},\n",
    "                           opacity=0.5,\n",
    "                           labels={'comp':'no.comp'}\n",
    "                          )\n",
    "fig.update_layout(margin={\"r\":0,\"t\":0,\"l\":0,\"b\":0})\n",
    "fig.show()"
   ]
  },
  {
   "cell_type": "markdown",
   "metadata": {},
   "source": [
    "import plotly.express as px\n",
    "\n",
    "fig = px.choropleth(tech_mb2, locations=\"location\",\n",
    "                    color=\"Cluster\", # lifeExp is a column of gapminder\n",
    "                    #hover_name=\"Country\", # column to add to hover information\n",
    "                    color_continuous_scale='Turbo'\n",
    "                    )\n",
    "fig.show()"
   ]
  },
  {
   "cell_type": "code",
   "execution_count": null,
   "metadata": {},
   "outputs": [],
   "source": [
    "fig = px.choropleth_mapbox(tech_mbn, geojson=LAD_json, locations=tech_mbn.location, color='K=7 Clusters',featureidkey=\"properties.LAD13CD\",\n",
    "                           color_continuous_scale=\"Viridis\",\n",
    "                           range_color=(0, 7),\n",
    "                           mapbox_style=\"carto-positron\",\n",
    "                           zoom=3, center = {\"lat\": 51.505453, \"lon\": -0.268839},\n",
    "                           opacity=0.5,\n",
    "                           labels={'comp':'no.comp'}\n",
    "                          )\n",
    "fig.update_layout(margin={\"r\":0,\"t\":0,\"l\":0,\"b\":0})\n",
    "fig.show()"
   ]
  },
  {
   "cell_type": "raw",
   "metadata": {
    "tags": []
   },
   "source": [
    "#size=\"car_hours\"  need to solve the lat long being ardy standardized here\n",
    "fig = px.scatter_mapbox(tech_mbn, lat=\"lat\", lon=\"long\", color=\"K=7 Clusters\",\n",
    "                  mapbox_style=\"carto-positron\",color_continuous_scale=px.colors.cyclical.IceFire,\n",
    "                                                  range_color=(0, 7),\n",
    "                           zoom=3, center = {\"lat\": 51.505453, \"lon\": -0.268839},\n",
    "                           opacity=0.5,\n",
    "                           labels={'comp':'no.comp'}\n",
    "                          )\n",
    "fig.show()"
   ]
  },
  {
   "cell_type": "code",
   "execution_count": 90,
   "metadata": {},
   "outputs": [
    {
     "name": "stdout",
     "output_type": "stream",
     "text": [
      "Processing cluster 0.0\n",
      "Processing cluster 1.0\n",
      "Processing cluster 2.0\n",
      "Processing cluster 3.0\n",
      "Processing cluster 4.0\n",
      "Processing cluster 5.0\n",
      "Processing cluster 6.0\n"
     ]
    },
    {
     "data": {
      "image/png": "[encoded data removed]",
      "text/plain": [
       "<Figure size 972x648 with 7 Axes>"
      ]
     },
     "metadata": {
      "needs_background": "light"
     },
     "output_type": "display_data"
    }
   ],
   "source": [
    "centroids = None\n",
    "for k in sorted(tech_mbn['K=7 Clusters'].unique()):\n",
    "    print(f\"Processing cluster {k}\")\n",
    "\n",
    "    clsoas = tech_mbn[tech_mbn['K=7 Clusters']==k]\n",
    "    if centroids is None:\n",
    "        centroids = pd.DataFrame(columns=clsoas.columns.values)\n",
    "    centroids = centroids.append(clsoas.mean(), ignore_index=True)\n",
    "\n",
    "odf = pd.DataFrame(columns=['Variable','Cluster','Std. Value'])\n",
    "for i in range(0,len(centroids.index)):\n",
    "    row = centroids.iloc[i,:]\n",
    "    c_index = list(centroids.columns.values).index('K=7 Clusters')\n",
    "    for c in range(0,c_index):\n",
    "        d = {'Variable':centroids.columns[c], 'Cluster':row[c_index], 'Std. Value':row[c]}\n",
    "        odf = odf.append(d, ignore_index=True)\n",
    "\n",
    "# Drop outliers\n",
    "odf = odf[odf.Cluster >= 0]\n",
    "odf.drop(index=odf[odf.Variable.isin(['geometry','KMeans'])].index, inplace=True)\n",
    "\n",
    "g = sns.FacetGrid(odf, col=\"Variable\", col_wrap=3, height=3, aspect=1.5, margin_titles=True, sharey=True)\n",
    "g = g.map(plt.plot, \"Cluster\", \"Std. Value\", marker=\".\")\n",
    "\n",
    "del(odf, centroids)"
   ]
  },
  {
   "cell_type": "code",
   "execution_count": 101,
   "metadata": {},
   "outputs": [],
   "source": [
    "cluster2 = tech_mbn[tech_mbn['K=7 Clusters'] ==2]\n",
    "cluster4 = tech_mbn[tech_mbn['K=7 Clusters'] ==4]"
   ]
  },
  {
   "cell_type": "code",
   "execution_count": 102,
   "metadata": {},
   "outputs": [
    {
     "data": {
      "text/html": [
       "<div>\n",
       "<style scoped>\n",
       "    .dataframe tbody tr th:only-of-type {\n",
       "        vertical-align: middle;\n",
       "    }\n",
       "\n",
       "    .dataframe tbody tr th {\n",
       "        vertical-align: top;\n",
       "    }\n",
       "\n",
       "    .dataframe thead th {\n",
       "        text-align: right;\n",
       "    }\n",
       "</style>\n",
       "<table border=\"1\" class=\"dataframe\">\n",
       "  <thead>\n",
       "    <tr style=\"text-align: right;\">\n",
       "      <th></th>\n",
       "      <th>latest_accounts_cash</th>\n",
       "      <th>latest_accounts_assets</th>\n",
       "      <th>latest_accounts_liabilities</th>\n",
       "      <th>age</th>\n",
       "      <th>nr_employees_last_avail_yr</th>\n",
       "      <th>lat</th>\n",
       "      <th>long</th>\n",
       "      <th>K=7 Clusters</th>\n",
       "      <th>location</th>\n",
       "      <th>FID</th>\n",
       "      <th>LAD20NM</th>\n",
       "      <th>LAD20NMW</th>\n",
       "    </tr>\n",
       "  </thead>\n",
       "  <tbody>\n",
       "    <tr>\n",
       "      <th>45</th>\n",
       "      <td>-0.21</td>\n",
       "      <td>0.73</td>\n",
       "      <td>3.45</td>\n",
       "      <td>1.47</td>\n",
       "      <td>-0.72</td>\n",
       "      <td>2.95</td>\n",
       "      <td>-0.82</td>\n",
       "      <td>4.00</td>\n",
       "      <td>S12000034</td>\n",
       "      <td>126.00</td>\n",
       "      <td>Aberdeenshire</td>\n",
       "      <td>0</td>\n",
       "    </tr>\n",
       "    <tr>\n",
       "      <th>70</th>\n",
       "      <td>-0.21</td>\n",
       "      <td>1.38</td>\n",
       "      <td>3.45</td>\n",
       "      <td>0.61</td>\n",
       "      <td>1.85</td>\n",
       "      <td>-0.25</td>\n",
       "      <td>0.64</td>\n",
       "      <td>4.00</td>\n",
       "      <td>E07000241</td>\n",
       "      <td>76.00</td>\n",
       "      <td>Welwyn Hatfield</td>\n",
       "      <td>0</td>\n",
       "    </tr>\n",
       "    <tr>\n",
       "      <th>93</th>\n",
       "      <td>-0.21</td>\n",
       "      <td>1.20</td>\n",
       "      <td>3.45</td>\n",
       "      <td>-0.04</td>\n",
       "      <td>1.04</td>\n",
       "      <td>-0.31</td>\n",
       "      <td>0.55</td>\n",
       "      <td>4.00</td>\n",
       "      <td>E07000240</td>\n",
       "      <td>75.00</td>\n",
       "      <td>St Albans</td>\n",
       "      <td>0</td>\n",
       "    </tr>\n",
       "    <tr>\n",
       "      <th>97</th>\n",
       "      <td>-0.21</td>\n",
       "      <td>1.16</td>\n",
       "      <td>3.45</td>\n",
       "      <td>0.99</td>\n",
       "      <td>-0.72</td>\n",
       "      <td>-0.38</td>\n",
       "      <td>0.50</td>\n",
       "      <td>4.00</td>\n",
       "      <td>E07000240</td>\n",
       "      <td>75.00</td>\n",
       "      <td>St Albans</td>\n",
       "      <td>0</td>\n",
       "    </tr>\n",
       "    <tr>\n",
       "      <th>123</th>\n",
       "      <td>-0.21</td>\n",
       "      <td>1.10</td>\n",
       "      <td>3.45</td>\n",
       "      <td>0.15</td>\n",
       "      <td>1.55</td>\n",
       "      <td>-0.38</td>\n",
       "      <td>0.48</td>\n",
       "      <td>4.00</td>\n",
       "      <td>E07000240</td>\n",
       "      <td>75.00</td>\n",
       "      <td>St Albans</td>\n",
       "      <td>0</td>\n",
       "    </tr>\n",
       "    <tr>\n",
       "      <th>...</th>\n",
       "      <td>...</td>\n",
       "      <td>...</td>\n",
       "      <td>...</td>\n",
       "      <td>...</td>\n",
       "      <td>...</td>\n",
       "      <td>...</td>\n",
       "      <td>...</td>\n",
       "      <td>...</td>\n",
       "      <td>...</td>\n",
       "      <td>...</td>\n",
       "      <td>...</td>\n",
       "      <td>...</td>\n",
       "    </tr>\n",
       "    <tr>\n",
       "      <th>9629</th>\n",
       "      <td>-0.21</td>\n",
       "      <td>1.22</td>\n",
       "      <td>3.45</td>\n",
       "      <td>-0.28</td>\n",
       "      <td>-0.72</td>\n",
       "      <td>-0.69</td>\n",
       "      <td>0.44</td>\n",
       "      <td>4.00</td>\n",
       "      <td>E07000213</td>\n",
       "      <td>265.00</td>\n",
       "      <td>Spelthorne</td>\n",
       "      <td>0</td>\n",
       "    </tr>\n",
       "    <tr>\n",
       "      <th>9665</th>\n",
       "      <td>-0.21</td>\n",
       "      <td>1.12</td>\n",
       "      <td>3.45</td>\n",
       "      <td>0.77</td>\n",
       "      <td>1.40</td>\n",
       "      <td>1.01</td>\n",
       "      <td>-0.99</td>\n",
       "      <td>4.00</td>\n",
       "      <td>E06000007</td>\n",
       "      <td>8.00</td>\n",
       "      <td>Warrington</td>\n",
       "      <td>0</td>\n",
       "    </tr>\n",
       "    <tr>\n",
       "      <th>9673</th>\n",
       "      <td>-0.21</td>\n",
       "      <td>1.23</td>\n",
       "      <td>3.45</td>\n",
       "      <td>-0.04</td>\n",
       "      <td>-0.72</td>\n",
       "      <td>0.94</td>\n",
       "      <td>-1.00</td>\n",
       "      <td>4.00</td>\n",
       "      <td>E06000007</td>\n",
       "      <td>8.00</td>\n",
       "      <td>Warrington</td>\n",
       "      <td>0</td>\n",
       "    </tr>\n",
       "    <tr>\n",
       "      <th>9715</th>\n",
       "      <td>-0.21</td>\n",
       "      <td>1.34</td>\n",
       "      <td>3.45</td>\n",
       "      <td>0.30</td>\n",
       "      <td>-0.72</td>\n",
       "      <td>1.19</td>\n",
       "      <td>-0.40</td>\n",
       "      <td>4.00</td>\n",
       "      <td>E08000036</td>\n",
       "      <td>329.00</td>\n",
       "      <td>Wakefield</td>\n",
       "      <td>0</td>\n",
       "    </tr>\n",
       "    <tr>\n",
       "      <th>9737</th>\n",
       "      <td>-0.21</td>\n",
       "      <td>1.03</td>\n",
       "      <td>3.45</td>\n",
       "      <td>0.61</td>\n",
       "      <td>-0.72</td>\n",
       "      <td>0.00</td>\n",
       "      <td>-0.68</td>\n",
       "      <td>4.00</td>\n",
       "      <td>E07000238</td>\n",
       "      <td>73.00</td>\n",
       "      <td>Wychavon</td>\n",
       "      <td>0</td>\n",
       "    </tr>\n",
       "  </tbody>\n",
       "</table>\n",
       "<p>453 rows × 12 columns</p>\n",
       "</div>"
      ],
      "text/plain": [
       "      latest_accounts_cash  latest_accounts_assets  \\\n",
       "45                   -0.21                    0.73   \n",
       "70                   -0.21                    1.38   \n",
       "93                   -0.21                    1.20   \n",
       "97                   -0.21                    1.16   \n",
       "123                  -0.21                    1.10   \n",
       "...                    ...                     ...   \n",
       "9629                 -0.21                    1.22   \n",
       "9665                 -0.21                    1.12   \n",
       "9673                 -0.21                    1.23   \n",
       "9715                 -0.21                    1.34   \n",
       "9737                 -0.21                    1.03   \n",
       "\n",
       "      latest_accounts_liabilities   age  nr_employees_last_avail_yr   lat  \\\n",
       "45                           3.45  1.47                       -0.72  2.95   \n",
       "70                           3.45  0.61                        1.85 -0.25   \n",
       "93                           3.45 -0.04                        1.04 -0.31   \n",
       "97                           3.45  0.99                       -0.72 -0.38   \n",
       "123                          3.45  0.15                        1.55 -0.38   \n",
       "...                           ...   ...                         ...   ...   \n",
       "9629                         3.45 -0.28                       -0.72 -0.69   \n",
       "9665                         3.45  0.77                        1.40  1.01   \n",
       "9673                         3.45 -0.04                       -0.72  0.94   \n",
       "9715                         3.45  0.30                       -0.72  1.19   \n",
       "9737                         3.45  0.61                       -0.72  0.00   \n",
       "\n",
       "      long  K=7 Clusters   location    FID          LAD20NM LAD20NMW  \n",
       "45   -0.82          4.00  S12000034 126.00    Aberdeenshire        0  \n",
       "70    0.64          4.00  E07000241  76.00  Welwyn Hatfield        0  \n",
       "93    0.55          4.00  E07000240  75.00        St Albans        0  \n",
       "97    0.50          4.00  E07000240  75.00        St Albans        0  \n",
       "123   0.48          4.00  E07000240  75.00        St Albans        0  \n",
       "...    ...           ...        ...    ...              ...      ...  \n",
       "9629  0.44          4.00  E07000213 265.00       Spelthorne        0  \n",
       "9665 -0.99          4.00  E06000007   8.00       Warrington        0  \n",
       "9673 -1.00          4.00  E06000007   8.00       Warrington        0  \n",
       "9715 -0.40          4.00  E08000036 329.00        Wakefield        0  \n",
       "9737 -0.68          4.00  E07000238  73.00         Wychavon        0  \n",
       "\n",
       "[453 rows x 12 columns]"
      ]
     },
     "execution_count": 102,
     "metadata": {},
     "output_type": "execute_result"
    }
   ],
   "source": [
    "cluster4"
   ]
  },
  {
   "cell_type": "raw",
   "metadata": {
    "tags": []
   },
   "source": [
    "fig = px.choropleth_mapbox(cluster2, geojson=LAD_json, locations=cluster2.location, color='K=7 Clusters',featureidkey=\"properties.LAD13CD\",\n",
    "                           color_continuous_scale=\"Viridis\",\n",
    "                           range_color=(0, 7),\n",
    "                           mapbox_style=\"carto-positron\",\n",
    "                           zoom=3, center = {\"lat\": 51.505453, \"lon\": -0.268839},\n",
    "                           opacity=0.5,\n",
    "                           labels={'comp':'no.comp'}\n",
    "                          )\n",
    "fig.update_layout(margin={\"r\":0,\"t\":0,\"l\":0,\"b\":0})\n",
    "fig.show()"
   ]
  },
  {
   "cell_type": "code",
   "execution_count": null,
   "metadata": {},
   "outputs": [],
   "source": [
    "#tech_mb2_geo = pd.merge(tech_mb2, data_postcode, how=\"left\", on=[\"oslaua\"])"
   ]
  },
  {
   "cell_type": "code",
   "execution_count": null,
   "metadata": {},
   "outputs": [],
   "source": [
    "#tech_mb2_geo.plot(column='Cluster', categorical=True, legend=True, figsize=(12,8));"
   ]
  },
  {
   "cell_type": "markdown",
   "metadata": {},
   "source": [
    "## DBSCAN"
   ]
  },
  {
   "cell_type": "markdown",
   "metadata": {},
   "source": [
    "TASK: Use DBSCAN and a for loop to create a variety of models testing different epsilon values. Set min_samples equal to 2 times the number of features. During the loop, keep track of and log the percentage of points that are outliers. For reference the solutions notebooks uses the following range of epsilon values for testing:\n",
    "\n",
    "np.linspace(0.001,3,50)"
   ]
  },
  {
   "cell_type": "code",
   "execution_count": 56,
   "metadata": {},
   "outputs": [],
   "source": [
    "tech_mbdb = tech_mb1.copy()\n",
    "tech_mbdb = tech_mbdb.drop(list(tech_mbdb.columns[tech_mbdb.isnull().any().values].values), axis=1)#axis=1 for dropping coloumn of null\n",
    "#tech_mbdb = tech_mbdb[tech_mbdb['latest_accounts_assets']>0]\n",
    "#tech_mbdb = tech_mbdb.drop(['primary_uk_sic_2007','latest_accounts_cash'],axis=1)"
   ]
  },
  {
   "cell_type": "code",
   "execution_count": 57,
   "metadata": {},
   "outputs": [
    {
     "data": {
      "text/html": [
       "<div>\n",
       "<style scoped>\n",
       "    .dataframe tbody tr th:only-of-type {\n",
       "        vertical-align: middle;\n",
       "    }\n",
       "\n",
       "    .dataframe tbody tr th {\n",
       "        vertical-align: top;\n",
       "    }\n",
       "\n",
       "    .dataframe thead th {\n",
       "        text-align: right;\n",
       "    }\n",
       "</style>\n",
       "<table border=\"1\" class=\"dataframe\">\n",
       "  <thead>\n",
       "    <tr style=\"text-align: right;\">\n",
       "      <th></th>\n",
       "      <th>latest_accounts_cash</th>\n",
       "      <th>latest_accounts_assets</th>\n",
       "      <th>latest_accounts_liabilities</th>\n",
       "      <th>age</th>\n",
       "      <th>nr_employees_last_avail_yr</th>\n",
       "      <th>lat</th>\n",
       "      <th>long</th>\n",
       "    </tr>\n",
       "    <tr>\n",
       "      <th>oslaua</th>\n",
       "      <th></th>\n",
       "      <th></th>\n",
       "      <th></th>\n",
       "      <th></th>\n",
       "      <th></th>\n",
       "      <th></th>\n",
       "      <th></th>\n",
       "    </tr>\n",
       "  </thead>\n",
       "  <tbody>\n",
       "    <tr>\n",
       "      <th>S12000033</th>\n",
       "      <td>0.00</td>\n",
       "      <td>0.00</td>\n",
       "      <td>0.00</td>\n",
       "      <td>9.00</td>\n",
       "      <td>2.00</td>\n",
       "      <td>57.14</td>\n",
       "      <td>-2.11</td>\n",
       "    </tr>\n",
       "    <tr>\n",
       "      <th>S12000033</th>\n",
       "      <td>0.00</td>\n",
       "      <td>95,232.00</td>\n",
       "      <td>0.00</td>\n",
       "      <td>16.00</td>\n",
       "      <td>3.00</td>\n",
       "      <td>57.14</td>\n",
       "      <td>-2.11</td>\n",
       "    </tr>\n",
       "    <tr>\n",
       "      <th>S12000033</th>\n",
       "      <td>0.00</td>\n",
       "      <td>0.00</td>\n",
       "      <td>0.00</td>\n",
       "      <td>23.00</td>\n",
       "      <td>5.00</td>\n",
       "      <td>57.14</td>\n",
       "      <td>-2.11</td>\n",
       "    </tr>\n",
       "    <tr>\n",
       "      <th>S12000033</th>\n",
       "      <td>0.00</td>\n",
       "      <td>0.00</td>\n",
       "      <td>0.00</td>\n",
       "      <td>18.00</td>\n",
       "      <td>13.00</td>\n",
       "      <td>57.15</td>\n",
       "      <td>-2.12</td>\n",
       "    </tr>\n",
       "    <tr>\n",
       "      <th>S12000033</th>\n",
       "      <td>0.00</td>\n",
       "      <td>0.00</td>\n",
       "      <td>0.00</td>\n",
       "      <td>7.00</td>\n",
       "      <td>0.00</td>\n",
       "      <td>57.15</td>\n",
       "      <td>-2.12</td>\n",
       "    </tr>\n",
       "  </tbody>\n",
       "</table>\n",
       "</div>"
      ],
      "text/plain": [
       "           latest_accounts_cash  latest_accounts_assets  \\\n",
       "oslaua                                                    \n",
       "S12000033                  0.00                    0.00   \n",
       "S12000033                  0.00               95,232.00   \n",
       "S12000033                  0.00                    0.00   \n",
       "S12000033                  0.00                    0.00   \n",
       "S12000033                  0.00                    0.00   \n",
       "\n",
       "           latest_accounts_liabilities   age  nr_employees_last_avail_yr  \\\n",
       "oslaua                                                                     \n",
       "S12000033                         0.00  9.00                        2.00   \n",
       "S12000033                         0.00 16.00                        3.00   \n",
       "S12000033                         0.00 23.00                        5.00   \n",
       "S12000033                         0.00 18.00                       13.00   \n",
       "S12000033                         0.00  7.00                        0.00   \n",
       "\n",
       "            lat  long  \n",
       "oslaua                 \n",
       "S12000033 57.14 -2.11  \n",
       "S12000033 57.14 -2.11  \n",
       "S12000033 57.14 -2.11  \n",
       "S12000033 57.15 -2.12  \n",
       "S12000033 57.15 -2.12  "
      ]
     },
     "execution_count": 57,
     "metadata": {},
     "output_type": "execute_result"
    }
   ],
   "source": [
    "tech_mbdb.head()"
   ]
  },
  {
   "cell_type": "code",
   "execution_count": 58,
   "metadata": {},
   "outputs": [],
   "source": [
    "outlier_percent = []\n",
    "\n",
    "for eps in np.linspace(0.001,3,50):\n",
    "    \n",
    "    # Create Model\n",
    "    dbscan = DBSCAN(eps=eps, min_samples=tech_mbdb.shape[1]+1)#min_samples=tech_mbdb1.shape[1]+1)\n",
    "    dbscan.fit(tech_mbdb)\n",
    "   \n",
    "     \n",
    "    # Log percentage of points that are outliers\n",
    "    perc_outliers = 100 * np.sum(dbscan.labels_ == -1) / len(dbscan.labels_)\n",
    "    \n",
    "    outlier_percent.append(perc_outliers)"
   ]
  },
  {
   "cell_type": "code",
   "execution_count": 59,
   "metadata": {},
   "outputs": [
    {
     "data": {
      "text/plain": [
       "Text(0.5, 0, 'Epsilon Value')"
      ]
     },
     "execution_count": 59,
     "metadata": {},
     "output_type": "execute_result"
    },
    {
     "data": {
      "image/png": "[encoded data removed]",
      "text/plain": [
       "<Figure size 432x288 with 1 Axes>"
      ]
     },
     "metadata": {
      "needs_background": "light"
     },
     "output_type": "display_data"
    }
   ],
   "source": [
    "#Create a line plot of the percentage of outlier points versus the epsilon value choice.\n",
    "sns.lineplot(x=np.linspace(0.001,3,50),y=outlier_percent)\n",
    "plt.ylabel(\"Percentage of Points Classified as Outliers\")\n",
    "plt.xlabel(\"Epsilon Value\")"
   ]
  },
  {
   "cell_type": "markdown",
   "metadata": {},
   "source": [
    "Based on the plot created, retrain a DBSCAN model with a reasonable epsilon value eps=2.5"
   ]
  },
  {
   "cell_type": "code",
   "execution_count": 60,
   "metadata": {},
   "outputs": [
    {
     "data": {
      "text/plain": [
       "DBSCAN(eps=2)"
      ]
     },
     "execution_count": 60,
     "metadata": {},
     "output_type": "execute_result"
    }
   ],
   "source": [
    "dbscan = DBSCAN(eps=2)\n",
    "dbscan.fit(tech_mbdb)"
   ]
  },
  {
   "cell_type": "code",
   "execution_count": 61,
   "metadata": {},
   "outputs": [],
   "source": [
    "#Create a new column on the original dataframe called \"Labels\" consisting of the DBSCAN labels\n",
    "tech_mbdb['Labels'] = dbscan.labels_"
   ]
  },
  {
   "cell_type": "code",
   "execution_count": 62,
   "metadata": {},
   "outputs": [
    {
     "data": {
      "text/html": [
       "<div>\n",
       "<style scoped>\n",
       "    .dataframe tbody tr th:only-of-type {\n",
       "        vertical-align: middle;\n",
       "    }\n",
       "\n",
       "    .dataframe tbody tr th {\n",
       "        vertical-align: top;\n",
       "    }\n",
       "\n",
       "    .dataframe thead th {\n",
       "        text-align: right;\n",
       "    }\n",
       "</style>\n",
       "<table border=\"1\" class=\"dataframe\">\n",
       "  <thead>\n",
       "    <tr style=\"text-align: right;\">\n",
       "      <th></th>\n",
       "      <th>latest_accounts_cash</th>\n",
       "      <th>latest_accounts_assets</th>\n",
       "      <th>latest_accounts_liabilities</th>\n",
       "      <th>age</th>\n",
       "      <th>nr_employees_last_avail_yr</th>\n",
       "      <th>lat</th>\n",
       "      <th>long</th>\n",
       "      <th>Labels</th>\n",
       "    </tr>\n",
       "    <tr>\n",
       "      <th>oslaua</th>\n",
       "      <th></th>\n",
       "      <th></th>\n",
       "      <th></th>\n",
       "      <th></th>\n",
       "      <th></th>\n",
       "      <th></th>\n",
       "      <th></th>\n",
       "      <th></th>\n",
       "    </tr>\n",
       "  </thead>\n",
       "  <tbody>\n",
       "    <tr>\n",
       "      <th>S12000033</th>\n",
       "      <td>0.00</td>\n",
       "      <td>0.00</td>\n",
       "      <td>0.00</td>\n",
       "      <td>9.00</td>\n",
       "      <td>2.00</td>\n",
       "      <td>57.14</td>\n",
       "      <td>-2.11</td>\n",
       "      <td>0</td>\n",
       "    </tr>\n",
       "    <tr>\n",
       "      <th>S12000033</th>\n",
       "      <td>0.00</td>\n",
       "      <td>95,232.00</td>\n",
       "      <td>0.00</td>\n",
       "      <td>16.00</td>\n",
       "      <td>3.00</td>\n",
       "      <td>57.14</td>\n",
       "      <td>-2.11</td>\n",
       "      <td>-1</td>\n",
       "    </tr>\n",
       "    <tr>\n",
       "      <th>S12000033</th>\n",
       "      <td>0.00</td>\n",
       "      <td>0.00</td>\n",
       "      <td>0.00</td>\n",
       "      <td>23.00</td>\n",
       "      <td>5.00</td>\n",
       "      <td>57.14</td>\n",
       "      <td>-2.11</td>\n",
       "      <td>-1</td>\n",
       "    </tr>\n",
       "    <tr>\n",
       "      <th>S12000033</th>\n",
       "      <td>0.00</td>\n",
       "      <td>0.00</td>\n",
       "      <td>0.00</td>\n",
       "      <td>18.00</td>\n",
       "      <td>13.00</td>\n",
       "      <td>57.15</td>\n",
       "      <td>-2.12</td>\n",
       "      <td>-1</td>\n",
       "    </tr>\n",
       "    <tr>\n",
       "      <th>S12000033</th>\n",
       "      <td>0.00</td>\n",
       "      <td>0.00</td>\n",
       "      <td>0.00</td>\n",
       "      <td>7.00</td>\n",
       "      <td>0.00</td>\n",
       "      <td>57.15</td>\n",
       "      <td>-2.12</td>\n",
       "      <td>0</td>\n",
       "    </tr>\n",
       "  </tbody>\n",
       "</table>\n",
       "</div>"
      ],
      "text/plain": [
       "           latest_accounts_cash  latest_accounts_assets  \\\n",
       "oslaua                                                    \n",
       "S12000033                  0.00                    0.00   \n",
       "S12000033                  0.00               95,232.00   \n",
       "S12000033                  0.00                    0.00   \n",
       "S12000033                  0.00                    0.00   \n",
       "S12000033                  0.00                    0.00   \n",
       "\n",
       "           latest_accounts_liabilities   age  nr_employees_last_avail_yr  \\\n",
       "oslaua                                                                     \n",
       "S12000033                         0.00  9.00                        2.00   \n",
       "S12000033                         0.00 16.00                        3.00   \n",
       "S12000033                         0.00 23.00                        5.00   \n",
       "S12000033                         0.00 18.00                       13.00   \n",
       "S12000033                         0.00  7.00                        0.00   \n",
       "\n",
       "            lat  long  Labels  \n",
       "oslaua                         \n",
       "S12000033 57.14 -2.11       0  \n",
       "S12000033 57.14 -2.11      -1  \n",
       "S12000033 57.14 -2.11      -1  \n",
       "S12000033 57.15 -2.12      -1  \n",
       "S12000033 57.15 -2.12       0  "
      ]
     },
     "execution_count": 62,
     "metadata": {},
     "output_type": "execute_result"
    }
   ],
   "source": [
    "tech_mbdb.head()"
   ]
  },
  {
   "cell_type": "code",
   "execution_count": 63,
   "metadata": {},
   "outputs": [],
   "source": [
    "#Compare the statistical mean of the clusters and outliers for the spending amounts on the categories\n",
    "dbv = tech_mbdb[['latest_accounts_cash','latest_accounts_assets','latest_accounts_liabilities','age','nr_employees_last_avail_yr','Labels','lat','long']]\n",
    "dbv_means = dbv.groupby('Labels').mean()"
   ]
  },
  {
   "cell_type": "code",
   "execution_count": 64,
   "metadata": {},
   "outputs": [
    {
     "data": {
      "text/html": [
       "<div>\n",
       "<style scoped>\n",
       "    .dataframe tbody tr th:only-of-type {\n",
       "        vertical-align: middle;\n",
       "    }\n",
       "\n",
       "    .dataframe tbody tr th {\n",
       "        vertical-align: top;\n",
       "    }\n",
       "\n",
       "    .dataframe thead th {\n",
       "        text-align: right;\n",
       "    }\n",
       "</style>\n",
       "<table border=\"1\" class=\"dataframe\">\n",
       "  <thead>\n",
       "    <tr style=\"text-align: right;\">\n",
       "      <th></th>\n",
       "      <th>latest_accounts_cash</th>\n",
       "      <th>latest_accounts_assets</th>\n",
       "      <th>latest_accounts_liabilities</th>\n",
       "      <th>age</th>\n",
       "      <th>nr_employees_last_avail_yr</th>\n",
       "      <th>lat</th>\n",
       "      <th>long</th>\n",
       "    </tr>\n",
       "    <tr>\n",
       "      <th>Labels</th>\n",
       "      <th></th>\n",
       "      <th></th>\n",
       "      <th></th>\n",
       "      <th></th>\n",
       "      <th></th>\n",
       "      <th></th>\n",
       "      <th></th>\n",
       "    </tr>\n",
       "  </thead>\n",
       "  <tbody>\n",
       "    <tr>\n",
       "      <th>-1</th>\n",
       "      <td>12,152.76</td>\n",
       "      <td>224,556.45</td>\n",
       "      <td>20,855.21</td>\n",
       "      <td>12.84</td>\n",
       "      <td>35.79</td>\n",
       "      <td>52.35</td>\n",
       "      <td>-1.28</td>\n",
       "    </tr>\n",
       "    <tr>\n",
       "      <th>0</th>\n",
       "      <td>0.00</td>\n",
       "      <td>0.01</td>\n",
       "      <td>0.00</td>\n",
       "      <td>2.98</td>\n",
       "      <td>0.39</td>\n",
       "      <td>52.26</td>\n",
       "      <td>-1.12</td>\n",
       "    </tr>\n",
       "    <tr>\n",
       "      <th>1</th>\n",
       "      <td>0.00</td>\n",
       "      <td>0.00</td>\n",
       "      <td>0.00</td>\n",
       "      <td>30.90</td>\n",
       "      <td>6.50</td>\n",
       "      <td>51.78</td>\n",
       "      <td>-0.77</td>\n",
       "    </tr>\n",
       "    <tr>\n",
       "      <th>2</th>\n",
       "      <td>0.00</td>\n",
       "      <td>0.00</td>\n",
       "      <td>0.00</td>\n",
       "      <td>16.40</td>\n",
       "      <td>54.20</td>\n",
       "      <td>53.87</td>\n",
       "      <td>-2.24</td>\n",
       "    </tr>\n",
       "    <tr>\n",
       "      <th>3</th>\n",
       "      <td>0.00</td>\n",
       "      <td>100.00</td>\n",
       "      <td>0.00</td>\n",
       "      <td>2.13</td>\n",
       "      <td>0.00</td>\n",
       "      <td>51.73</td>\n",
       "      <td>-0.23</td>\n",
       "    </tr>\n",
       "    <tr>\n",
       "      <th>4</th>\n",
       "      <td>0.00</td>\n",
       "      <td>0.00</td>\n",
       "      <td>0.00</td>\n",
       "      <td>6.15</td>\n",
       "      <td>13.38</td>\n",
       "      <td>51.67</td>\n",
       "      <td>-0.22</td>\n",
       "    </tr>\n",
       "    <tr>\n",
       "      <th>5</th>\n",
       "      <td>0.00</td>\n",
       "      <td>0.00</td>\n",
       "      <td>0.00</td>\n",
       "      <td>27.75</td>\n",
       "      <td>5.25</td>\n",
       "      <td>51.68</td>\n",
       "      <td>-0.38</td>\n",
       "    </tr>\n",
       "    <tr>\n",
       "      <th>6</th>\n",
       "      <td>0.00</td>\n",
       "      <td>0.00</td>\n",
       "      <td>0.00</td>\n",
       "      <td>39.55</td>\n",
       "      <td>0.09</td>\n",
       "      <td>51.80</td>\n",
       "      <td>-0.53</td>\n",
       "    </tr>\n",
       "    <tr>\n",
       "      <th>7</th>\n",
       "      <td>100.00</td>\n",
       "      <td>0.00</td>\n",
       "      <td>0.00</td>\n",
       "      <td>1.22</td>\n",
       "      <td>0.00</td>\n",
       "      <td>51.81</td>\n",
       "      <td>-0.51</td>\n",
       "    </tr>\n",
       "    <tr>\n",
       "      <th>8</th>\n",
       "      <td>0.00</td>\n",
       "      <td>0.00</td>\n",
       "      <td>0.00</td>\n",
       "      <td>25.67</td>\n",
       "      <td>7.67</td>\n",
       "      <td>51.39</td>\n",
       "      <td>-0.10</td>\n",
       "    </tr>\n",
       "    <tr>\n",
       "      <th>9</th>\n",
       "      <td>0.00</td>\n",
       "      <td>0.00</td>\n",
       "      <td>0.00</td>\n",
       "      <td>18.00</td>\n",
       "      <td>9.00</td>\n",
       "      <td>52.47</td>\n",
       "      <td>-1.10</td>\n",
       "    </tr>\n",
       "    <tr>\n",
       "      <th>10</th>\n",
       "      <td>0.00</td>\n",
       "      <td>0.00</td>\n",
       "      <td>0.00</td>\n",
       "      <td>45.20</td>\n",
       "      <td>0.00</td>\n",
       "      <td>51.21</td>\n",
       "      <td>-0.69</td>\n",
       "    </tr>\n",
       "    <tr>\n",
       "      <th>11</th>\n",
       "      <td>0.00</td>\n",
       "      <td>0.00</td>\n",
       "      <td>0.00</td>\n",
       "      <td>11.20</td>\n",
       "      <td>7.20</td>\n",
       "      <td>51.66</td>\n",
       "      <td>-0.42</td>\n",
       "    </tr>\n",
       "    <tr>\n",
       "      <th>12</th>\n",
       "      <td>0.00</td>\n",
       "      <td>0.00</td>\n",
       "      <td>0.00</td>\n",
       "      <td>14.20</td>\n",
       "      <td>44.00</td>\n",
       "      <td>51.31</td>\n",
       "      <td>-1.44</td>\n",
       "    </tr>\n",
       "  </tbody>\n",
       "</table>\n",
       "</div>"
      ],
      "text/plain": [
       "        latest_accounts_cash  latest_accounts_assets  \\\n",
       "Labels                                                 \n",
       "-1                 12,152.76              224,556.45   \n",
       " 0                      0.00                    0.01   \n",
       " 1                      0.00                    0.00   \n",
       " 2                      0.00                    0.00   \n",
       " 3                      0.00                  100.00   \n",
       " 4                      0.00                    0.00   \n",
       " 5                      0.00                    0.00   \n",
       " 6                      0.00                    0.00   \n",
       " 7                    100.00                    0.00   \n",
       " 8                      0.00                    0.00   \n",
       " 9                      0.00                    0.00   \n",
       " 10                     0.00                    0.00   \n",
       " 11                     0.00                    0.00   \n",
       " 12                     0.00                    0.00   \n",
       "\n",
       "        latest_accounts_liabilities   age  nr_employees_last_avail_yr   lat  \\\n",
       "Labels                                                                        \n",
       "-1                        20,855.21 12.84                       35.79 52.35   \n",
       " 0                             0.00  2.98                        0.39 52.26   \n",
       " 1                             0.00 30.90                        6.50 51.78   \n",
       " 2                             0.00 16.40                       54.20 53.87   \n",
       " 3                             0.00  2.13                        0.00 51.73   \n",
       " 4                             0.00  6.15                       13.38 51.67   \n",
       " 5                             0.00 27.75                        5.25 51.68   \n",
       " 6                             0.00 39.55                        0.09 51.80   \n",
       " 7                             0.00  1.22                        0.00 51.81   \n",
       " 8                             0.00 25.67                        7.67 51.39   \n",
       " 9                             0.00 18.00                        9.00 52.47   \n",
       " 10                            0.00 45.20                        0.00 51.21   \n",
       " 11                            0.00 11.20                        7.20 51.66   \n",
       " 12                            0.00 14.20                       44.00 51.31   \n",
       "\n",
       "        long  \n",
       "Labels        \n",
       "-1     -1.28  \n",
       " 0     -1.12  \n",
       " 1     -0.77  \n",
       " 2     -2.24  \n",
       " 3     -0.23  \n",
       " 4     -0.22  \n",
       " 5     -0.38  \n",
       " 6     -0.53  \n",
       " 7     -0.51  \n",
       " 8     -0.10  \n",
       " 9     -1.10  \n",
       " 10    -0.69  \n",
       " 11    -0.42  \n",
       " 12    -1.44  "
      ]
     },
     "execution_count": 64,
     "metadata": {},
     "output_type": "execute_result"
    }
   ],
   "source": [
    "dbv_means"
   ]
  },
  {
   "cell_type": "code",
   "execution_count": 65,
   "metadata": {},
   "outputs": [],
   "source": [
    "scaler = MinMaxScaler()\n",
    "data = scaler.fit_transform(dbv_means)\n",
    "scaled_means = pd.DataFrame(data,dbv_means.index,dbv_means.columns)"
   ]
  },
  {
   "cell_type": "code",
   "execution_count": 66,
   "metadata": {},
   "outputs": [
    {
     "data": {
      "text/html": [
       "<div>\n",
       "<style scoped>\n",
       "    .dataframe tbody tr th:only-of-type {\n",
       "        vertical-align: middle;\n",
       "    }\n",
       "\n",
       "    .dataframe tbody tr th {\n",
       "        vertical-align: top;\n",
       "    }\n",
       "\n",
       "    .dataframe thead th {\n",
       "        text-align: right;\n",
       "    }\n",
       "</style>\n",
       "<table border=\"1\" class=\"dataframe\">\n",
       "  <thead>\n",
       "    <tr style=\"text-align: right;\">\n",
       "      <th></th>\n",
       "      <th>latest_accounts_cash</th>\n",
       "      <th>latest_accounts_assets</th>\n",
       "      <th>latest_accounts_liabilities</th>\n",
       "      <th>age</th>\n",
       "      <th>nr_employees_last_avail_yr</th>\n",
       "      <th>lat</th>\n",
       "      <th>long</th>\n",
       "    </tr>\n",
       "    <tr>\n",
       "      <th>Labels</th>\n",
       "      <th></th>\n",
       "      <th></th>\n",
       "      <th></th>\n",
       "      <th></th>\n",
       "      <th></th>\n",
       "      <th></th>\n",
       "      <th></th>\n",
       "    </tr>\n",
       "  </thead>\n",
       "  <tbody>\n",
       "    <tr>\n",
       "      <th>-1</th>\n",
       "      <td>1.00</td>\n",
       "      <td>1.00</td>\n",
       "      <td>1.00</td>\n",
       "      <td>0.26</td>\n",
       "      <td>0.66</td>\n",
       "      <td>0.43</td>\n",
       "      <td>0.45</td>\n",
       "    </tr>\n",
       "    <tr>\n",
       "      <th>0</th>\n",
       "      <td>0.00</td>\n",
       "      <td>0.00</td>\n",
       "      <td>0.00</td>\n",
       "      <td>0.04</td>\n",
       "      <td>0.01</td>\n",
       "      <td>0.40</td>\n",
       "      <td>0.52</td>\n",
       "    </tr>\n",
       "    <tr>\n",
       "      <th>1</th>\n",
       "      <td>0.00</td>\n",
       "      <td>0.00</td>\n",
       "      <td>0.00</td>\n",
       "      <td>0.67</td>\n",
       "      <td>0.12</td>\n",
       "      <td>0.22</td>\n",
       "      <td>0.69</td>\n",
       "    </tr>\n",
       "    <tr>\n",
       "      <th>2</th>\n",
       "      <td>0.00</td>\n",
       "      <td>0.00</td>\n",
       "      <td>0.00</td>\n",
       "      <td>0.35</td>\n",
       "      <td>1.00</td>\n",
       "      <td>1.00</td>\n",
       "      <td>0.00</td>\n",
       "    </tr>\n",
       "    <tr>\n",
       "      <th>3</th>\n",
       "      <td>0.00</td>\n",
       "      <td>0.00</td>\n",
       "      <td>0.00</td>\n",
       "      <td>0.02</td>\n",
       "      <td>0.00</td>\n",
       "      <td>0.20</td>\n",
       "      <td>0.94</td>\n",
       "    </tr>\n",
       "    <tr>\n",
       "      <th>4</th>\n",
       "      <td>0.00</td>\n",
       "      <td>0.00</td>\n",
       "      <td>0.00</td>\n",
       "      <td>0.11</td>\n",
       "      <td>0.25</td>\n",
       "      <td>0.18</td>\n",
       "      <td>0.95</td>\n",
       "    </tr>\n",
       "    <tr>\n",
       "      <th>5</th>\n",
       "      <td>0.00</td>\n",
       "      <td>0.00</td>\n",
       "      <td>0.00</td>\n",
       "      <td>0.60</td>\n",
       "      <td>0.10</td>\n",
       "      <td>0.18</td>\n",
       "      <td>0.87</td>\n",
       "    </tr>\n",
       "    <tr>\n",
       "      <th>6</th>\n",
       "      <td>0.00</td>\n",
       "      <td>0.00</td>\n",
       "      <td>0.00</td>\n",
       "      <td>0.87</td>\n",
       "      <td>0.00</td>\n",
       "      <td>0.23</td>\n",
       "      <td>0.80</td>\n",
       "    </tr>\n",
       "    <tr>\n",
       "      <th>7</th>\n",
       "      <td>0.01</td>\n",
       "      <td>0.00</td>\n",
       "      <td>0.00</td>\n",
       "      <td>0.00</td>\n",
       "      <td>0.00</td>\n",
       "      <td>0.23</td>\n",
       "      <td>0.81</td>\n",
       "    </tr>\n",
       "    <tr>\n",
       "      <th>8</th>\n",
       "      <td>0.00</td>\n",
       "      <td>0.00</td>\n",
       "      <td>0.00</td>\n",
       "      <td>0.56</td>\n",
       "      <td>0.14</td>\n",
       "      <td>0.07</td>\n",
       "      <td>1.00</td>\n",
       "    </tr>\n",
       "    <tr>\n",
       "      <th>9</th>\n",
       "      <td>0.00</td>\n",
       "      <td>0.00</td>\n",
       "      <td>0.00</td>\n",
       "      <td>0.38</td>\n",
       "      <td>0.17</td>\n",
       "      <td>0.48</td>\n",
       "      <td>0.53</td>\n",
       "    </tr>\n",
       "    <tr>\n",
       "      <th>10</th>\n",
       "      <td>0.00</td>\n",
       "      <td>0.00</td>\n",
       "      <td>0.00</td>\n",
       "      <td>1.00</td>\n",
       "      <td>0.00</td>\n",
       "      <td>0.00</td>\n",
       "      <td>0.72</td>\n",
       "    </tr>\n",
       "    <tr>\n",
       "      <th>11</th>\n",
       "      <td>0.00</td>\n",
       "      <td>0.00</td>\n",
       "      <td>0.00</td>\n",
       "      <td>0.23</td>\n",
       "      <td>0.13</td>\n",
       "      <td>0.17</td>\n",
       "      <td>0.85</td>\n",
       "    </tr>\n",
       "    <tr>\n",
       "      <th>12</th>\n",
       "      <td>0.00</td>\n",
       "      <td>0.00</td>\n",
       "      <td>0.00</td>\n",
       "      <td>0.30</td>\n",
       "      <td>0.81</td>\n",
       "      <td>0.04</td>\n",
       "      <td>0.38</td>\n",
       "    </tr>\n",
       "  </tbody>\n",
       "</table>\n",
       "</div>"
      ],
      "text/plain": [
       "        latest_accounts_cash  latest_accounts_assets  \\\n",
       "Labels                                                 \n",
       "-1                      1.00                    1.00   \n",
       " 0                      0.00                    0.00   \n",
       " 1                      0.00                    0.00   \n",
       " 2                      0.00                    0.00   \n",
       " 3                      0.00                    0.00   \n",
       " 4                      0.00                    0.00   \n",
       " 5                      0.00                    0.00   \n",
       " 6                      0.00                    0.00   \n",
       " 7                      0.01                    0.00   \n",
       " 8                      0.00                    0.00   \n",
       " 9                      0.00                    0.00   \n",
       " 10                     0.00                    0.00   \n",
       " 11                     0.00                    0.00   \n",
       " 12                     0.00                    0.00   \n",
       "\n",
       "        latest_accounts_liabilities  age  nr_employees_last_avail_yr  lat  \\\n",
       "Labels                                                                      \n",
       "-1                             1.00 0.26                        0.66 0.43   \n",
       " 0                             0.00 0.04                        0.01 0.40   \n",
       " 1                             0.00 0.67                        0.12 0.22   \n",
       " 2                             0.00 0.35                        1.00 1.00   \n",
       " 3                             0.00 0.02                        0.00 0.20   \n",
       " 4                             0.00 0.11                        0.25 0.18   \n",
       " 5                             0.00 0.60                        0.10 0.18   \n",
       " 6                             0.00 0.87                        0.00 0.23   \n",
       " 7                             0.00 0.00                        0.00 0.23   \n",
       " 8                             0.00 0.56                        0.14 0.07   \n",
       " 9                             0.00 0.38                        0.17 0.48   \n",
       " 10                            0.00 1.00                        0.00 0.00   \n",
       " 11                            0.00 0.23                        0.13 0.17   \n",
       " 12                            0.00 0.30                        0.81 0.04   \n",
       "\n",
       "        long  \n",
       "Labels        \n",
       "-1      0.45  \n",
       " 0      0.52  \n",
       " 1      0.69  \n",
       " 2      0.00  \n",
       " 3      0.94  \n",
       " 4      0.95  \n",
       " 5      0.87  \n",
       " 6      0.80  \n",
       " 7      0.81  \n",
       " 8      1.00  \n",
       " 9      0.53  \n",
       " 10     0.72  \n",
       " 11     0.85  \n",
       " 12     0.38  "
      ]
     },
     "execution_count": 66,
     "metadata": {},
     "output_type": "execute_result"
    }
   ],
   "source": [
    "scaled_means"
   ]
  },
  {
   "cell_type": "code",
   "execution_count": 67,
   "metadata": {},
   "outputs": [
    {
     "data": {
      "text/plain": [
       "<AxesSubplot:ylabel='Labels'>"
      ]
     },
     "execution_count": 67,
     "metadata": {},
     "output_type": "execute_result"
    },
    {
     "data": {
      "image/png": "[encoded data removed]",
      "text/plain": [
       "<Figure size 432x288 with 2 Axes>"
      ]
     },
     "metadata": {
      "needs_background": "light"
     },
     "output_type": "display_data"
    }
   ],
   "source": [
    "sns.heatmap(scaled_means)"
   ]
  },
  {
   "cell_type": "code",
   "execution_count": 68,
   "metadata": {},
   "outputs": [
    {
     "data": {
      "text/plain": [
       "<AxesSubplot:ylabel='Labels'>"
      ]
     },
     "execution_count": 68,
     "metadata": {},
     "output_type": "execute_result"
    },
    {
     "data": {
      "image/png": "[encoded data removed]",
      "text/plain": [
       "<Figure size 432x288 with 2 Axes>"
      ]
     },
     "metadata": {
      "needs_background": "light"
     },
     "output_type": "display_data"
    }
   ],
   "source": [
    "#with outliner removed\n",
    "sns.heatmap(scaled_means.loc[[0,1]],annot=True)"
   ]
  },
  {
   "cell_type": "markdown",
   "metadata": {},
   "source": [
    "# we can find that the two clusters mode different in age the most signifcant"
   ]
  },
  {
   "cell_type": "markdown",
   "metadata": {},
   "source": [
    "There are two values that need to be specified: eps and min_samples. Both seem to be set largely by trial and error. It's easiest to set min_samples first since that sets a floor for your cluster size and then eps is basically a distance metric that governs how far away something can be from a cluster and still be considered part of that cluster."
   ]
  },
  {
   "cell_type": "code",
   "execution_count": 69,
   "metadata": {},
   "outputs": [
    {
     "name": "stdout",
     "output_type": "stream",
     "text": [
      "0 epsilons explored.\n",
      "25 epsilons explored.\n",
      "50 epsilons explored.\n",
      "75 epsilons explored.\n",
      "100 epsilons explored.\n",
      "125 epsilons explored.\n",
      "Done.\n"
     ]
    }
   ],
   "source": [
    "c_nm = 'DBSCAN'\n",
    "\n",
    "# Quick sanity check in case something hasn't\n",
    "# run successfully -- these muck up k-means\n",
    "tech_mbdb1 = tech_mbdb.drop(list(tech_mbdb.columns[tech_mbdb.isnull().any().values].values), axis=1)\n",
    "\n",
    "# Make numeric display a bit neater\n",
    "pd.set_option('display.float_format', lambda x: '{:,.4f}'.format(x))\n",
    "\n",
    "# There's an argument for making min_samples = len(df.columns)+1\n",
    "\n",
    "el  = []\n",
    "\n",
    "max_clusters  = 10\n",
    "cluster_count = 1\n",
    "\n",
    "iters = 0\n",
    "\n",
    "for e in np.arange(0.15, 1.55, 0.01):\n",
    "    \n",
    "    if iters % 25==0: print(f\"{iters} epsilons explored.\") \n",
    "    \n",
    "    # Run the clustering\n",
    "    dbs = DBSCAN(eps=e, min_samples=tech_mbdb.shape[1]+1).fit(tech_mbdb1.values)\n",
    "    \n",
    "    # See how we did\n",
    "    s = pd.Series(dbs.labels_, index=tech_mbdb1.index, name=c_nm)\n",
    "    \n",
    "    row = [e]\n",
    "    data = s.value_counts()\n",
    "    for c in range(-1, max_clusters+1):\n",
    "        try:\n",
    "            row.append(data[c])\n",
    "        except KeyError:\n",
    "            row.append(None)\n",
    "    \n",
    "    el.append(row)\n",
    "    iters+=1\n",
    "\n",
    "edf = pd.DataFrame(el, columns=['Epsilon']+[\"Cluster \" + str(x) for x in list(range(-1,max_clusters+1))])\n",
    "edf.sample(random_state=42)\n",
    "\n",
    "# Make numeric display a bit neater\n",
    "pd.set_option('display.float_format', lambda x: '{:,.2f}'.format(x))\n",
    "\n",
    "print(\"Done.\")"
   ]
  },
  {
   "cell_type": "code",
   "execution_count": 70,
   "metadata": {},
   "outputs": [
    {
     "name": "stdout",
     "output_type": "stream",
     "text": [
      "-1    5329\n",
      " 0    4484\n",
      " 1      22\n",
      " 3      12\n",
      " 2      12\n",
      "Name: DBSCAN, dtype: int64\n"
     ]
    }
   ],
   "source": [
    "e = 2\n",
    "dbs = DBSCAN(eps=e, min_samples=tech_mbdb.shape[1]+1).fit(tech_mbdb1.values)\n",
    "s = pd.Series(dbs.labels_, index=tech_mbdb1.index, name=c_nm)\n",
    "tech_mbdb1[c_nm] = s\n",
    "print(s.value_counts())"
   ]
  },
  {
   "cell_type": "code",
   "execution_count": 71,
   "metadata": {},
   "outputs": [],
   "source": [
    "def plt_ldn(b):\n",
    "    fig, ax = plt.subplots(1, figsize=(18, 26))\n",
    "    b.plot(ax=ax, edgecolor='#cc2d2d', facecolor='None', zorder=3)\n",
    "    ax.spines['top'].set_visible(False)\n",
    "    ax.spines['right'].set_visible(False)\n",
    "    ax.spines['bottom'].set_visible(False)\n",
    "    ax.spines['left'].set_visible(False)\n",
    "    return fig, ax"
   ]
  },
  {
   "cell_type": "code",
   "execution_count": 72,
   "metadata": {},
   "outputs": [
    {
     "name": "stdout",
     "output_type": "stream",
     "text": [
      "Downloaded localauth.json file.\n"
     ]
    }
   ],
   "source": [
    "#LAD Geopackage\n",
    "data = os.path.join('data','geo','localauth.json')\n",
    "if not os.path.exists(data):\n",
    "    localauth = gpd.read_file('https://raw.githubusercontent.com/supernovajon/tech-cluster/main/LAD.json')\n",
    "    print(\"Downloaded localauth.json file.\")\n",
    "else:\n",
    "    localauth = gpd.read_file(data)"
   ]
  },
  {
   "cell_type": "code",
   "execution_count": 73,
   "metadata": {},
   "outputs": [
    {
     "data": {
      "text/html": [
       "<div>\n",
       "<style scoped>\n",
       "    .dataframe tbody tr th:only-of-type {\n",
       "        vertical-align: middle;\n",
       "    }\n",
       "\n",
       "    .dataframe tbody tr th {\n",
       "        vertical-align: top;\n",
       "    }\n",
       "\n",
       "    .dataframe thead th {\n",
       "        text-align: right;\n",
       "    }\n",
       "</style>\n",
       "<table border=\"1\" class=\"dataframe\">\n",
       "  <thead>\n",
       "    <tr style=\"text-align: right;\">\n",
       "      <th></th>\n",
       "      <th>latest_accounts_cash</th>\n",
       "      <th>latest_accounts_assets</th>\n",
       "      <th>latest_accounts_liabilities</th>\n",
       "      <th>age</th>\n",
       "      <th>nr_employees_last_avail_yr</th>\n",
       "      <th>lat</th>\n",
       "      <th>long</th>\n",
       "      <th>Labels</th>\n",
       "      <th>DBSCAN</th>\n",
       "    </tr>\n",
       "    <tr>\n",
       "      <th>oslaua</th>\n",
       "      <th></th>\n",
       "      <th></th>\n",
       "      <th></th>\n",
       "      <th></th>\n",
       "      <th></th>\n",
       "      <th></th>\n",
       "      <th></th>\n",
       "      <th></th>\n",
       "      <th></th>\n",
       "    </tr>\n",
       "  </thead>\n",
       "  <tbody>\n",
       "    <tr>\n",
       "      <th>S12000033</th>\n",
       "      <td>0.00</td>\n",
       "      <td>0.00</td>\n",
       "      <td>0.00</td>\n",
       "      <td>9.00</td>\n",
       "      <td>2.00</td>\n",
       "      <td>57.14</td>\n",
       "      <td>-2.11</td>\n",
       "      <td>0</td>\n",
       "      <td>-1</td>\n",
       "    </tr>\n",
       "    <tr>\n",
       "      <th>S12000033</th>\n",
       "      <td>0.00</td>\n",
       "      <td>95,232.00</td>\n",
       "      <td>0.00</td>\n",
       "      <td>16.00</td>\n",
       "      <td>3.00</td>\n",
       "      <td>57.14</td>\n",
       "      <td>-2.11</td>\n",
       "      <td>-1</td>\n",
       "      <td>-1</td>\n",
       "    </tr>\n",
       "    <tr>\n",
       "      <th>S12000033</th>\n",
       "      <td>0.00</td>\n",
       "      <td>0.00</td>\n",
       "      <td>0.00</td>\n",
       "      <td>23.00</td>\n",
       "      <td>5.00</td>\n",
       "      <td>57.14</td>\n",
       "      <td>-2.11</td>\n",
       "      <td>-1</td>\n",
       "      <td>-1</td>\n",
       "    </tr>\n",
       "    <tr>\n",
       "      <th>S12000033</th>\n",
       "      <td>0.00</td>\n",
       "      <td>0.00</td>\n",
       "      <td>0.00</td>\n",
       "      <td>18.00</td>\n",
       "      <td>13.00</td>\n",
       "      <td>57.15</td>\n",
       "      <td>-2.12</td>\n",
       "      <td>-1</td>\n",
       "      <td>-1</td>\n",
       "    </tr>\n",
       "    <tr>\n",
       "      <th>S12000033</th>\n",
       "      <td>0.00</td>\n",
       "      <td>0.00</td>\n",
       "      <td>0.00</td>\n",
       "      <td>7.00</td>\n",
       "      <td>0.00</td>\n",
       "      <td>57.15</td>\n",
       "      <td>-2.12</td>\n",
       "      <td>0</td>\n",
       "      <td>0</td>\n",
       "    </tr>\n",
       "  </tbody>\n",
       "</table>\n",
       "</div>"
      ],
      "text/plain": [
       "           latest_accounts_cash  latest_accounts_assets  \\\n",
       "oslaua                                                    \n",
       "S12000033                  0.00                    0.00   \n",
       "S12000033                  0.00               95,232.00   \n",
       "S12000033                  0.00                    0.00   \n",
       "S12000033                  0.00                    0.00   \n",
       "S12000033                  0.00                    0.00   \n",
       "\n",
       "           latest_accounts_liabilities   age  nr_employees_last_avail_yr  \\\n",
       "oslaua                                                                     \n",
       "S12000033                         0.00  9.00                        2.00   \n",
       "S12000033                         0.00 16.00                        3.00   \n",
       "S12000033                         0.00 23.00                        5.00   \n",
       "S12000033                         0.00 18.00                       13.00   \n",
       "S12000033                         0.00  7.00                        0.00   \n",
       "\n",
       "            lat  long  Labels  DBSCAN  \n",
       "oslaua                                 \n",
       "S12000033 57.14 -2.11       0      -1  \n",
       "S12000033 57.14 -2.11      -1      -1  \n",
       "S12000033 57.14 -2.11      -1      -1  \n",
       "S12000033 57.15 -2.12      -1      -1  \n",
       "S12000033 57.15 -2.12       0       0  "
      ]
     },
     "execution_count": 73,
     "metadata": {},
     "output_type": "execute_result"
    }
   ],
   "source": [
    "tech_mbdb1.head()"
   ]
  },
  {
   "cell_type": "code",
   "execution_count": 74,
   "metadata": {},
   "outputs": [],
   "source": [
    "#add coloumn to index\n",
    "tech_mbdb1['LAD13CD'] = tech_mbdb1.index"
   ]
  },
  {
   "cell_type": "code",
   "execution_count": 75,
   "metadata": {},
   "outputs": [],
   "source": [
    "#add geometry\n",
    "tech_mbdb2 = pd.merge(localauth, tech_mbdb1, how=\"left\", on=[\"LAD13CD\"])"
   ]
  },
  {
   "cell_type": "markdown",
   "metadata": {
    "jupyter": {
     "outputs_hidden": true
    },
    "tags": []
   },
   "source": [
    "fig, ax = plt_ldn(localauth)\n",
    "fig.suptitle(f\"{c_nm} Results\", fontsize=10, y=0.92)\n",
    "tech_mbdb2.plot(column=c_nm, ax=ax, linewidth=0, zorder=0, legend=True, categorical=True);"
   ]
  },
  {
   "cell_type": "markdown",
   "metadata": {},
   "source": [
    "fig.savefig(\"mbdbgeo.png\", dpi=200)"
   ]
  },
  {
   "cell_type": "raw",
   "metadata": {
    "jupyter": {
     "outputs_hidden": true
    },
    "tags": []
   },
   "source": [
    "fig = px.choropleth_mapbox(tech_mbdb2, geojson=LAD_json, locations=tech_mbdb2.LAD13CD, color='DBSCAN',featureidkey=\"properties.LAD13CD\",\n",
    "                           color_continuous_scale=\"Viridis\",\n",
    "                           range_color=(-1, 3),\n",
    "                           mapbox_style=\"carto-positron\",\n",
    "                           zoom=3, center = {\"lat\": 51.505453, \"lon\": -0.268839},\n",
    "                           opacity=0.5,\n",
    "                           labels={'comp':'no.comp'}\n",
    "                          )\n",
    "fig.update_layout(margin={\"r\":0,\"t\":0,\"l\":0,\"b\":0})\n",
    "fig.show()"
   ]
  },
  {
   "cell_type": "code",
   "execution_count": 85,
   "metadata": {},
   "outputs": [],
   "source": [
    "cluster3 = tech_mbdb1[tech_mbdb1.DBSCAN ==3]"
   ]
  },
  {
   "cell_type": "code",
   "execution_count": 86,
   "metadata": {},
   "outputs": [
    {
     "name": "stdout",
     "output_type": "stream",
     "text": [
      "           latest_accounts_cash  latest_accounts_assets  \\\n",
      "oslaua                                                    \n",
      "E08000025                  0.00                  100.00   \n",
      "E06000043                  0.00                  100.00   \n",
      "E07000008                  0.00                  100.00   \n",
      "E07000008                  0.00                  100.00   \n",
      "E09000030                  0.00                  100.00   \n",
      "E09000003                  0.00                  100.00   \n",
      "E09000007                  0.00                  100.00   \n",
      "E06000034                  0.00                  100.00   \n",
      "E07000211                  0.00                  100.00   \n",
      "E09000032                  0.00                  100.00   \n",
      "E09000033                  0.00                  100.00   \n",
      "E09000033                  0.00                  100.00   \n",
      "\n",
      "           latest_accounts_liabilities  age  nr_employees_last_avail_yr   lat  \\\n",
      "oslaua                                                                          \n",
      "E08000025                         0.00 2.00                        0.00 52.45   \n",
      "E06000043                         0.00 3.00                        0.00 50.84   \n",
      "E07000008                         0.00 3.00                        0.00 52.18   \n",
      "E07000008                         0.00 3.00                        0.00 52.18   \n",
      "E09000030                         0.00 2.00                        0.00 51.52   \n",
      "E09000003                         0.00 2.00                        0.00 51.60   \n",
      "E09000007                         0.00 1.00                        0.00 51.55   \n",
      "E06000034                         0.00 1.00                        0.00 51.51   \n",
      "E07000211                         0.00 1.00                        0.00 51.32   \n",
      "E09000032                         0.00 1.00                        0.00 51.45   \n",
      "E09000033                         0.00 3.00                        0.00 51.49   \n",
      "E09000033                         0.00 1.00                        0.00 51.51   \n",
      "\n",
      "           long  Labels  DBSCAN    LAD13CD  \n",
      "oslaua                                      \n",
      "E08000025 -1.95       3       3  E08000025  \n",
      "E06000043 -0.21       3       3  E06000043  \n",
      "E07000008  0.15       3       3  E07000008  \n",
      "E07000008  0.15       3       3  E07000008  \n",
      "E09000030 -0.02       3       3  E09000030  \n",
      "E09000003 -0.19       3       3  E09000003  \n",
      "E09000007 -0.17       3       3  E09000007  \n",
      "E06000034  0.29       3       3  E06000034  \n",
      "E07000211 -0.20       3       3  E07000211  \n",
      "E09000032 -0.16       3       3  E09000032  \n",
      "E09000033 -0.14       3       3  E09000033  \n",
      "E09000033 -0.14       3       3  E09000033  \n"
     ]
    }
   ],
   "source": [
    "print(cluster3)"
   ]
  },
  {
   "cell_type": "markdown",
   "metadata": {},
   "source": [
    "Hierarchical Clustering\n",
    "Probably not appropriate as it tends to be confused by noise."
   ]
  },
  {
   "cell_type": "code",
   "execution_count": null,
   "metadata": {},
   "outputs": [],
   "source": []
  },
  {
   "cell_type": "code",
   "execution_count": null,
   "metadata": {},
   "outputs": [],
   "source": [
    "#shown on map generally for latest account asset"
   ]
  },
  {
   "cell_type": "code",
   "execution_count": null,
   "metadata": {},
   "outputs": [],
   "source": [
    "gdf = gpd.GeoDataFrame(tech_SIC_geo, \n",
    "      geometry=gpd.points_from_xy(tech_SIC_geo['long'], tech_SIC_geo['lat'], crs='epsg:4326'))\n",
    "gdf = gdf.to_crs('epsg:27700')"
   ]
  },
  {
   "cell_type": "markdown",
   "metadata": {},
   "source": [
    "gdf.plot(column='latest_accounts_assets', cmap='plasma', scheme='quantiles', k=10, markersize=1, figsize=(12,6));"
   ]
  },
  {
   "cell_type": "code",
   "execution_count": null,
   "metadata": {},
   "outputs": [],
   "source": []
  },
  {
   "cell_type": "code",
   "execution_count": null,
   "metadata": {},
   "outputs": [],
   "source": [
    "#groupby local authority district\n",
    "gLAD = gdf.groupby(['oslaua','primary_uk_sic_2007'])['primary_uk_sic_2007'].agg(Count='count').reset_index() # oslaua companies grouped counts\n",
    "gLAD.head(100)"
   ]
  },
  {
   "cell_type": "code",
   "execution_count": null,
   "metadata": {},
   "outputs": [],
   "source": []
  },
  {
   "cell_type": "code",
   "execution_count": null,
   "metadata": {},
   "outputs": [],
   "source": []
  },
  {
   "cell_type": "code",
   "execution_count": null,
   "metadata": {},
   "outputs": [],
   "source": [
    "len(gLAD.index)"
   ]
  },
  {
   "cell_type": "code",
   "execution_count": null,
   "metadata": {},
   "outputs": [],
   "source": [
    "#groupby local authority district\n",
    "gLADt = gdf.groupby(['oslaua'])['primary_uk_sic_2007'].agg(Count='count').reset_index() # oslaua companies grouped counts\n",
    "gLADt.head(100)"
   ]
  },
  {
   "cell_type": "markdown",
   "metadata": {},
   "source": [
    "gLADt.to_csv('gLADt.csv')"
   ]
  },
  {
   "cell_type": "code",
   "execution_count": null,
   "metadata": {},
   "outputs": [],
   "source": [
    "len(gLADt.index)"
   ]
  },
  {
   "cell_type": "code",
   "execution_count": null,
   "metadata": {},
   "outputs": [],
   "source": [
    "#change coloumn name to match\n",
    "cols = gLADt.columns.values\n",
    "cols[0]  = 'LAD13CD'\n",
    "cols[1]  = 'Counts'\n",
    "gLADt.columns = cols"
   ]
  },
  {
   "cell_type": "code",
   "execution_count": null,
   "metadata": {},
   "outputs": [],
   "source": [
    "gLADt.sample(3, random_state=42)"
   ]
  },
  {
   "cell_type": "code",
   "execution_count": null,
   "metadata": {},
   "outputs": [],
   "source": [
    "gLADt.nsmallest(10,'Counts')"
   ]
  },
  {
   "cell_type": "raw",
   "metadata": {},
   "source": [
    "# reset index to LAD13CD\n",
    "#gLADt = gLADt.fillna(0).set_index('LAD13CD')\n",
    "#then transform\n",
    "pts = PowerTransformer()\n",
    "for c in gLADt.columns.values:\n",
    "    gLADt[c] = pts.fit_transform(gLADt[c].values.reshape(-1,1))\n",
    "gLADt.head(10)"
   ]
  },
  {
   "cell_type": "code",
   "execution_count": null,
   "metadata": {},
   "outputs": [],
   "source": [
    "#read LAD geojson"
   ]
  },
  {
   "cell_type": "code",
   "execution_count": null,
   "metadata": {},
   "outputs": [],
   "source": [
    "with open('LAD.json', encoding=\"UTF-8\") as json_file:\n",
    "    LAD_json = json.load(json_file)"
   ]
  },
  {
   "cell_type": "code",
   "execution_count": null,
   "metadata": {},
   "outputs": [],
   "source": [
    "print(gLADt[\"Counts\"][2])\n",
    "print(LAD_json[\"features\"][0][\"properties\"])"
   ]
  },
  {
   "cell_type": "raw",
   "metadata": {},
   "source": [
    "pip install folium —upgrade if needed\n",
    "pip install plotly"
   ]
  },
  {
   "cell_type": "code",
   "execution_count": null,
   "metadata": {},
   "outputs": [],
   "source": [
    "gLADt.nlargest(10,'Counts')"
   ]
  },
  {
   "cell_type": "code",
   "execution_count": null,
   "metadata": {},
   "outputs": [],
   "source": [
    "#would show empty in chrome but works in safari due to folium issue in showing complex large datasets\n",
    "bins = [0, 1000, 2000, 3000, 5000, 10000, 12000]\n",
    "m = folium.Map(location=[55, 4], zoom_start=5)\n",
    "m.choropleth(\n",
    "    geo_data=LAD_json,\n",
    "    data=gLADt,\n",
    "    columns=['LAD13CD', 'Counts'],\n",
    "    key_on='feature.properties.LAD13CD',\n",
    "    fill_color='YlGn',\n",
    "    threshold_scale = bins,\n",
    "    fill_opacity=0.7,\n",
    "    line_opacity=0.2,\n",
    "    legend_name='no.of companies',\n",
    "    highlight=True\n",
    ")"
   ]
  },
  {
   "cell_type": "code",
   "execution_count": null,
   "metadata": {},
   "outputs": [],
   "source": [
    "m.save(\"m.html\")"
   ]
  },
  {
   "cell_type": "raw",
   "metadata": {},
   "source": [
    "test geojson on folium\n",
    "k = folium.Map(location = [51.505453, -0.268839])\n",
    "folium.GeoJson('borough.geojson').add_to(k)\n",
    "k"
   ]
  },
  {
   "cell_type": "code",
   "execution_count": null,
   "metadata": {},
   "outputs": [],
   "source": [
    "import plotly.express as px\n",
    "import plotly.offline as py\n",
    "import plotly.graph_objs as go"
   ]
  },
  {
   "cell_type": "code",
   "execution_count": null,
   "metadata": {},
   "outputs": [],
   "source": []
  },
  {
   "cell_type": "code",
   "execution_count": null,
   "metadata": {},
   "outputs": [],
   "source": [
    "#LAD Geopackage\n",
    "data = os.path.join('data','geo','localauth.json')\n",
    "if not os.path.exists(data):\n",
    "    localauth = gpd.read_file('https://raw.githubusercontent.com/supernovajon/tech-cluster/main/LAD.json')\n",
    "    print(\"Downloaded localauth.json file.\")\n",
    "else:\n",
    "    localauth = gpd.read_file(data)"
   ]
  },
  {
   "cell_type": "code",
   "execution_count": null,
   "metadata": {},
   "outputs": [],
   "source": [
    "#add ID\n",
    "for k in range(len(LAD_json['features'])):\n",
    "     LAD_json['features'][k]['id'] = k"
   ]
  },
  {
   "cell_type": "code",
   "execution_count": null,
   "metadata": {},
   "outputs": [],
   "source": [
    "LAD_json['features'][0].keys()"
   ]
  },
  {
   "cell_type": "code",
   "execution_count": null,
   "metadata": {},
   "outputs": [],
   "source": []
  },
  {
   "cell_type": "code",
   "execution_count": null,
   "metadata": {},
   "outputs": [],
   "source": []
  },
  {
   "cell_type": "code",
   "execution_count": null,
   "metadata": {
    "tags": []
   },
   "outputs": [],
   "source": [
    "fig = px.choropleth_mapbox(gLADt, geojson=LAD_json, locations=gLADt.LAD13CD, color='Counts',featureidkey=\"properties.LAD13CD\",\n",
    "                           color_continuous_scale=\"Viridis\",\n",
    "                           range_color=(0, 3000),\n",
    "                           mapbox_style=\"carto-positron\",\n",
    "                           zoom=3, center = {\"lat\": 51.505453, \"lon\": -0.268839},\n",
    "                           opacity=0.5,\n",
    "                           labels={'comp':'no.comp'}\n",
    "                          )\n",
    "fig.update_layout(margin={\"r\":0,\"t\":0,\"l\":0,\"b\":0})\n",
    "fig.show()"
   ]
  },
  {
   "cell_type": "code",
   "execution_count": null,
   "metadata": {},
   "outputs": [],
   "source": [
    "#add geometry to gLADt as a result set then plot\n",
    "rs = pd.merge(localauth, gLADt, how=\"left\", on=[\"LAD13CD\"])"
   ]
  },
  {
   "cell_type": "code",
   "execution_count": null,
   "metadata": {},
   "outputs": [],
   "source": [
    "rs"
   ]
  },
  {
   "cell_type": "markdown",
   "metadata": {},
   "source": [
    "rs.to_csv('rs.csv')"
   ]
  },
  {
   "cell_type": "code",
   "execution_count": null,
   "metadata": {},
   "outputs": [],
   "source": [
    "rs.nlargest(10,'Counts')"
   ]
  },
  {
   "cell_type": "code",
   "execution_count": null,
   "metadata": {},
   "outputs": [],
   "source": [
    "rs.nsmallest(10,'Counts')"
   ]
  },
  {
   "cell_type": "code",
   "execution_count": null,
   "metadata": {},
   "outputs": [],
   "source": [
    "#distribution of counts\n",
    "sns.histplot(rs[\"Counts\"])"
   ]
  },
  {
   "cell_type": "code",
   "execution_count": null,
   "metadata": {},
   "outputs": [],
   "source": [
    "rs.isnull().sum()/len(data) *100 #values are missing in Counts for some LADs"
   ]
  },
  {
   "cell_type": "code",
   "execution_count": null,
   "metadata": {},
   "outputs": [],
   "source": [
    "#fill na with 0 as it is numerical not categorical that needs dummy variables, \n",
    "#it simply indicates there is no high-tech company registered in the area here\n",
    "rs = rs.fillna(0)"
   ]
  },
  {
   "cell_type": "code",
   "execution_count": null,
   "metadata": {},
   "outputs": [],
   "source": [
    "bins = [0, 1, 100, 500, 1000, 2000, 5000, 12000]"
   ]
  },
  {
   "cell_type": "code",
   "execution_count": null,
   "metadata": {},
   "outputs": [],
   "source": [
    "#new undeprecated way\n",
    "#be aware that the tiles do not work here LAD_map = folium.Map(location=[55, 4], zoom_start=5, tiles='Mapbox Bright')\n",
    "n = r'LAD.json' # geojson file\n",
    "\n",
    "LAD_map = folium.Map(location=[55, 4], zoom_start=5)\n",
    "\n",
    "# generate choropleth map\n",
    "folium.Choropleth(\n",
    "    geo_data=LAD_json,\n",
    "    data=rs,\n",
    "    columns=['LAD13CD', 'Counts'],\n",
    "    key_on='feature.properties.LAD13CD',\n",
    "    fill_color='YlGn',\n",
    "    threshold_scale = bins,\n",
    "    fill_opacity=0.7,\n",
    "    line_opacity=0.2,\n",
    "    legend_name='no.of companies',\n",
    "\n",
    ").add_to(LAD_map)"
   ]
  },
  {
   "cell_type": "code",
   "execution_count": null,
   "metadata": {
    "tags": []
   },
   "outputs": [],
   "source": [
    "LAD_map"
   ]
  },
  {
   "cell_type": "code",
   "execution_count": null,
   "metadata": {},
   "outputs": [],
   "source": [
    "LAD_map.save(\"LAD_map.html\")"
   ]
  },
  {
   "cell_type": "code",
   "execution_count": null,
   "metadata": {},
   "outputs": [],
   "source": [
    "rs[\"Counts\"].mean()"
   ]
  },
  {
   "cell_type": "code",
   "execution_count": null,
   "metadata": {},
   "outputs": [],
   "source": [
    "#zero count\n",
    "zero_counts = sum(rs['Counts']==0)/rs[rs.Counts>=0].shape[0]*100\n",
    "print('percentage of zero counts is: ',zero_counts, '%')"
   ]
  },
  {
   "cell_type": "code",
   "execution_count": null,
   "metadata": {},
   "outputs": [],
   "source": []
  },
  {
   "cell_type": "code",
   "execution_count": null,
   "metadata": {},
   "outputs": [],
   "source": [
    "#one count\n",
    "one_counts = sum(rs['Counts']==1)/rs[rs.Counts>=0].shape[0]*100\n",
    "print('percentage of one counts is: ',one_counts, '%')"
   ]
  },
  {
   "cell_type": "code",
   "execution_count": null,
   "metadata": {},
   "outputs": [],
   "source": [
    "#smaller than 1000 count\n",
    "x_counts = sum(rs['Counts']<813)/rs[rs.Counts>=0].shape[0]*100\n",
    "print('percentage of 813 counts is: ',x_counts, '%')"
   ]
  },
  {
   "cell_type": "code",
   "execution_count": null,
   "metadata": {},
   "outputs": [],
   "source": [
    "rs['Counts']<813"
   ]
  },
  {
   "cell_type": "code",
   "execution_count": null,
   "metadata": {},
   "outputs": [],
   "source": [
    "##clustering"
   ]
  },
  {
   "cell_type": "markdown",
   "metadata": {},
   "source": [
    "import sklearn\n",
    "from sklearn.neighbors import NearestNeighbors\n",
    "from sklearn.manifold import TSNE\n",
    "from sklearn.decomposition import PCA\n",
    "from sklearn.preprocessing import PowerTransformer, RobustScaler, StandardScaler, MinMaxScaler\n",
    "from sklearn.cluster import KMeans, DBSCAN, OPTICS\n",
    "from esda.adbscan import ADBSCAN"
   ]
  },
  {
   "cell_type": "markdown",
   "metadata": {},
   "source": [
    "#Initialise the Scalers and Transformers\n",
    "rbs = RobustScaler(quantile_range=[0.025,0.975])\n",
    "mms = MinMaxScaler(feature_range=(-1,1))\n",
    "pts = PowerTransformer()"
   ]
  },
  {
   "cell_type": "code",
   "execution_count": null,
   "metadata": {},
   "outputs": [],
   "source": []
  },
  {
   "cell_type": "code",
   "execution_count": null,
   "metadata": {},
   "outputs": [],
   "source": [
    "#gLADr is for changing the format for readability and (analyse specific SIC industry) analyse links between tech industries\n",
    "gLADr = gLAD.pivot(index='oslaua', columns=['primary_uk_sic_2007'], values=['Count']).reset_index()\n",
    "gLADr.columns = ['LAD13CD',26511,26513,26600,26701,32500,72190,74202,21100,21200,72110,\n",
    "                                                       62020,62030,62090,63110,26301,26309,61900,26200,26110,26400,26512,\n",
    "                                                       27110,27200,27310,27900,28910,71121,71122,71200,74100,74901,28110,\n",
    "                                                       28120,28131,28132,28150,29100,29201,29202,29310,29320,30110,30120,\n",
    "                                                       30200,30300,30400,59111,59112,59113,59120,59200,18201,18202,18203,\n",
    "                                                       58210,58290,62011,62012,63120,64301,64302,64303,64304,64305,64306,\n",
    "                                                       64921,64992,64999,65300]\n",
    "gLADr.head()"
   ]
  },
  {
   "cell_type": "code",
   "execution_count": null,
   "metadata": {},
   "outputs": [],
   "source": []
  },
  {
   "cell_type": "code",
   "execution_count": null,
   "metadata": {},
   "outputs": [],
   "source": [
    "gLADr = gLADr.replace(np.nan, 0)"
   ]
  },
  {
   "cell_type": "code",
   "execution_count": null,
   "metadata": {},
   "outputs": [],
   "source": [
    "#search for random gLADr\n",
    "gLADr.sample(3, random_state=42)"
   ]
  },
  {
   "cell_type": "code",
   "execution_count": null,
   "metadata": {},
   "outputs": [],
   "source": []
  },
  {
   "cell_type": "markdown",
   "metadata": {},
   "source": [
    "gLADr.to_csv('gLADr.csv')"
   ]
  },
  {
   "cell_type": "code",
   "execution_count": null,
   "metadata": {},
   "outputs": [],
   "source": [
    "#add coloumn of total sum and HHI\n"
   ]
  },
  {
   "cell_type": "code",
   "execution_count": null,
   "metadata": {},
   "outputs": [],
   "source": []
  },
  {
   "cell_type": "code",
   "execution_count": null,
   "metadata": {},
   "outputs": [],
   "source": [
    "#Counts are so skewed that using it in most clustering contexts is almost impossible. the reason for using the PowerTransformer"
   ]
  },
  {
   "cell_type": "code",
   "execution_count": null,
   "metadata": {},
   "outputs": [],
   "source": [
    "# reset index to LAD13CD\n",
    "gLADrc = gLADr.fillna(0).set_index('LAD13CD')"
   ]
  },
  {
   "cell_type": "code",
   "execution_count": null,
   "metadata": {},
   "outputs": [],
   "source": [
    "gLADrc"
   ]
  },
  {
   "cell_type": "code",
   "execution_count": null,
   "metadata": {},
   "outputs": [],
   "source": [
    "#then transform\n",
    "for c in gLADrc.columns.values:\n",
    "    gLADrc[c] = pts.fit_transform(gLADrc[c].values.reshape(-1,1))\n",
    "gLADrc.head(10)"
   ]
  },
  {
   "cell_type": "code",
   "execution_count": null,
   "metadata": {},
   "outputs": [],
   "source": [
    "cols_to_plot = np.random.choice(gLADrc.columns.values, 4, replace=False)\n",
    "print(cols_to_plot)"
   ]
  },
  {
   "cell_type": "code",
   "execution_count": null,
   "metadata": {},
   "outputs": [],
   "source": [
    "cols_to_plot"
   ]
  },
  {
   "cell_type": "code",
   "execution_count": null,
   "metadata": {},
   "outputs": [],
   "source": [
    "#variable SIC code industry classification\n",
    "bio_cols = [21100,21200,72110]"
   ]
  },
  {
   "cell_type": "markdown",
   "metadata": {},
   "source": [
    "## First K-Means Clustering"
   ]
  },
  {
   "cell_type": "code",
   "execution_count": null,
   "metadata": {},
   "outputs": [],
   "source": [
    "c_nm   = 'KMeans' # Clustering name\n",
    "k_pref = 6 # Number of clusters (from below)\n",
    "\n",
    "kmeans = KMeans(n_clusters=k_pref, n_init=25, random_state=42).fit(gLADrc) # The process\n",
    "\n",
    "print(kmeans.labels_) # The results"
   ]
  },
  {
   "cell_type": "code",
   "execution_count": null,
   "metadata": {},
   "outputs": [],
   "source": [
    "rss = pd.merge(localauth, gLADrc, left_on='LAD13CD', right_index=True).set_index('LAD13CD')"
   ]
  },
  {
   "cell_type": "code",
   "execution_count": null,
   "metadata": {},
   "outputs": [],
   "source": []
  },
  {
   "cell_type": "code",
   "execution_count": null,
   "metadata": {},
   "outputs": [],
   "source": [
    "rss.head(2)[[26511,26513]]"
   ]
  },
  {
   "cell_type": "code",
   "execution_count": null,
   "metadata": {},
   "outputs": [],
   "source": [
    "# Add it to the data frame\n",
    "rss[c_nm] = pd.Series(kmeans.labels_, index=gLADrc.index)"
   ]
  },
  {
   "cell_type": "code",
   "execution_count": null,
   "metadata": {},
   "outputs": [],
   "source": [
    "rss"
   ]
  },
  {
   "cell_type": "code",
   "execution_count": null,
   "metadata": {},
   "outputs": [],
   "source": [
    "# How are the clusters distributed\n",
    "ax = sns.histplot(data=rss, x=c_nm, bins=k_pref);"
   ]
  },
  {
   "cell_type": "code",
   "execution_count": null,
   "metadata": {},
   "outputs": [],
   "source": [
    "# Going to be a bit hard to read if plot every variable against everyother variables, so we'll just pick a random col_to_plot\n",
    "sns.set(style=\"white\")\n",
    "sns.pairplot(rss, \n",
    "             vars=bio_cols, \n",
    "             hue=c_nm, markers=\".\", height=3, diag_kind='kde');"
   ]
  },
  {
   "cell_type": "code",
   "execution_count": null,
   "metadata": {},
   "outputs": [],
   "source": [
    "from io import BytesIO, StringIO\n",
    "from os.path import join as pj\n",
    "from pathlib import Path\n",
    "import matplotlib as mpl\n",
    "from matplotlib.colors import ListedColormap\n",
    "\n",
    "import sklearn\n",
    "sklv = int(sklearn.__version__.replace(\".\",\"\"))\n",
    "if sklv < 210:\n",
    "    print(\"SciKit-Learn verion is: \" + sklearn.__version__)\n",
    "    print(\"The OPTICS part of this notebook relies on a version >= 0.21.0\")\n",
    "\n",
    "from sklearn.neighbors import NearestNeighbors\n",
    "from sklearn.manifold import TSNE\n",
    "from sklearn.decomposition import PCA\n",
    "from sklearn.preprocessing import PowerTransformer\n",
    "from sklearn import preprocessing\n",
    "from sklearn import cluster\n",
    "\n",
    "import random\n",
    "random.seed(42)    # For reproducibility\n",
    "np.random.seed(42) # For reproducibility\n",
    "\n",
    "# Make numeric display a bit neater\n",
    "pd.set_option('display.float_format', lambda x: '{:,.2f}'.format(x))"
   ]
  },
  {
   "cell_type": "code",
   "execution_count": null,
   "metadata": {},
   "outputs": [],
   "source": [
    "def default_cmap(n, outliers=False):\n",
    "    cmap = mpl.cm.get_cmap('viridis_r', n)\n",
    "    colors = cmap(np.linspace(0,1,n))\n",
    "    if outliers:\n",
    "        gray = np.array([225/256, 225/256, 225/256, 1])\n",
    "        colors = np.insert(colors, 0, gray, axis=0)\n",
    "    return ListedColormap(colors)\n",
    "\n",
    "# mappable = ax.collections[-1] if you add the geopandas\n",
    "# plot last.\n",
    "def add_colorbar(mappable, ax, cmap, norm, breaks, outliers=False):\n",
    "    cb = fig.colorbar(mappable, ax=ax, cmap=cmap, norm=norm,\n",
    "                    boundaries=breaks,\n",
    "                    extend=('min' if outliers else 'neither'), \n",
    "                    spacing='uniform',\n",
    "                    orientation='horizontal',\n",
    "                    fraction=0.05, shrink=0.5, pad=0.05)\n",
    "    cb.set_label(\"Cluster Number\")"
   ]
  },
  {
   "cell_type": "code",
   "execution_count": null,
   "metadata": {},
   "outputs": [],
   "source": [
    "breaks = np.arange(0,rss[c_nm].max()+2,1)\n",
    "cmap   = default_cmap(len(breaks))\n",
    "\n",
    "norm    = mpl.colors.BoundaryNorm(breaks, cmap.N)\n",
    "\n",
    "fig, ax = plt_ldn(localauth)\n",
    "fig.suptitle(f\"{c_nm} Results (k={k_pref})\", fontsize=20, y=0.92)\n",
    "rss.plot(column=c_nm, ax=ax, cmap=cmap, norm=norm, linewidth=0, zorder=0)\n",
    "\n",
    "add_colorbar(ax.collections[-1], ax, cmap, norm, breaks)\n",
    "\n",
    "del(rss)"
   ]
  },
  {
   "cell_type": "code",
   "execution_count": null,
   "metadata": {},
   "outputs": [],
   "source": [
    "#above used 3. choose the right cluster number with silhouette_score"
   ]
  },
  {
   "cell_type": "markdown",
   "metadata": {},
   "source": [
    "The 'Right' Number of Clusters\n",
    "\n",
    "Again, there's more than one way to skin this cat. In Geocomputation they use WCSS to pick the 'optimal' number of clusters. The idea is that you plot the average WCSS for each number of possible clusters in the range of interest (2...n) and then look for a 'knee' (i.e. kink) in the curve. The principle of this approach is that you look for the point where there is declining benefit from adding more clusters. The problem is that there is always some benefit to adding more clusters (the perfect clustering is k==n), so you don't always see a knee.\n",
    "\n",
    "Another way to try to make the process of selecting the number of clusters a little less arbitrary is called the silhouette plot and (like WCSS) it allows us to evaluate the 'quality' of the clustering outcome by examining the distance between each observation and the rest of the cluster. In this case it's based on Partitioning Around the Medoid (PAM).\n",
    "\n",
    "Either way, to evaluate this in a systematic way, we want to do multiple k-means clusterings for multiple values of k and then we can look at which gives the best results...\n",
    "\n",
    "Let's try it for the range 3-9."
   ]
  },
  {
   "cell_type": "markdown",
   "metadata": {},
   "source": [
    "Silhouette analysis can be used to study the separation distance between the resulting clusters. The silhouette plot displays a measure of how close each point in one cluster is to points in the neighboring clusters and thus provides a way to assess parameters like number of clusters visually. This measure has a range of [-1, 1].\n",
    "\n",
    "Silhouette coefficients (as these values are referred to as) near +1 indicate that the sample is far away from the neighboring clusters. A value of 0 indicates that the sample is on or very close to the decision boundary between two neighboring clusters and negative values indicate that those samples might have been assigned to the wrong cluster.\n",
    "\n",
    "In this example the silhouette analysis is used to choose an optimal value for n_clusters. The silhouette plot shows that the n_clusters value of 3, 5 and 6 are a bad pick for the given data due to the presence of clusters with below average silhouette scores and also due to wide fluctuations in the size of the silhouette plots. Silhouette analysis is more ambivalent in deciding between 2 and 4.\n",
    "\n",
    "Also from the thickness of the silhouette plot the cluster size can be visualized. The silhouette plot for cluster 0 when n_clusters is equal to 2, is bigger in size owing to the grouping of the 3 sub clusters into one big cluster. However when the n_clusters is equal to 4, all the plots are more or less of similar thickness and hence are of similar sizes as can be also verified from the labelled scatter plot on the right."
   ]
  },
  {
   "cell_type": "code",
   "execution_count": null,
   "metadata": {},
   "outputs": [],
   "source": [
    "# evluation of k mean using silhouette analysis rather than elbow techniqu\n",
    "#https://medium.com/@cmukesh8688/silhouette-analysis-in-k-means-clustering-cefa9a7ad111\n",
    "# Adapted from: http://scikit-learn.org/stable/auto_examples/cluster/plot_kmeans_silhouette_analysis.html\n",
    "from sklearn.cluster import KMeans\n",
    "from sklearn.metrics import silhouette_samples, silhouette_score\n",
    "#gLADrc = gLADr.drop(list(gLADr.columns[gLADr.isnull().any().values].values), axis=1)\n",
    "\n",
    "text = []\n",
    "\n",
    "for k in range(3,10):\n",
    "    # Debugging\n",
    "    print(\"Cluster count: \" + str(k))\n",
    "    \n",
    "    #############\n",
    "    # Do the clustering using the main columns\n",
    "    clusterer = KMeans(n_clusters=k, n_init=15, random_state=42, n_jobs=-1)\n",
    "    cluster_labels = clusterer.fit_predict(gLADrc)\n",
    "    \n",
    "    # Calculate the overall silhouette score\n",
    "    silhouette_avg = silhouette_score(gLADrc, cluster_labels)\n",
    "    text = text + [f\"For k={k} the average silhouette_score is: {silhouette_avg:6.4f}\"]\n",
    "    \n",
    "    # Calculate the silhouette values\n",
    "    sample_silhouette_values = silhouette_samples(gLADrc, cluster_labels)\n",
    "    \n",
    "    #############\n",
    "    # Create a subplot with 1 row and 2 columns\n",
    "    fig, (ax1, ax2) = plt.subplots(1, 2)\n",
    "    fig.set_size_inches(9, 5)\n",
    "\n",
    "    # The 1st subplot is the silhouette plot\n",
    "    # The silhouette coefficient can range from -1, 1\n",
    "    ax1.set_xlim([-1.0, 1.0]) # Changed from -0.1, 1\n",
    "    \n",
    "    # The (n_clusters+1)*10 is for inserting blank space between silhouette\n",
    "    # plots of individual clusters, to demarcate them clearly.\n",
    "    ax1.set_ylim([0, gLADrc.shape[0] + (k + 1) * 10])\n",
    "    \n",
    "    y_lower = 10\n",
    "    \n",
    "    # For each of the clusters...\n",
    "    for i in range(k):\n",
    "        # Aggregate the silhouette scores for samples belonging to\n",
    "        # cluster i, and sort them\n",
    "        ith_cluster_silhouette_values = \\\n",
    "            sample_silhouette_values[cluster_labels == i]\n",
    "\n",
    "        ith_cluster_silhouette_values.sort()\n",
    "\n",
    "        size_cluster_i = ith_cluster_silhouette_values.shape[0]\n",
    "        y_upper = y_lower + size_cluster_i\n",
    "        \n",
    "        # Set the color ramp\n",
    "        #cmap  = cm.get_cmap(\"Spectral\")\n",
    "        color = plt.cm.Spectral(i/k)\n",
    "        ax1.fill_betweenx(np.arange(y_lower, y_upper),\n",
    "                          0, ith_cluster_silhouette_values,\n",
    "                          facecolor=color, edgecolor=color, alpha=0.7)\n",
    "\n",
    "        # Label the silhouette plots with their cluster numbers at the middle\n",
    "        ax1.text(-0.05, y_lower + 0.5 * size_cluster_i, str(i))\n",
    "\n",
    "        # Compute the new y_lower for next plot\n",
    "        y_lower = y_upper + 10  # 10 for the 0 samples\n",
    "\n",
    "    ax1.set_title(\"The silhouette plot for the clusters.\")\n",
    "    ax1.set_xlabel(\"The silhouette coefficient values\")\n",
    "    ax1.set_ylabel(\"Cluster label\")\n",
    "\n",
    "    # The vertical line for average silhouette score of all the values\n",
    "    ax1.axvline(x=silhouette_avg, color=\"red\", linestyle=\"--\")\n",
    "\n",
    "    ax1.set_yticks([])  # Clear the yaxis labels / ticks\n",
    "    ax1.set_xticks(np.arange(-1.0, 1.1, 0.2)) # Was: [-0.1, 0, 0.2, 0.4, 0.6, 0.8, 1]\n",
    "\n",
    "    # 2nd Plot showing the actual clusters formed --\n",
    "    # we can only do this for the first two dimensions\n",
    "    # so we may not see fully what is causing the \n",
    "    # resulting assignment\n",
    "    colors = plt.cm.Spectral(cluster_labels.astype(float) / k)\n",
    "    ax2.scatter(gLADrc[gLADrc.columns[0]], gLADrc[gLADrc.columns[1]], marker='.', s=30, lw=0, alpha=0.7,\n",
    "                c=colors)\n",
    "\n",
    "    # Labeling the clusters\n",
    "    centers = clusterer.cluster_centers_\n",
    "    \n",
    "    # Draw white circles at cluster centers\n",
    "    ax2.scatter(centers[:, 0], centers[:, 1],\n",
    "                marker='o', c=\"white\", alpha=1, s=200)\n",
    "\n",
    "    for i, c in enumerate(centers):\n",
    "        ax2.scatter(c[0], c[1], marker='$%d$' % i, alpha=1, s=50)\n",
    "\n",
    "    ax2.set_title(\"Visualization of the clustered data\")\n",
    "    ax2.set_xlabel(\"Feature space for the 1st feature\")\n",
    "    ax2.set_ylabel(\"Feature space for the 2nd feature\")\n",
    "\n",
    "    plt.suptitle((\"Silhouette analysis for KMeans clustering on sample data \"\n",
    "                  \"with n_clusters = %d\" % k),\n",
    "                 fontsize=14, fontweight='bold')\n",
    "\n",
    "    plt.show()\n",
    "\n",
    "print(\"\\n\".join(text))    \n",
    "\n",
    "del(gLADrc)"
   ]
  },
  {
   "cell_type": "code",
   "execution_count": null,
   "metadata": {},
   "outputs": [],
   "source": [
    "#using k=6 as the presence of clusters with higher average silhouette scores \n",
    "#and also due to wide fluctuations in the size of the silhouette plots"
   ]
  },
  {
   "cell_type": "code",
   "execution_count": null,
   "metadata": {},
   "outputs": [],
   "source": [
    "# Adapted from: http://scikit-learn.org/stable/auto_examples/cluster/plot_kmeans_silhouette_analysis.html\n",
    "from sklearn.metrics import silhouette_samples, silhouette_score\n",
    "\n",
    "x = []\n",
    "y = []\n",
    "\n",
    "for k in range(2,41):\n",
    "    \n",
    "    #############\n",
    "    # Do the clustering using the main columns\n",
    "    kmeans = KMeans(n_clusters=k, n_init=25, random_state=42).fit(gLADrc)\n",
    "    \n",
    "    # Calculate the overall silhouette score\n",
    "    silhouette_avg = silhouette_score(gLADrc, kmeans.labels_)\n",
    "    \n",
    "    y.append(k)\n",
    "    x.append(silhouette_avg)\n",
    "    \n",
    "    print('.', end='')\n",
    "\n",
    "print()\n",
    "print(f\"Largest silhouette score was {max(x):6.4f} for k={y[x.index(max(x))]}\")\n",
    "\n",
    "plt.plot(y, x)\n",
    "plt.gcf().suptitle(\"Average Silhouette Scores\");"
   ]
  },
  {
   "cell_type": "code",
   "execution_count": null,
   "metadata": {},
   "outputs": [],
   "source": []
  },
  {
   "cell_type": "markdown",
   "metadata": {},
   "source": [
    "#### DB SCAN"
   ]
  },
  {
   "cell_type": "code",
   "execution_count": null,
   "metadata": {},
   "outputs": [],
   "source": [
    "gLADrc2 = gLADrc[[21100,21200]]\n",
    "gLADrc2.head(100)"
   ]
  },
  {
   "cell_type": "code",
   "execution_count": null,
   "metadata": {},
   "outputs": [],
   "source": [
    "nbrs = NearestNeighbors(n_neighbors=2).fit(gLADrc2)\n",
    "distances, indices = nbrs.kneighbors(gLADrc2)\n",
    "\n",
    "distances = np.sort(distances, axis=0)\n",
    "distances = distances[:,1]\n",
    "plt.plot(distances)\n",
    "plt.gcf().suptitle(\"Nearest Neighbour Distances\");"
   ]
  },
  {
   "cell_type": "code",
   "execution_count": null,
   "metadata": {},
   "outputs": [],
   "source": [
    "c_nm = 'DBSCAN'\n",
    "\n",
    "# Make numeric display a bit neater\n",
    "pd.set_option('display.float_format', lambda x: '{:,.4f}'.format(x))\n",
    "\n",
    "el  = []\n",
    "\n",
    "max_clusters  = 10\n",
    "cluster_count = 1\n",
    "\n",
    "iters = 0\n",
    "\n",
    "for e in np.arange(0.025, 0.25, 0.005):\n",
    "    \n",
    "    if iters % 25==0: print(f\"{iters} epsilons explored.\") \n",
    "    \n",
    "    # Run the clustering\n",
    "    dbs = DBSCAN(eps=e, min_samples=gLADrc2.shape[1]+1).fit(gLADrc2)\n",
    "    \n",
    "    # See how we did\n",
    "    s = pd.Series(dbs.labels_, index=gLADrc2.index, name=c_nm)\n",
    "    \n",
    "    row = [e]\n",
    "    data = s.value_counts()\n",
    "    \n",
    "    for c in range(-1, max_clusters+1):\n",
    "        try:\n",
    "            if np.isnan(data[c]):\n",
    "                row.append(None)\n",
    "            else: \n",
    "                row.append(data[c])\n",
    "        except KeyError:\n",
    "            row.append(None)\n",
    "    \n",
    "    el.append(row)\n",
    "    iters+=1\n",
    "\n",
    "edf = pd.DataFrame(el, columns=['Epsilon']+[\"Cluster \" + str(x) for x in list(range(-1,max_clusters+1))])\n",
    "\n",
    "# Make numeric display a bit neater\n",
    "pd.set_option('display.float_format', lambda x: '{:,.2f}'.format(x))\n",
    "\n",
    "print(\"Done.\")"
   ]
  },
  {
   "cell_type": "code",
   "execution_count": null,
   "metadata": {},
   "outputs": [],
   "source": [
    "odf = pd.DataFrame(columns=['Epsilon','Cluster','Count'])\n",
    "\n",
    "for i in range(0,len(edf.index)):\n",
    "    row = edf.iloc[i,:]\n",
    "    for c in range(1,len(edf.columns.values)):\n",
    "        if row[c] != None and not np.isnan(row[c]):\n",
    "            d = {'Epsilon':row[0], 'Cluster':f\"Cluster {c-2}\", 'Count':row[c]}\n",
    "            odf = odf.append(d, ignore_index=True)\n",
    "\n",
    "odf['Count'] = odf.Count.astype(float)\n",
    "\n",
    "fig, ax = plt.subplots(figsize=(12,8))\n",
    "sns.lineplot(data=odf, x='Epsilon', y='Count', hue='Cluster');\n",
    "ax.vlines(0.06, 0, ax.get_ylim()[1], linestyle='dashed', color='r');"
   ]
  },
  {
   "cell_type": "code",
   "execution_count": null,
   "metadata": {},
   "outputs": [],
   "source": [
    "e = 0.06\n",
    "dbs = DBSCAN(eps=e, min_samples=gLADrc2.shape[1]+1).fit(gLADrc2.values)\n",
    "s = pd.Series(dbs.labels_, index=gLADrc2.index, name=c_nm)\n",
    "rss[c_nm] = s\n",
    "print(s.value_counts())"
   ]
  },
  {
   "cell_type": "code",
   "execution_count": null,
   "metadata": {},
   "outputs": [],
   "source": [
    "fig, ax = plt_ldn(localauth)\n",
    "fig.suptitle(f\"{c_nm} Results\", fontsize=10, y=0.92)\n",
    "rss.plot(column=c_nm, ax=ax, linewidth=0, zorder=0, legend=True, categorical=True);"
   ]
  },
  {
   "cell_type": "code",
   "execution_count": null,
   "metadata": {},
   "outputs": [],
   "source": []
  },
  {
   "cell_type": "code",
   "execution_count": null,
   "metadata": {},
   "outputs": [],
   "source": []
  },
  {
   "cell_type": "code",
   "execution_count": null,
   "metadata": {},
   "outputs": [],
   "source": []
  },
  {
   "cell_type": "code",
   "execution_count": null,
   "metadata": {},
   "outputs": [],
   "source": []
  },
  {
   "cell_type": "code",
   "execution_count": null,
   "metadata": {},
   "outputs": [],
   "source": []
  },
  {
   "cell_type": "code",
   "execution_count": null,
   "metadata": {},
   "outputs": [],
   "source": [
    "def plt_ldn(b):\n",
    "    fig, ax = plt.subplots(1, figsize=(14, 22))\n",
    "    b.plot(ax=ax, edgecolor='#cc2d2d', facecolor='None', zorder=3)\n",
    "    ax.spines['top'].set_visible(False)\n",
    "    ax.spines['right'].set_visible(False)\n",
    "    ax.spines['bottom'].set_visible(False)\n",
    "    ax.spines['left'].set_visible(False)\n",
    "    return fig, ax"
   ]
  },
  {
   "cell_type": "code",
   "execution_count": null,
   "metadata": {},
   "outputs": [],
   "source": []
  },
  {
   "cell_type": "code",
   "execution_count": null,
   "metadata": {},
   "outputs": [],
   "source": []
  },
  {
   "cell_type": "code",
   "execution_count": null,
   "metadata": {},
   "outputs": [],
   "source": [
    "#Freeing Up Memory - free up some RAM by getting rid of some variables and datasets\n",
    "in_scope  = set([x for x in dir() if not x.startswith('_')])\n",
    "to_delete = set(['raw','clean','transformed','col','k','c','lsoac','scdf'])\n",
    "z = list(in_scope.intersection(to_delete))\n",
    "del(z)"
   ]
  },
  {
   "cell_type": "code",
   "execution_count": null,
   "metadata": {},
   "outputs": [],
   "source": []
  },
  {
   "cell_type": "markdown",
   "metadata": {},
   "source": [
    "data_3=pd.read_csv('OC_3.1.csv')"
   ]
  },
  {
   "cell_type": "code",
   "execution_count": null,
   "metadata": {},
   "outputs": [],
   "source": []
  },
  {
   "cell_type": "code",
   "execution_count": null,
   "metadata": {},
   "outputs": [],
   "source": []
  },
  {
   "cell_type": "code",
   "execution_count": null,
   "metadata": {},
   "outputs": [],
   "source": []
  }
 ],
 "metadata": {
  "kernelspec": {
   "display_name": "Python 3",
   "language": "python",
   "name": "python3"
  },
  "language_info": {
   "codemirror_mode": {
    "name": "ipython",
    "version": 3
   },
   "file_extension": ".py",
   "mimetype": "text/x-python",
   "name": "python",
   "nbconvert_exporter": "python",
   "pygments_lexer": "ipython3",
   "version": "3.7.8"
  }
 },
 "nbformat": 4,
 "nbformat_minor": 4
}
